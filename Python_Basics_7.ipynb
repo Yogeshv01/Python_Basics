{
  "nbformat": 4,
  "nbformat_minor": 0,
  "metadata": {
    "colab": {
      "name": "Python_Basics_7.ipynb",
      "provenance": [],
      "authorship_tag": "ABX9TyNgbUQJrqKg1FBvvElwUJQN",
      "include_colab_link": true
    },
    "kernelspec": {
      "name": "python3",
      "display_name": "Python 3"
    },
    "language_info": {
      "name": "python"
    }
  },
  "cells": [
    {
      "cell_type": "markdown",
      "metadata": {
        "id": "view-in-github",
        "colab_type": "text"
      },
      "source": [
        "<a href=\"https://colab.research.google.com/github/Yogeshv01/Python_Basics/blob/main/Python_Basics_7.ipynb\" target=\"_parent\"><img src=\"https://colab.research.google.com/assets/colab-badge.svg\" alt=\"Open In Colab\"/></a>"
      ]
    },
    {
      "cell_type": "markdown",
      "source": [
        "# Tuple\n",
        "\n",
        "Tuple is exactly same as List except that it is immutable. i.e once we creates Tuple object, we cannot perform any changes in that object. Hence Tuple is Read only version of List.\n",
        "\n",
        "If our data is fixed and never changes then we should go for Tuple.\n",
        "\n",
        "Insertion Order is preserved Duplicates are allowed Heterogeneous objects are allowed.\n",
        "\n",
        "We can preserve insertion order and we can differentiate duplicate objects by using index. Hence index will play very important role in Tuple also.\n",
        "\n",
        "Tuple support both +ve and -ve index. +ve index means forward direction (from left to right) and -ve index means backward direction (from right to left)\n",
        "\n",
        "We can represent Tuple elements within Parenthesis and with comma seperator. [ ]"
      ],
      "metadata": {
        "id": "wZf1Sdx8VsPR"
      }
    },
    {
      "cell_type": "code",
      "source": [
        "x = (10,30,40,60)\n",
        "print(type(x))\n",
        "x"
      ],
      "metadata": {
        "colab": {
          "base_uri": "https://localhost:8080/"
        },
        "id": "E_8WJizTVtuk",
        "outputId": "a3a50502-fe01-447f-9dca-3169d7b63fc5"
      },
      "execution_count": 2,
      "outputs": [
        {
          "output_type": "stream",
          "name": "stdout",
          "text": [
            "<class 'tuple'>\n"
          ]
        },
        {
          "output_type": "execute_result",
          "data": {
            "text/plain": [
              "(10, 30, 40, 60)"
            ]
          },
          "metadata": {},
          "execution_count": 2
        }
      ]
    },
    {
      "cell_type": "markdown",
      "source": [
        "Q) Which of the following are valid Tuples?\n",
        "\n",
        "1) t=()    # valid empty tuple\n",
        "\n",
        "2) t=10,20,30,40 #valid tuple\n",
        "\n",
        "3) t=10          # this is not tuple\n",
        "\n",
        "4)t = (10,)      #tuple with single element\n",
        "\n",
        "5) t=(10,20,30,40) #valid tuple\n",
        "\n",
        "6) t = [10,20]   #list\n",
        "\n",
        "tuple(t) #we can change list in to tuple"
      ],
      "metadata": {
        "id": "bEFEE8aRWD-5"
      }
    },
    {
      "cell_type": "code",
      "source": [
        "x = [10,12,15,16]\n",
        "print(tuple(x))\n",
        "x"
      ],
      "metadata": {
        "colab": {
          "base_uri": "https://localhost:8080/"
        },
        "id": "sqdrmXvjWO7S",
        "outputId": "485ebb06-156d-4848-dd19-ae78737439a6"
      },
      "execution_count": 3,
      "outputs": [
        {
          "output_type": "stream",
          "name": "stdout",
          "text": [
            "(10, 12, 15, 16)\n"
          ]
        },
        {
          "output_type": "execute_result",
          "data": {
            "text/plain": [
              "[10, 12, 15, 16]"
            ]
          },
          "metadata": {},
          "execution_count": 3
        }
      ]
    },
    {
      "cell_type": "markdown",
      "source": [
        "### Accessing Elements:\n",
        "\n",
        "By index or by slice operator"
      ],
      "metadata": {
        "id": "qFv06l1UWTf4"
      }
    },
    {
      "cell_type": "code",
      "source": [
        "x = (50,100,150,200)\n",
        "x[1]"
      ],
      "metadata": {
        "colab": {
          "base_uri": "https://localhost:8080/"
        },
        "id": "C_BJTCdKWZey",
        "outputId": "8b8ab2c0-385f-4b2c-c35a-dad481669fe3"
      },
      "execution_count": 4,
      "outputs": [
        {
          "output_type": "execute_result",
          "data": {
            "text/plain": [
              "100"
            ]
          },
          "metadata": {},
          "execution_count": 4
        }
      ]
    },
    {
      "cell_type": "code",
      "source": [
        "x[100]"
      ],
      "metadata": {
        "colab": {
          "base_uri": "https://localhost:8080/",
          "height": 166
        },
        "id": "FtxKy6z1WjQi",
        "outputId": "84e595c2-30dd-49ee-ed59-22d8ed762ffc"
      },
      "execution_count": 5,
      "outputs": [
        {
          "output_type": "error",
          "ename": "IndexError",
          "evalue": "ignored",
          "traceback": [
            "\u001b[0;31m---------------------------------------------------------------------------\u001b[0m",
            "\u001b[0;31mIndexError\u001b[0m                                Traceback (most recent call last)",
            "\u001b[0;32m<ipython-input-5-1c48815fc125>\u001b[0m in \u001b[0;36m<module>\u001b[0;34m()\u001b[0m\n\u001b[0;32m----> 1\u001b[0;31m \u001b[0mx\u001b[0m\u001b[0;34m[\u001b[0m\u001b[0;36m100\u001b[0m\u001b[0;34m]\u001b[0m\u001b[0;34m\u001b[0m\u001b[0;34m\u001b[0m\u001b[0m\n\u001b[0m",
            "\u001b[0;31mIndexError\u001b[0m: tuple index out of range"
          ]
        }
      ]
    },
    {
      "cell_type": "code",
      "source": [
        "# by sice\n",
        "x = (50,100,150,200)\n",
        "x[::] "
      ],
      "metadata": {
        "colab": {
          "base_uri": "https://localhost:8080/"
        },
        "id": "3us3W2pnWkaJ",
        "outputId": "a31fe3c6-d875-472f-d516-95b6e874b3f1"
      },
      "execution_count": 7,
      "outputs": [
        {
          "output_type": "execute_result",
          "data": {
            "text/plain": [
              "(50, 100, 150, 200)"
            ]
          },
          "metadata": {},
          "execution_count": 7
        }
      ]
    },
    {
      "cell_type": "code",
      "source": [
        "x[::-3] #for reverse the tuple"
      ],
      "metadata": {
        "colab": {
          "base_uri": "https://localhost:8080/"
        },
        "id": "hpvafswKWuVp",
        "outputId": "3edc0e98-97bd-4b2d-ecd5-0726aec48ed8"
      },
      "execution_count": 8,
      "outputs": [
        {
          "output_type": "execute_result",
          "data": {
            "text/plain": [
              "(200, 50)"
            ]
          },
          "metadata": {},
          "execution_count": 8
        }
      ]
    },
    {
      "cell_type": "code",
      "source": [
        "x[1:5:2]"
      ],
      "metadata": {
        "colab": {
          "base_uri": "https://localhost:8080/"
        },
        "id": "GP1LoumLWyOT",
        "outputId": "3bd9503d-27fe-4c7c-8f2c-551efd7a9a21"
      },
      "execution_count": 9,
      "outputs": [
        {
          "output_type": "execute_result",
          "data": {
            "text/plain": [
              "(100, 200)"
            ]
          },
          "metadata": {},
          "execution_count": 9
        }
      ]
    },
    {
      "cell_type": "markdown",
      "source": [
        "## Tuple vs Immutability: \n",
        "\n",
        "* If we creates tuple, we can't change its elemnts or contents.\n",
        "* So,tuple objects are immutable."
      ],
      "metadata": {
        "id": "x0HYw5PnW5lp"
      }
    },
    {
      "cell_type": "code",
      "source": [
        "x\n",
        "x[0]"
      ],
      "metadata": {
        "colab": {
          "base_uri": "https://localhost:8080/"
        },
        "id": "u9Oe8eEJXLbI",
        "outputId": "dcd5d4e3-3a10-41a7-ad29-130a5ee33979"
      },
      "execution_count": 11,
      "outputs": [
        {
          "output_type": "execute_result",
          "data": {
            "text/plain": [
              "50"
            ]
          },
          "metadata": {},
          "execution_count": 11
        }
      ]
    },
    {
      "cell_type": "code",
      "source": [
        "x[1]=75"
      ],
      "metadata": {
        "colab": {
          "base_uri": "https://localhost:8080/",
          "height": 166
        },
        "id": "jFJc_LZeXTnp",
        "outputId": "c8227e0f-4eb9-40dd-87b2-7cb132f6b433"
      },
      "execution_count": 12,
      "outputs": [
        {
          "output_type": "error",
          "ename": "TypeError",
          "evalue": "ignored",
          "traceback": [
            "\u001b[0;31m---------------------------------------------------------------------------\u001b[0m",
            "\u001b[0;31mTypeError\u001b[0m                                 Traceback (most recent call last)",
            "\u001b[0;32m<ipython-input-12-5029f205bdac>\u001b[0m in \u001b[0;36m<module>\u001b[0;34m()\u001b[0m\n\u001b[0;32m----> 1\u001b[0;31m \u001b[0mx\u001b[0m\u001b[0;34m[\u001b[0m\u001b[0;36m1\u001b[0m\u001b[0;34m]\u001b[0m\u001b[0;34m=\u001b[0m\u001b[0;36m75\u001b[0m\u001b[0;34m\u001b[0m\u001b[0;34m\u001b[0m\u001b[0m\n\u001b[0m",
            "\u001b[0;31mTypeError\u001b[0m: 'tuple' object does not support item assignment"
          ]
        }
      ]
    },
    {
      "cell_type": "markdown",
      "source": [
        "## Mathematical Operators for Tuple:\n",
        "Here we can apply + and * operators for tuple"
      ],
      "metadata": {
        "id": "TFMTzvDoXbUA"
      }
    },
    {
      "cell_type": "code",
      "source": [
        "#Addition (Concatenation) operator (+)\n",
        "x\n",
        "y= (1,2,3,4,5)\n",
        "z = x+y\n",
        "z"
      ],
      "metadata": {
        "colab": {
          "base_uri": "https://localhost:8080/"
        },
        "id": "Z-SHK2IqXmqx",
        "outputId": "394a4d8a-a262-4239-984c-d5e482e10813"
      },
      "execution_count": 13,
      "outputs": [
        {
          "output_type": "execute_result",
          "data": {
            "text/plain": [
              "(50, 100, 150, 200, 1, 2, 3, 4, 5)"
            ]
          },
          "metadata": {},
          "execution_count": 13
        }
      ]
    },
    {
      "cell_type": "code",
      "source": [
        "# Multiplication Operator OR Repetition Operator (*)\n",
        "x \n",
        "x*2"
      ],
      "metadata": {
        "colab": {
          "base_uri": "https://localhost:8080/"
        },
        "id": "4GA41jCQXy85",
        "outputId": "e0c8176c-1330-401b-92e3-80b685559709"
      },
      "execution_count": 14,
      "outputs": [
        {
          "output_type": "execute_result",
          "data": {
            "text/plain": [
              "(50, 100, 150, 200, 50, 100, 150, 200)"
            ]
          },
          "metadata": {},
          "execution_count": 14
        }
      ]
    },
    {
      "cell_type": "markdown",
      "source": [
        "## Important Functions:"
      ],
      "metadata": {
        "id": "6jGDccedYQyh"
      }
    },
    {
      "cell_type": "code",
      "source": [
        "# len()\n",
        "len(x)"
      ],
      "metadata": {
        "colab": {
          "base_uri": "https://localhost:8080/"
        },
        "id": "6gm-NzQnYWPD",
        "outputId": "6364e9af-48ec-47d3-cad0-15c855048385"
      },
      "execution_count": 15,
      "outputs": [
        {
          "output_type": "execute_result",
          "data": {
            "text/plain": [
              "4"
            ]
          },
          "metadata": {},
          "execution_count": 15
        }
      ]
    },
    {
      "cell_type": "code",
      "source": [
        "#2. count():To return number of occurrences of given element in the tuple\n",
        "x = (50, 100, 150, 200,100)\n",
        "x.count(100)\n"
      ],
      "metadata": {
        "colab": {
          "base_uri": "https://localhost:8080/"
        },
        "id": "1JrOqWtPYji5",
        "outputId": "8c0be7c9-9cfe-49e2-9323-030765297b21"
      },
      "execution_count": 18,
      "outputs": [
        {
          "output_type": "execute_result",
          "data": {
            "text/plain": [
              "2"
            ]
          },
          "metadata": {},
          "execution_count": 18
        }
      ]
    },
    {
      "cell_type": "code",
      "source": [
        "# 3. index(): Returns index of first occurrence of the given element.\n",
        "# If the specified element is not available then we will get ValueError.\n",
        "x.index(150)"
      ],
      "metadata": {
        "colab": {
          "base_uri": "https://localhost:8080/"
        },
        "id": "xCcFX2tGYsiw",
        "outputId": "2b531bb6-d2f7-4468-a928-bf52daafc9af"
      },
      "execution_count": 19,
      "outputs": [
        {
          "output_type": "execute_result",
          "data": {
            "text/plain": [
              "2"
            ]
          },
          "metadata": {},
          "execution_count": 19
        }
      ]
    },
    {
      "cell_type": "code",
      "source": [
        "# 4. sorted(): To sort elements based on default natural sorting order\n",
        "\n",
        "y = sorted(x)\n",
        "y"
      ],
      "metadata": {
        "colab": {
          "base_uri": "https://localhost:8080/"
        },
        "id": "bTrJ-YAmZD4E",
        "outputId": "a158f7d4-9873-4b00-ca3d-30f7c1666a68"
      },
      "execution_count": 20,
      "outputs": [
        {
          "output_type": "execute_result",
          "data": {
            "text/plain": [
              "[50, 100, 100, 150, 200]"
            ]
          },
          "metadata": {},
          "execution_count": 20
        }
      ]
    },
    {
      "cell_type": "code",
      "source": [
        "#We can sort according to reverse of default natural sorting order as follows\n",
        "z = sorted(x, reverse = True)\n",
        "z"
      ],
      "metadata": {
        "colab": {
          "base_uri": "https://localhost:8080/"
        },
        "id": "nGLyFbjZZIi6",
        "outputId": "8b8973d4-0382-46e9-f90d-f878a5a13fec"
      },
      "execution_count": 21,
      "outputs": [
        {
          "output_type": "execute_result",
          "data": {
            "text/plain": [
              "[200, 150, 100, 100, 50]"
            ]
          },
          "metadata": {},
          "execution_count": 21
        }
      ]
    },
    {
      "cell_type": "code",
      "source": [
        "# 5. min() and max() functions:\n",
        "#These functions return min and max values according to default natural sorting order.\n",
        "\n",
        "min(x)"
      ],
      "metadata": {
        "colab": {
          "base_uri": "https://localhost:8080/"
        },
        "id": "5OE0EoCsZMQd",
        "outputId": "ea7de8b4-5c2b-4d09-814f-873e85f9c840"
      },
      "execution_count": 22,
      "outputs": [
        {
          "output_type": "execute_result",
          "data": {
            "text/plain": [
              "50"
            ]
          },
          "metadata": {},
          "execution_count": 22
        }
      ]
    },
    {
      "cell_type": "code",
      "source": [
        "max(x)"
      ],
      "metadata": {
        "colab": {
          "base_uri": "https://localhost:8080/"
        },
        "id": "AyvItiCaZQqb",
        "outputId": "3d918310-c4b2-4d4b-839e-660209600fa0"
      },
      "execution_count": 23,
      "outputs": [
        {
          "output_type": "execute_result",
          "data": {
            "text/plain": [
              "200"
            ]
          },
          "metadata": {},
          "execution_count": 23
        }
      ]
    },
    {
      "cell_type": "markdown",
      "source": [
        "### **Q. What do you mean by packing and unpacking of tuple?(explain with the help of code)**\n",
        "\n",
        "**Packing** = When we create a tuple, we normally assign values to it. This is called \"packing\" a tuple\n",
        "\n",
        "**Unpacking** = But, in Python, we are also allowed to extract the values back into variables. This is called \"unpacking\"\n",
        "     \n",
        "#                              **OR**\n",
        "\n",
        "**Packing and Unpacking a Tuple:** In Python, there is a very powerful tuple assignment feature that assigns the right-hand side of values into the left-hand side. In another way, it is called unpacking of a tuple of values into a variable. In packing, we put values into a new tuple while in unpacking we extract those values into a single variable."
      ],
      "metadata": {
        "id": "CVSB4PDfZXlb"
      }
    },
    {
      "cell_type": "code",
      "source": [
        "# Packing of tuple:-\n",
        "City = (\"Ambajogai\", \"Latur\", \"Parali\")\n",
        "print(City)"
      ],
      "metadata": {
        "colab": {
          "base_uri": "https://localhost:8080/"
        },
        "id": "pAFWj5GRZbTy",
        "outputId": "04caf4b4-3e7e-4f30-99fa-caec7ea6f476"
      },
      "execution_count": 25,
      "outputs": [
        {
          "output_type": "stream",
          "name": "stdout",
          "text": [
            "('Ambajogai', 'Latur', 'Parali')\n"
          ]
        }
      ]
    },
    {
      "cell_type": "code",
      "source": [
        "# Unpacking of tuple:-\n",
        "City = (\"Ambajogai\", \"Latur\", \"Parali\")\n",
        "\n",
        "(NamitaM, AmitD, DM) = City\n",
        "\n",
        "print(NamitaM)\n",
        "print(AmitD)\n",
        "print(DM)"
      ],
      "metadata": {
        "colab": {
          "base_uri": "https://localhost:8080/"
        },
        "id": "AfA0SPAubd7s",
        "outputId": "91df5506-a3ba-4056-fd93-db62f940369e"
      },
      "execution_count": 31,
      "outputs": [
        {
          "output_type": "stream",
          "name": "stdout",
          "text": [
            "Ambajogai\n",
            "Latur\n",
            "Parali\n"
          ]
        }
      ]
    },
    {
      "cell_type": "markdown",
      "source": [
        "## Tuple Comprehension:\n",
        "\n",
        "Tuple Comprehension is not supported by Python.\n",
        "\n",
        "t = ( x**2 for x in range(1,6))\n",
        "\n",
        "Here we are not getting tuple object and we are getting generator object.\n",
        "\n",
        "1) t= ( x**2 for x in range(1,6))\n",
        "\n",
        "2) print(type(t))\n",
        "\n",
        "3) for x in t:\n",
        "\n",
        "4) print(x)"
      ],
      "metadata": {
        "id": "jYzaqqxPct6g"
      }
    },
    {
      "cell_type": "code",
      "source": [
        "y= ( x**3 for x in range(1,8))\n",
        "print(type(y))\n",
        "for x in y:\n",
        "  print(x)"
      ],
      "metadata": {
        "colab": {
          "base_uri": "https://localhost:8080/"
        },
        "id": "SfG_WCaAcwaL",
        "outputId": "e9616932-5673-4c1a-d24f-c0e0cf674200"
      },
      "execution_count": 32,
      "outputs": [
        {
          "output_type": "stream",
          "name": "stdout",
          "text": [
            "<class 'generator'>\n",
            "1\n",
            "8\n",
            "27\n",
            "64\n",
            "125\n",
            "216\n",
            "343\n"
          ]
        }
      ]
    },
    {
      "cell_type": "markdown",
      "source": [
        "### Q. Write a Program to take a Tuple of Numbers from the Keyboard and Print its Sum and Average?"
      ],
      "metadata": {
        "id": "zU4Qo7gkdEeD"
      }
    },
    {
      "cell_type": "code",
      "source": [
        "t = eval(input(\"Enter The Tuple Number : \"))\n",
        "l = len(t)\n",
        "sum = 0\n",
        "for i in t:\n",
        "  sum = sum+i\n",
        "\n",
        "print(\"The Sum :\", sum)\n",
        "print(\"The Average : \", sum/l) "
      ],
      "metadata": {
        "colab": {
          "base_uri": "https://localhost:8080/"
        },
        "id": "Oq7RHzYXdJCB",
        "outputId": "4ca07591-0243-4947-8331-71db9bf0aa04"
      },
      "execution_count": 34,
      "outputs": [
        {
          "output_type": "stream",
          "name": "stdout",
          "text": [
            "Enter The Tuple Number : 5,6,7,8,9\n",
            "The Sum : 35\n",
            "The Average :  7.0\n"
          ]
        }
      ]
    }
  ]
}