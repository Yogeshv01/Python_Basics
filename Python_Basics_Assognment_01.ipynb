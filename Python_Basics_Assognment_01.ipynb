{
  "nbformat": 4,
  "nbformat_minor": 0,
  "metadata": {
    "colab": {
      "name": "Python_Basics_Assognment_01.ipynb",
      "provenance": [],
      "authorship_tag": "ABX9TyPsO1O2InunVEQ+hyvZwgEc",
      "include_colab_link": true
    },
    "kernelspec": {
      "name": "python3",
      "display_name": "Python 3"
    },
    "language_info": {
      "name": "python"
    }
  },
  "cells": [
    {
      "cell_type": "markdown",
      "metadata": {
        "id": "view-in-github",
        "colab_type": "text"
      },
      "source": [
        "<a href=\"https://colab.research.google.com/github/Yogeshv01/Python_Basics/blob/main/Python_Basics_Assognment_01.ipynb\" target=\"_parent\"><img src=\"https://colab.research.google.com/assets/colab-badge.svg\" alt=\"Open In Colab\"/></a>"
      ]
    },
    {
      "cell_type": "markdown",
      "source": [
        "Q1. What is a List?\n",
        "\n",
        "Q1. What is a Tuple?\n",
        "\n",
        "Q1. What is the difference between List and Tuple?\n",
        "\n",
        "Q1. Python Program to find the largest element in the list.\n",
        "\n",
        "Q1. Python program to interchange first and last elements in a list.\n",
        "\n",
        "Q1. Python program to swap two elements in a list.\n",
        "\n",
        "Q1. Python program to Reverse a List.\n",
        "\n",
        "Q1. Python program to count occurrences of an element in a list.\n",
        "\n",
        "Q1. Python program to find the sum of elements in a list.\n",
        "\n",
        "Q1. Python program to Multiply all numbers in the list.\n",
        "\n",
        "Q1. What are the ways to find the length of a list.\n",
        "\n",
        "Q1. Python program to find the smallest and largest number in a list (Without min-max function).\n",
        "\n",
        "Q1. Python Program to find the area of a circle.\n",
        "\n",
        "Take inputs from the user to make a list. Again take one input from the user and search it in the list and delete that element, if found. Iterate over a list using for loop.\n",
        "\n",
        "You are given a list of integer elements. Make a new list that will store a square of elements of the previous list. (With and without list comprehension)\n",
        "\n",
        "i. Input_list = [2,5,6,12]\n",
        "\n",
        "ii. Output_list = [4,25,36,144]"
      ],
      "metadata": {
        "id": "dWZ9VGpsn690"
      }
    },
    {
      "cell_type": "markdown",
      "source": [
        "# Q1. What is a List?\n",
        "\n",
        "# Ans :\n",
        "* List represents a groupnof individual objects as asingle entity.\n",
        "* In List insertion order isvpreserved and duplicates not allowed.\n",
        "* Lists are created using square brackets [] and with comma seperator.\n",
        "* List is dynamic because, as per problem statements we can increase and decrease the size.\n",
        "* In list Heterogeneous objects are allowed.\n",
        "* We can differianciate duplicate elements by using indexing,\n",
        "* Python supports positive and negative idexes.\n",
        "  +ve = left to right \n",
        "  -ve = right to left \n"
      ],
      "metadata": {
        "id": "kBhoiTgxpKmT"
      }
    },
    {
      "cell_type": "markdown",
      "source": [
        "# Q2. What is a Tuple?\n",
        "\n",
        "# Ans \n",
        "\n",
        "* Tuple is exctly same as list i.e immutable (once we create the Tuple we cant not change the content).\n",
        "* Tuple is nothing but read onlt version of List.\n",
        "* Tuple are created using parenthesis brackets and with comma seperator\n",
        "* Insertion order is preserved.\n",
        "* Duplicates are allowed.\n",
        "* Heterogeneous objets are allowed.\n",
        "* We can differianciate duplicate elements by using indexing.\n",
        "* Python supports positive and negative idexes. +ve = left to right -ve = right to left\n",
        "\n",
        "Note: We can take care about single valued tuple, compulsory the value should ends with comma.\n",
        "\n"
      ],
      "metadata": {
        "id": "Vt3D2N9Mpge6"
      }
    },
    {
      "cell_type": "markdown",
      "source": [
        ""
      ],
      "metadata": {
        "id": "uCOo1Ph8t3Eb"
      }
    },
    {
      "cell_type": "markdown",
      "source": [
        "# Q3. What is the difference between List and Tuple?\n",
        "\n",
        "# Ans \n",
        "\n",
        "* List and Tuple are exactly same except small difference : List = Mutable & Tuple = Immutable.\n",
        "* If content is not fixed, it will change again and again then go for List and if contents are fixed ,it will not change then go for Tuple.\n",
        "* List [] with comma seperator and Tuple () with comma seperator.\n"
      ],
      "metadata": {
        "id": "aHR0FNAJt5Zi"
      }
    },
    {
      "cell_type": "markdown",
      "source": [
        "# Q4. Python Program to find the largest element in the list."
      ],
      "metadata": {
        "id": "0eb9p2CZviTU"
      }
    },
    {
      "cell_type": "code",
      "source": [
        "# 1.Program for find the largest element in the list\n",
        "\n",
        "a = [11,23,45,67,78,98,45]\n",
        "print ('Largest Element In The Given List =',max(a))"
      ],
      "metadata": {
        "colab": {
          "base_uri": "https://localhost:8080/"
        },
        "id": "4DsSPThAvph2",
        "outputId": "6b16a7c8-ed8a-4e18-b680-4f375dad7e86"
      },
      "execution_count": 1,
      "outputs": [
        {
          "output_type": "stream",
          "name": "stdout",
          "text": [
            "Largest Element In The Given List = 98\n"
          ]
        }
      ]
    },
    {
      "cell_type": "code",
      "source": [
        "# 2.string type\n",
        "a = [\"Data Science\",\"NLP\"]\n",
        "print ('Largest String In The Given List =',max(a))"
      ],
      "metadata": {
        "colab": {
          "base_uri": "https://localhost:8080/"
        },
        "id": "fzS2UTJRxOif",
        "outputId": "b62bca80-d222-447d-8612-7a1c5b37a0d2"
      },
      "execution_count": 3,
      "outputs": [
        {
          "output_type": "stream",
          "name": "stdout",
          "text": [
            "Largest String In The Given List = NLP\n"
          ]
        }
      ]
    },
    {
      "cell_type": "markdown",
      "source": [
        "# Q5. Python program to interchange first and last elements in a list."
      ],
      "metadata": {
        "id": "9et6zwQzxtbK"
      }
    },
    {
      "cell_type": "code",
      "source": [
        "# to interchange the elements by using index:\n",
        "a = [\"Data Sceince\",33.3,40,1.1,\"NLP\"]\n",
        "\n",
        "b = a[0]\n",
        "c = a[4]\n",
        "a[0]=c\n",
        "a[4]=b\n",
        "print(a)"
      ],
      "metadata": {
        "colab": {
          "base_uri": "https://localhost:8080/"
        },
        "id": "h7s_ZVTux3Ei",
        "outputId": "76606bf0-d05f-4cae-9d13-2c5b54ec41b7"
      },
      "execution_count": 8,
      "outputs": [
        {
          "output_type": "stream",
          "name": "stdout",
          "text": [
            "['NLP', 33.3, 40, 1.1, 'Data Sceince']\n"
          ]
        }
      ]
    },
    {
      "cell_type": "markdown",
      "source": [
        "# Q.6 Python program to swap two elements in a list"
      ],
      "metadata": {
        "id": "zlP0bj28zBkb"
      }
    },
    {
      "cell_type": "code",
      "source": [
        "a = [\"Data Sceince\",33.3,40,1.1,\"NLP\"]\n",
        "\n",
        "b = a[1]\n",
        "c = a[3]\n",
        "a[1]=c\n",
        "a[3]=b\n",
        "print(a)"
      ],
      "metadata": {
        "colab": {
          "base_uri": "https://localhost:8080/"
        },
        "id": "GUHd5LB0zD8y",
        "outputId": "ad2f2a58-3177-4f40-9f24-98d7fd4eb4d4"
      },
      "execution_count": 9,
      "outputs": [
        {
          "output_type": "stream",
          "name": "stdout",
          "text": [
            "['Data Sceince', 1.1, 40, 33.3, 'NLP']\n"
          ]
        }
      ]
    },
    {
      "cell_type": "markdown",
      "source": [
        "# Q.7 Python program to Reverse a List"
      ],
      "metadata": {
        "id": "AAQjovh8zqnS"
      }
    },
    {
      "cell_type": "code",
      "source": [
        "a = [\"Data Sceince\",33.3,40,1.1,\"NLP\"]\n",
        "a[::-1]"
      ],
      "metadata": {
        "colab": {
          "base_uri": "https://localhost:8080/"
        },
        "id": "azKka4yCzr0U",
        "outputId": "60c0f101-6722-4810-887a-8c0d6d4f4bb6"
      },
      "execution_count": 10,
      "outputs": [
        {
          "output_type": "execute_result",
          "data": {
            "text/plain": [
              "['NLP', 1.1, 40, 33.3, 'Data Sceince']"
            ]
          },
          "metadata": {},
          "execution_count": 10
        }
      ]
    },
    {
      "cell_type": "code",
      "source": [
        "b = [\"Data Sceince\",33.3,40,1.1,\"NLP\"]\n",
        "b.reverse()\n",
        "b"
      ],
      "metadata": {
        "colab": {
          "base_uri": "https://localhost:8080/"
        },
        "id": "TgbCsUDg1ysy",
        "outputId": "fa218b66-3a4a-4719-e3f1-71a03fe466f9"
      },
      "execution_count": 12,
      "outputs": [
        {
          "output_type": "execute_result",
          "data": {
            "text/plain": [
              "['NLP', 1.1, 40, 33.3, 'Data Sceince']"
            ]
          },
          "metadata": {},
          "execution_count": 12
        }
      ]
    },
    {
      "cell_type": "markdown",
      "source": [
        "# Q.8 Python program to count occurrences of an element in a list."
      ],
      "metadata": {
        "id": "jCb0tQws1oqq"
      }
    },
    {
      "cell_type": "code",
      "source": [
        "c = [\"Data Sceince\",33.3,40,1.1,\"NLP\",1.1,1.1,1.1]\n",
        "c.count (1.1)"
      ],
      "metadata": {
        "colab": {
          "base_uri": "https://localhost:8080/"
        },
        "id": "rpmPVGMV2KjC",
        "outputId": "32d5eb11-6497-4784-a438-c3cf6c3621cd"
      },
      "execution_count": 15,
      "outputs": [
        {
          "output_type": "execute_result",
          "data": {
            "text/plain": [
              "4"
            ]
          },
          "metadata": {},
          "execution_count": 15
        }
      ]
    },
    {
      "cell_type": "markdown",
      "source": [
        "# Q.9 Python program to find the sum of elements in a list."
      ],
      "metadata": {
        "id": "Gr3vghpW2jOk"
      }
    },
    {
      "cell_type": "code",
      "source": [
        "# E.g 1\n",
        "a = [20,70,55,6.6]\n",
        "\n",
        "sum = 1\n",
        "for i in a:\n",
        "  sum = sum+i\n",
        "print (sum)"
      ],
      "metadata": {
        "colab": {
          "base_uri": "https://localhost:8080/"
        },
        "id": "0caoIS902nvp",
        "outputId": "f317946b-2e11-4338-8ef1-43210fb04d3d"
      },
      "execution_count": 17,
      "outputs": [
        {
          "output_type": "stream",
          "name": "stdout",
          "text": [
            "152.6\n"
          ]
        }
      ]
    },
    {
      "cell_type": "code",
      "source": [
        "# E.g 2\n",
        "a = eval(input(\"List :\"))\n",
        "sum = 1\n",
        "for i in a:\n",
        "  sum=sum+i\n",
        "print(sum)"
      ],
      "metadata": {
        "colab": {
          "base_uri": "https://localhost:8080/"
        },
        "id": "p8_D62lN3Xed",
        "outputId": "a3366a08-3f77-43dd-a394-60da5af61c2e"
      },
      "execution_count": 21,
      "outputs": [
        {
          "output_type": "stream",
          "name": "stdout",
          "text": [
            "List :20,70,55,6.6\n",
            "152.6\n"
          ]
        }
      ]
    },
    {
      "cell_type": "markdown",
      "source": [
        "# Q.10 Python program to Multiply all numbers in the list"
      ],
      "metadata": {
        "id": "I-zfYQSF3_Pq"
      }
    },
    {
      "cell_type": "code",
      "source": [
        "# E.g 1\n",
        "a = [20,70,55,6.6]\n",
        "\n",
        "mul = 1\n",
        "for i in a:\n",
        "  mul = mul*i\n",
        "print (mul)"
      ],
      "metadata": {
        "colab": {
          "base_uri": "https://localhost:8080/"
        },
        "id": "hy9FTBfW4Ama",
        "outputId": "509099ca-012e-4dcf-d9ab-d8bf1821fccc"
      },
      "execution_count": 23,
      "outputs": [
        {
          "output_type": "stream",
          "name": "stdout",
          "text": [
            "508200.0\n"
          ]
        }
      ]
    },
    {
      "cell_type": "code",
      "source": [
        "# E.g 2\n",
        "a = eval(input(\"List :\"))\n",
        "\n",
        "mul = 1\n",
        "for i in a:\n",
        "  mul = mul*i\n",
        "print (mul)"
      ],
      "metadata": {
        "colab": {
          "base_uri": "https://localhost:8080/"
        },
        "id": "QdNbwwJh4V7R",
        "outputId": "9893fdbe-f4fa-4c06-8926-18ce142885a3"
      },
      "execution_count": 25,
      "outputs": [
        {
          "output_type": "stream",
          "name": "stdout",
          "text": [
            "List :20,70,55,6.6\n",
            "508200.0\n"
          ]
        }
      ]
    },
    {
      "cell_type": "markdown",
      "source": [
        "# Q.11 What are the ways to find the length of a list"
      ],
      "metadata": {
        "id": "Sv5nf9rY4hAy"
      }
    },
    {
      "cell_type": "code",
      "source": [
        "a = [20,70,55,6.6]\n",
        "len (a)"
      ],
      "metadata": {
        "colab": {
          "base_uri": "https://localhost:8080/"
        },
        "id": "YsaM2ULu4k16",
        "outputId": "5d355a85-284a-4671-a33d-294de401eea1"
      },
      "execution_count": 27,
      "outputs": [
        {
          "output_type": "execute_result",
          "data": {
            "text/plain": [
              "4"
            ]
          },
          "metadata": {},
          "execution_count": 27
        }
      ]
    },
    {
      "cell_type": "markdown",
      "source": [
        "# Q.12 Python program to find the smallest and largest number in a list (Without min-max function)"
      ],
      "metadata": {
        "id": "ktKVmdvK4w8C"
      }
    },
    {
      "cell_type": "code",
      "source": [
        "# E.g 1\n",
        "x = int(input(\"Number 1st= \"))\n",
        "y = int(input(\"Number 2nd= \"))\n",
        "z = int(input(\"Number 3rd= \"))\n",
        "\n",
        "if x<y and x<z:\n",
        "  print(\"Smallest Number: \",x)\n",
        "elif y<z:\n",
        "  print(\"Smallest Number: \",y)\n",
        "else:\n",
        "  print(\"Smallest Number is: \",z)"
      ],
      "metadata": {
        "colab": {
          "base_uri": "https://localhost:8080/"
        },
        "id": "0C0F5y-B43cy",
        "outputId": "53b1d427-52cf-4f20-ab73-74256b7d5d27"
      },
      "execution_count": 28,
      "outputs": [
        {
          "output_type": "stream",
          "name": "stdout",
          "text": [
            "Number 1st= 67\n",
            "Number 2nd= 78\n",
            "Number 3rd= 33\n",
            "Smallest Number is:  33\n"
          ]
        }
      ]
    },
    {
      "cell_type": "code",
      "source": [
        "# E.g 2\n",
        "a = int(input(\"Number 1st= \"))\n",
        "b = int(input(\"Number 2nd= \"))\n",
        "c = int(input(\"Number 3rd= \"))\n",
        "\n",
        "a if a<b and a<c else b if b<c else c"
      ],
      "metadata": {
        "colab": {
          "base_uri": "https://localhost:8080/"
        },
        "id": "jGrsKVE865mb",
        "outputId": "615e25ca-4964-4eef-fa6b-46a7f9f3444a"
      },
      "execution_count": 31,
      "outputs": [
        {
          "name": "stdout",
          "output_type": "stream",
          "text": [
            "Number 1st= 60\n",
            "Number 2nd= 34\n",
            "Number 3rd= 9\n"
          ]
        },
        {
          "output_type": "execute_result",
          "data": {
            "text/plain": [
              "9"
            ]
          },
          "metadata": {},
          "execution_count": 31
        }
      ]
    },
    {
      "cell_type": "markdown",
      "source": [
        "# Q.13 Python Program to find the area of a circle"
      ],
      "metadata": {
        "id": "RJWhJqA_7VIE"
      }
    },
    {
      "cell_type": "code",
      "source": [
        "import math as m\n",
        "radius = int(input(\"Enter Radius Value : \"))\n",
        "\n",
        "area=m.pi*radius**2\n",
        "\n",
        "print(\"Area of a circle is : \", area)"
      ],
      "metadata": {
        "colab": {
          "base_uri": "https://localhost:8080/"
        },
        "id": "3760Ild07a2c",
        "outputId": "17ae0d79-8db6-43fc-a948-946a756de77e"
      },
      "execution_count": 40,
      "outputs": [
        {
          "output_type": "stream",
          "name": "stdout",
          "text": [
            "Enter Radius Value : 8\n",
            "Area of a circle is :  201.06192982974676\n"
          ]
        }
      ]
    },
    {
      "cell_type": "code",
      "source": [
        "from math import pi\n",
        "area=pi*radius**2\n",
        "\n",
        "print(\"Area of a circle is : \", area)"
      ],
      "metadata": {
        "colab": {
          "base_uri": "https://localhost:8080/"
        },
        "id": "-q8raPFN8q_a",
        "outputId": "cb5edcb9-0629-415e-cb09-64ca7009bfc8"
      },
      "execution_count": 43,
      "outputs": [
        {
          "output_type": "stream",
          "name": "stdout",
          "text": [
            "Area of a circle is :  201.06192982974676\n"
          ]
        }
      ]
    },
    {
      "cell_type": "markdown",
      "source": [
        "# Q14. Take inputs from the user to make a list. Again take one input from the user and search it in the list and delete that element, if found. Iterate over a list using for loop."
      ],
      "metadata": {
        "id": "iShDEi6l84Hx"
      }
    },
    {
      "cell_type": "code",
      "source": [
        "x =eval(input(\"List : \"))\n",
        "z =[]\n",
        "y = eval(input(\"enter int find in list: \"))\n",
        "\n",
        "print(y in x) #check y is in list or not\n",
        "\n",
        "for i in x:  #for loop itrate every value \n",
        "  if i==y:\n",
        "   continue   #if value find in list it will continue and dont print\n",
        "  else:         \n",
        "    z.append(i)\n",
        "print(z)"
      ],
      "metadata": {
        "colab": {
          "base_uri": "https://localhost:8080/"
        },
        "id": "XIx2fHe18515",
        "outputId": "b982b675-03eb-4b5d-bdc3-36d26ebfa215"
      },
      "execution_count": 45,
      "outputs": [
        {
          "output_type": "stream",
          "name": "stdout",
          "text": [
            "List : 3.3,7.8,5.9,5.7\n",
            "enter int find in list: 7.8\n",
            "True\n",
            "[3.3, 5.9, 5.7]\n"
          ]
        }
      ]
    },
    {
      "cell_type": "markdown",
      "source": [
        "# Q15 . You are given a list of integer elements. Make a new list that will store a square of elements of the previous list. (With and without list comprehension)\n",
        "i. Input_list = [2,5,6,12]\n",
        "\n",
        "ii. Output_list = [4,25,36,144"
      ],
      "metadata": {
        "id": "QDJumxHj94_1"
      }
    },
    {
      "cell_type": "code",
      "source": [
        "a = [2,5,6,12]\n",
        "b= []\n",
        "for i in a:\n",
        "  i=i*i # sqr expression\n",
        "  b.append(i) #new list\n",
        "print(b)"
      ],
      "metadata": {
        "colab": {
          "base_uri": "https://localhost:8080/"
        },
        "id": "ORDYPKmY-KR0",
        "outputId": "d6e9fdea-eb65-423c-c18d-b1587b817adc"
      },
      "execution_count": 47,
      "outputs": [
        {
          "output_type": "stream",
          "name": "stdout",
          "text": [
            "[4, 25, 36, 144]\n"
          ]
        }
      ]
    }
  ]
}