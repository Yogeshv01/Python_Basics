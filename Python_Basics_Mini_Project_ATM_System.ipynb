{
  "nbformat": 4,
  "nbformat_minor": 0,
  "metadata": {
    "colab": {
      "name": "Python_Basics_Mini_Project_ATM_System.ipynb",
      "provenance": [],
      "authorship_tag": "ABX9TyOG4PoZtNfdW5pw+rDix623",
      "include_colab_link": true
    },
    "kernelspec": {
      "name": "python3",
      "display_name": "Python 3"
    },
    "language_info": {
      "name": "python"
    }
  },
  "cells": [
    {
      "cell_type": "markdown",
      "metadata": {
        "id": "view-in-github",
        "colab_type": "text"
      },
      "source": [
        "<a href=\"https://colab.research.google.com/github/Yogeshv01/Python_Basics/blob/main/Python_Basics_Mini_Project_ATM_System.ipynb\" target=\"_parent\"><img src=\"https://colab.research.google.com/assets/colab-badge.svg\" alt=\"Open In Colab\"/></a>"
      ]
    },
    {
      "cell_type": "markdown",
      "source": [
        "# Mini Project of ATM SYSTEM"
      ],
      "metadata": {
        "id": "Myb-HCYR_i-g"
      }
    },
    {
      "cell_type": "code",
      "source": [
        "#ATM Program\n",
        "print (\"Welcome to State bank of India\")\n",
        "p=int(input(\"Enter your 4 digit pin number: \"))\n",
        "m = 25000\n",
        "if(p == 1234):\n",
        " print(\"1-Withdraw\")\n",
        " print(\"2-Balance Enquiry\")\n",
        " print(\"3-Fast Cash\")\n",
        "c = int(input(\"Please choose transactions: \"))\n",
        "if(c == 1):\n",
        "   w=int(input(\"Enter withdraw amount: \"))\n",
        "   if (w < m and w%100 == 0):\n",
        "    print(\"Please take your amount:\", w)\n",
        "   else:\n",
        "    print(\"Invalid cash\")\n",
        "elif(c==2):\n",
        "   print(\"Your available amount : \",m)\n",
        "\n",
        "elif (c == 3):\n",
        "   print(\"1->5,000\")\n",
        "   print(\"2->10,000\")\n",
        "   print(\"3->15,000\")\n",
        "   print(\"4->20,000\")\n",
        "   f = int(input(\"Enter fast cash option: \"))\n",
        "   if (f == 1 and 5000 < m):\n",
        "    print(\"please take cash 5000\")\n",
        "   elif (f == 2 and 10000 < m):\n",
        "    print(\"please take cash 10000\")\n",
        "   elif (f == 3 and 15000 < m):\n",
        "    print(\"please take cash 15000\")\n",
        "   elif (f == 4 and 20000 < m):\n",
        "    print(\"please take cash 20000\")\n",
        "   else:\n",
        "    print(\"Invalid fast cash option\")\n",
        "else:\n",
        "    print(\"Wrong choice\") "
      ],
      "metadata": {
        "colab": {
          "base_uri": "https://localhost:8080/"
        },
        "id": "FX1DTusY_j8K",
        "outputId": "76a2c78f-e445-49ef-e428-1e772965d124"
      },
      "execution_count": 4,
      "outputs": [
        {
          "output_type": "stream",
          "name": "stdout",
          "text": [
            "Welcome to State bank of India\n",
            "Enter your 4 digit pin number: 2019\n",
            "Please choose transactions: 1\n",
            "Enter withdraw amount: 1500\n",
            "Please take your amount: 1500\n"
          ]
        }
      ]
    }
  ]
}