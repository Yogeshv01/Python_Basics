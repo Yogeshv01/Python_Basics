{
  "nbformat": 4,
  "nbformat_minor": 0,
  "metadata": {
    "colab": {
      "name": "Python_Basics_2.ipynb",
      "provenance": [],
      "authorship_tag": "ABX9TyNf2zhIWAe0SL6L56gLt54l",
      "include_colab_link": true
    },
    "kernelspec": {
      "name": "python3",
      "display_name": "Python 3"
    },
    "language_info": {
      "name": "python"
    }
  },
  "cells": [
    {
      "cell_type": "markdown",
      "metadata": {
        "id": "view-in-github",
        "colab_type": "text"
      },
      "source": [
        "<a href=\"https://colab.research.google.com/github/Yogeshv01/Python_Basics/blob/main/Python_Basics_2.ipynb\" target=\"_parent\"><img src=\"https://colab.research.google.com/assets/colab-badge.svg\" alt=\"Open In Colab\"/></a>"
      ]
    },
    {
      "cell_type": "markdown",
      "source": [
        "Conversion of Data Type"
      ],
      "metadata": {
        "id": "rfCphft_4EJN"
      }
    },
    {
      "cell_type": "code",
      "source": [
        "# float to int:\n",
        "int(777)"
      ],
      "metadata": {
        "colab": {
          "base_uri": "https://localhost:8080/"
        },
        "id": "LASDPwKz4XiE",
        "outputId": "22c74be1-2eae-4582-e14f-80335adb20c9"
      },
      "execution_count": 5,
      "outputs": [
        {
          "output_type": "execute_result",
          "data": {
            "text/plain": [
              "777"
            ]
          },
          "metadata": {},
          "execution_count": 5
        }
      ]
    },
    {
      "cell_type": "code",
      "source": [
        "# int to float:\n",
        "float(987)\n"
      ],
      "metadata": {
        "colab": {
          "base_uri": "https://localhost:8080/"
        },
        "id": "zM3cXGuc4dRV",
        "outputId": "0d1efe2b-f63e-4d89-a004-348547a49c0d"
      },
      "execution_count": 7,
      "outputs": [
        {
          "output_type": "execute_result",
          "data": {
            "text/plain": [
              "987.0"
            ]
          },
          "metadata": {},
          "execution_count": 7
        }
      ]
    },
    {
      "cell_type": "code",
      "source": [
        "# int to str:\n",
        "str(689)"
      ],
      "metadata": {
        "colab": {
          "base_uri": "https://localhost:8080/",
          "height": 36
        },
        "id": "5KhHxtQY5EVu",
        "outputId": "560133ff-3cb9-4c3a-9898-f1a81dd1af48"
      },
      "execution_count": 8,
      "outputs": [
        {
          "output_type": "execute_result",
          "data": {
            "text/plain": [
              "'689'"
            ],
            "application/vnd.google.colaboratory.intrinsic+json": {
              "type": "string"
            }
          },
          "metadata": {},
          "execution_count": 8
        }
      ]
    },
    {
      "cell_type": "code",
      "source": [
        "# float to str:\n",
        "str(44.78)"
      ],
      "metadata": {
        "colab": {
          "base_uri": "https://localhost:8080/",
          "height": 36
        },
        "id": "z2lxQlgE5KJ3",
        "outputId": "d6b30645-4377-4c39-974a-37906b015dbb"
      },
      "execution_count": 11,
      "outputs": [
        {
          "output_type": "execute_result",
          "data": {
            "text/plain": [
              "'44.78'"
            ],
            "application/vnd.google.colaboratory.intrinsic+json": {
              "type": "string"
            }
          },
          "metadata": {},
          "execution_count": 11
        }
      ]
    },
    {
      "cell_type": "code",
      "source": [
        "# Complex data type:\n",
        "complex (10)"
      ],
      "metadata": {
        "colab": {
          "base_uri": "https://localhost:8080/"
        },
        "id": "DXJSqXjV6-bN",
        "outputId": "0088da36-0362-4b3f-f1d7-f40fbce7784e"
      },
      "execution_count": 12,
      "outputs": [
        {
          "output_type": "execute_result",
          "data": {
            "text/plain": [
              "(10+0j)"
            ]
          },
          "metadata": {},
          "execution_count": 12
        }
      ]
    },
    {
      "cell_type": "code",
      "source": [
        "complex(true)"
      ],
      "metadata": {
        "colab": {
          "base_uri": "https://localhost:8080/",
          "height": 172
        },
        "id": "RDkMyHev7KRg",
        "outputId": "679c00fd-fa38-4de8-dfae-58a528108a3b"
      },
      "execution_count": 13,
      "outputs": [
        {
          "output_type": "error",
          "ename": "NameError",
          "evalue": "ignored",
          "traceback": [
            "\u001b[0;31m---------------------------------------------------------------------------\u001b[0m",
            "\u001b[0;31mNameError\u001b[0m                                 Traceback (most recent call last)",
            "\u001b[0;32m<ipython-input-13-60c01543b45a>\u001b[0m in \u001b[0;36m<module>\u001b[0;34m()\u001b[0m\n\u001b[0;32m----> 1\u001b[0;31m \u001b[0mcomplex\u001b[0m\u001b[0;34m(\u001b[0m\u001b[0mtrue\u001b[0m\u001b[0;34m)\u001b[0m\u001b[0;34m\u001b[0m\u001b[0;34m\u001b[0m\u001b[0m\n\u001b[0m",
            "\u001b[0;31mNameError\u001b[0m: name 'true' is not defined"
          ]
        }
      ]
    },
    {
      "cell_type": "code",
      "source": [
        "true = 1\n",
        "false = 0\n",
        "complex(true)"
      ],
      "metadata": {
        "colab": {
          "base_uri": "https://localhost:8080/"
        },
        "id": "hKZrcK997Rqt",
        "outputId": "3476379c-7c50-457f-ffd1-12f197c2c679"
      },
      "execution_count": 12,
      "outputs": [
        {
          "output_type": "execute_result",
          "data": {
            "text/plain": [
              "(1+0j)"
            ]
          },
          "metadata": {},
          "execution_count": 12
        }
      ]
    },
    {
      "cell_type": "code",
      "source": [
        "complex(false)"
      ],
      "metadata": {
        "colab": {
          "base_uri": "https://localhost:8080/"
        },
        "id": "lKeqNr_87cMX",
        "outputId": "789df78b-0b0b-4720-ce4b-65cfb36fae3d"
      },
      "execution_count": 15,
      "outputs": [
        {
          "output_type": "execute_result",
          "data": {
            "text/plain": [
              "0j"
            ]
          },
          "metadata": {},
          "execution_count": 15
        }
      ]
    },
    {
      "cell_type": "code",
      "source": [
        "complex(90,10)"
      ],
      "metadata": {
        "colab": {
          "base_uri": "https://localhost:8080/"
        },
        "id": "-QDChyDP7fim",
        "outputId": "63e59b15-a60c-42da-9aa3-7a28ad55f250"
      },
      "execution_count": 16,
      "outputs": [
        {
          "output_type": "execute_result",
          "data": {
            "text/plain": [
              "(90+10j)"
            ]
          },
          "metadata": {},
          "execution_count": 16
        }
      ]
    },
    {
      "cell_type": "code",
      "source": [
        "# Without Bytes data types:\n",
        "r = [100,101,102,103,104,258]\n",
        "type(r)\n"
      ],
      "metadata": {
        "colab": {
          "base_uri": "https://localhost:8080/"
        },
        "id": "qQ56TlUw8dsm",
        "outputId": "2b72fdef-8c86-41bb-cf9d-20d35bb25878"
      },
      "execution_count": 20,
      "outputs": [
        {
          "output_type": "execute_result",
          "data": {
            "text/plain": [
              "list"
            ]
          },
          "metadata": {},
          "execution_count": 20
        }
      ]
    },
    {
      "cell_type": "code",
      "source": [
        "x = 20\n",
        "y = 11\n",
        "\n",
        "print(x is y)\n",
        "print(type(x))\n",
        "print(type(y))\n",
        "print(id(x))\n",
        "print(id(y))"
      ],
      "metadata": {
        "colab": {
          "base_uri": "https://localhost:8080/"
        },
        "id": "mOtyQ0Nd8Fjk",
        "outputId": "2794be89-349c-4864-cf32-9a0b6fc22e2d"
      },
      "execution_count": 17,
      "outputs": [
        {
          "output_type": "stream",
          "name": "stdout",
          "text": [
            "False\n",
            "<class 'int'>\n",
            "<class 'int'>\n",
            "94633814744160\n",
            "94633814743872\n"
          ]
        }
      ]
    },
    {
      "cell_type": "markdown",
      "source": [
        "# List"
      ],
      "metadata": {
        "id": "praTlPKYSWf1"
      }
    },
    {
      "cell_type": "code",
      "source": [
        "r = [100,101,102,103,104,258]\n",
        "bytes (r)"
      ],
      "metadata": {
        "colab": {
          "base_uri": "https://localhost:8080/",
          "height": 190
        },
        "id": "2G8gcVGl81cv",
        "outputId": "3a4dc2d5-a7f0-4767-a66f-6af7ca88ad05"
      },
      "execution_count": 23,
      "outputs": [
        {
          "output_type": "error",
          "ename": "ValueError",
          "evalue": "ignored",
          "traceback": [
            "\u001b[0;31m---------------------------------------------------------------------------\u001b[0m",
            "\u001b[0;31mValueError\u001b[0m                                Traceback (most recent call last)",
            "\u001b[0;32m<ipython-input-23-a3724d4c3a26>\u001b[0m in \u001b[0;36m<module>\u001b[0;34m()\u001b[0m\n\u001b[1;32m      1\u001b[0m \u001b[0mr\u001b[0m \u001b[0;34m=\u001b[0m \u001b[0;34m[\u001b[0m\u001b[0;36m100\u001b[0m\u001b[0;34m,\u001b[0m\u001b[0;36m101\u001b[0m\u001b[0;34m,\u001b[0m\u001b[0;36m102\u001b[0m\u001b[0;34m,\u001b[0m\u001b[0;36m103\u001b[0m\u001b[0;34m,\u001b[0m\u001b[0;36m104\u001b[0m\u001b[0;34m,\u001b[0m\u001b[0;36m258\u001b[0m\u001b[0;34m]\u001b[0m\u001b[0;34m\u001b[0m\u001b[0;34m\u001b[0m\u001b[0m\n\u001b[0;32m----> 2\u001b[0;31m \u001b[0mbytes\u001b[0m \u001b[0;34m(\u001b[0m\u001b[0mr\u001b[0m\u001b[0;34m)\u001b[0m\u001b[0;34m\u001b[0m\u001b[0;34m\u001b[0m\u001b[0m\n\u001b[0m",
            "\u001b[0;31mValueError\u001b[0m: bytes must be in range(0, 256)"
          ]
        }
      ]
    },
    {
      "cell_type": "code",
      "source": [
        "r = [100,101,102,103,104]\n",
        "bytes (r)"
      ],
      "metadata": {
        "colab": {
          "base_uri": "https://localhost:8080/"
        },
        "id": "dlFFj-yZ8-a1",
        "outputId": "e3f62540-e17e-49b2-e05c-c793e9c7aaf7"
      },
      "execution_count": 24,
      "outputs": [
        {
          "output_type": "execute_result",
          "data": {
            "text/plain": [
              "b'defgh'"
            ]
          },
          "metadata": {},
          "execution_count": 24
        }
      ]
    },
    {
      "cell_type": "code",
      "source": [
        "a = [25, 50, 54, 78, 100, 167]\n",
        "a[1] = 72\n",
        "a\n"
      ],
      "metadata": {
        "colab": {
          "base_uri": "https://localhost:8080/"
        },
        "id": "ZRJaWPJHNROd",
        "outputId": "3536a876-9c00-40df-fcbc-6f43817cbed8"
      },
      "execution_count": 2,
      "outputs": [
        {
          "output_type": "execute_result",
          "data": {
            "text/plain": [
              "[25, 72, 54, 78, 100, 167]"
            ]
          },
          "metadata": {},
          "execution_count": 2
        }
      ]
    },
    {
      "cell_type": "code",
      "source": [
        "for m in a:\n",
        "  print (m)"
      ],
      "metadata": {
        "colab": {
          "base_uri": "https://localhost:8080/"
        },
        "id": "I_j8-Uq6NbIM",
        "outputId": "aebc3cce-d7c4-4ede-abb4-89785208abb3"
      },
      "execution_count": 9,
      "outputs": [
        {
          "output_type": "stream",
          "name": "stdout",
          "text": [
            "25\n",
            "72\n",
            "54\n",
            "78\n",
            "100\n",
            "167\n"
          ]
        }
      ]
    },
    {
      "cell_type": "code",
      "source": [
        "# List data type:\n",
        "# various data types included in it:\n",
        "list = [45, 22.56, \"Data Science\", true, false, 12.20, 77]\n",
        "print(list)"
      ],
      "metadata": {
        "colab": {
          "base_uri": "https://localhost:8080/"
        },
        "id": "0z4YLAuDO2y9",
        "outputId": "aa6b2fc6-213c-4038-9640-3d6f873df729"
      },
      "execution_count": 13,
      "outputs": [
        {
          "output_type": "stream",
          "name": "stdout",
          "text": [
            "[45, 22.56, 'Data Science', 1, 0, 12.2, 77]\n"
          ]
        }
      ]
    },
    {
      "cell_type": "code",
      "source": [
        "# Add list data:\n",
        "list.append(100)\n",
        "print(list)"
      ],
      "metadata": {
        "colab": {
          "base_uri": "https://localhost:8080/"
        },
        "id": "ltojV8INPekd",
        "outputId": "ab558f6b-f6df-4250-a01a-3c865f42beca"
      },
      "execution_count": 14,
      "outputs": [
        {
          "output_type": "stream",
          "name": "stdout",
          "text": [
            "[45, 22.56, 'Data Science', 1, 0, 12.2, 77, 100]\n"
          ]
        }
      ]
    },
    {
      "cell_type": "code",
      "source": [
        "# remove list data:\n",
        "list.remove(100)\n",
        "print(list)"
      ],
      "metadata": {
        "colab": {
          "base_uri": "https://localhost:8080/"
        },
        "id": "vAlbcw1PPk3r",
        "outputId": "2f510c58-11a2-4ccb-86e9-c4145081493d"
      },
      "execution_count": 16,
      "outputs": [
        {
          "output_type": "stream",
          "name": "stdout",
          "text": [
            "[45, 22.56, 'Data Science', 1, 0, 12.2, 77, 500]\n"
          ]
        }
      ]
    },
    {
      "cell_type": "code",
      "source": [
        "# Tuple data types:\n",
        "x =(20,30,40,50,60,70,80)\n",
        "type(x)"
      ],
      "metadata": {
        "colab": {
          "base_uri": "https://localhost:8080/"
        },
        "id": "wOgFDSB0P5OU",
        "outputId": "6c766966-c13c-4aef-c151-88352322a058"
      },
      "execution_count": 19,
      "outputs": [
        {
          "output_type": "execute_result",
          "data": {
            "text/plain": [
              "tuple"
            ]
          },
          "metadata": {},
          "execution_count": 19
        }
      ]
    },
    {
      "cell_type": "code",
      "source": [
        "# To add double no in list:\n",
        "list = list*2\n",
        "print(list)"
      ],
      "metadata": {
        "colab": {
          "base_uri": "https://localhost:8080/"
        },
        "id": "JxU22PtMPyMF",
        "outputId": "9d278eb5-3755-44f1-a3f1-dba7873eefc7"
      },
      "execution_count": 18,
      "outputs": [
        {
          "output_type": "stream",
          "name": "stdout",
          "text": [
            "[45, 22.56, 'Data Science', 1, 0, 12.2, 77, 500, 45, 22.56, 'Data Science', 1, 0, 12.2, 77, 500]\n"
          ]
        }
      ]
    },
    {
      "cell_type": "markdown",
      "source": [
        "# Tuple\n"
      ],
      "metadata": {
        "id": "JrRLZoYjRwv3"
      }
    },
    {
      "cell_type": "code",
      "source": [
        "# As compare to tuple with list:\n",
        "x = [20,30,40,50,60,70,80]\n",
        "type(x)"
      ],
      "metadata": {
        "colab": {
          "base_uri": "https://localhost:8080/"
        },
        "id": "moriPJ0-P78F",
        "outputId": "b256bca0-8877-42cb-a173-8f04ef74e8d5"
      },
      "execution_count": 20,
      "outputs": [
        {
          "output_type": "execute_result",
          "data": {
            "text/plain": [
              "list"
            ]
          },
          "metadata": {},
          "execution_count": 20
        }
      ]
    },
    {
      "cell_type": "code",
      "source": [
        "#1 range data type:\n",
        "range(10)"
      ],
      "metadata": {
        "colab": {
          "base_uri": "https://localhost:8080/"
        },
        "id": "aFhOpEUzP_yF",
        "outputId": "2fbe71fa-799b-45ac-87ee-7c29ca2d5596"
      },
      "execution_count": 21,
      "outputs": [
        {
          "output_type": "execute_result",
          "data": {
            "text/plain": [
              "range(0, 10)"
            ]
          },
          "metadata": {},
          "execution_count": 21
        }
      ]
    },
    {
      "cell_type": "code",
      "source": [
        "for i in range(10):\n",
        "  print(i)"
      ],
      "metadata": {
        "colab": {
          "base_uri": "https://localhost:8080/"
        },
        "id": "EdvRGBohQCLc",
        "outputId": "cf3a9e36-9de2-48df-e93c-0f4deb6f4673"
      },
      "execution_count": 22,
      "outputs": [
        {
          "output_type": "stream",
          "name": "stdout",
          "text": [
            "0\n",
            "1\n",
            "2\n",
            "3\n",
            "4\n",
            "5\n",
            "6\n",
            "7\n",
            "8\n",
            "9\n"
          ]
        }
      ]
    },
    {
      "cell_type": "code",
      "source": [
        "m = range(20, 35)\n",
        "for i in m:\n",
        "  print(i)"
      ],
      "metadata": {
        "colab": {
          "base_uri": "https://localhost:8080/"
        },
        "id": "kNuiw0DHQF9G",
        "outputId": "1471d821-1eb6-4fb4-ff3e-e08d28a7e35d"
      },
      "execution_count": 23,
      "outputs": [
        {
          "output_type": "stream",
          "name": "stdout",
          "text": [
            "20\n",
            "21\n",
            "22\n",
            "23\n",
            "24\n",
            "25\n",
            "26\n",
            "27\n",
            "28\n",
            "29\n",
            "30\n",
            "31\n",
            "32\n",
            "33\n",
            "34\n"
          ]
        }
      ]
    },
    {
      "cell_type": "markdown",
      "source": [
        "# Set"
      ],
      "metadata": {
        "id": "E6ob5_CZSte3"
      }
    },
    {
      "cell_type": "code",
      "source": [
        "# Set data type:\n",
        "s = {45, 22.56, \"Data Science\", true, false, 12.20, 77}\n",
        "type(s)"
      ],
      "metadata": {
        "colab": {
          "base_uri": "https://localhost:8080/"
        },
        "id": "bA5d-8IFQL_d",
        "outputId": "3de1290e-3a4d-49aa-e6c0-94d5343da5ee"
      },
      "execution_count": 25,
      "outputs": [
        {
          "output_type": "execute_result",
          "data": {
            "text/plain": [
              "set"
            ]
          },
          "metadata": {},
          "execution_count": 25
        }
      ]
    },
    {
      "cell_type": "code",
      "source": [
        "s = {45, 0, 22.56, \"Data Science\", true, false, 12.20, 77}\n",
        "print(type(s))\n",
        "print(id(s))"
      ],
      "metadata": {
        "colab": {
          "base_uri": "https://localhost:8080/"
        },
        "id": "qsxs1fWTQVOl",
        "outputId": "6b970e79-1435-4b40-aee5-0e08f3d84b72"
      },
      "execution_count": 26,
      "outputs": [
        {
          "output_type": "stream",
          "name": "stdout",
          "text": [
            "<class 'set'>\n",
            "139804532927136\n"
          ]
        }
      ]
    },
    {
      "cell_type": "code",
      "source": [
        "s = {45, 0, 22.56, \"Data Science\", true, false, 12.20, 77}\n",
        "s"
      ],
      "metadata": {
        "colab": {
          "base_uri": "https://localhost:8080/"
        },
        "id": "NYqv8zbkQXM1",
        "outputId": "6184b1db-1742-4586-f794-be61c67b23e9"
      },
      "execution_count": 27,
      "outputs": [
        {
          "output_type": "execute_result",
          "data": {
            "text/plain": [
              "{0, 1, 12.2, 22.56, 45, 77, 'Data Science'}"
            ]
          },
          "metadata": {},
          "execution_count": 27
        }
      ]
    },
    {
      "cell_type": "code",
      "source": [
        "s.add(329)\n",
        "s"
      ],
      "metadata": {
        "colab": {
          "base_uri": "https://localhost:8080/"
        },
        "id": "El6zS4KlQdd0",
        "outputId": "f99b9a17-2fc9-489a-f265-3ad58718d2c0"
      },
      "execution_count": 28,
      "outputs": [
        {
          "output_type": "execute_result",
          "data": {
            "text/plain": [
              "{0, 1, 12.2, 22.56, 329, 45, 77, 'Data Science'}"
            ]
          },
          "metadata": {},
          "execution_count": 28
        }
      ]
    },
    {
      "cell_type": "code",
      "source": [
        "s.remove(77)\n",
        "s"
      ],
      "metadata": {
        "colab": {
          "base_uri": "https://localhost:8080/"
        },
        "id": "EMYxCeHXQgCe",
        "outputId": "bd1493ed-a3e0-4b1b-a476-5ab715969902"
      },
      "execution_count": 29,
      "outputs": [
        {
          "output_type": "execute_result",
          "data": {
            "text/plain": [
              "{0, 1, 12.2, 22.56, 329, 45, 'Data Science'}"
            ]
          },
          "metadata": {},
          "execution_count": 29
        }
      ]
    },
    {
      "cell_type": "code",
      "source": [
        "# Frezen data type:\n",
        "s = {45, 0, 22.56, \"Data Science\", true, false, 12.20, 77}\n",
        "fs = frozenset(s)\n",
        "type(fs)"
      ],
      "metadata": {
        "colab": {
          "base_uri": "https://localhost:8080/"
        },
        "id": "Hjc22IheQiO2",
        "outputId": "f26a5227-ea19-44a9-e2ee-9627e47d738b"
      },
      "execution_count": 30,
      "outputs": [
        {
          "output_type": "execute_result",
          "data": {
            "text/plain": [
              "frozenset"
            ]
          },
          "metadata": {},
          "execution_count": 30
        }
      ]
    },
    {
      "cell_type": "code",
      "source": [
        "s = {45, 0, 22.56, \"Data Science\", true, false, 12.20, 77}\n",
        "fs = frozenset(s)\n",
        "type(s)"
      ],
      "metadata": {
        "colab": {
          "base_uri": "https://localhost:8080/"
        },
        "id": "n3ViQzOXQjaW",
        "outputId": "32326728-af59-4e21-b4e6-cb35255a4f6c"
      },
      "execution_count": 31,
      "outputs": [
        {
          "output_type": "execute_result",
          "data": {
            "text/plain": [
              "set"
            ]
          },
          "metadata": {},
          "execution_count": 31
        }
      ]
    },
    {
      "cell_type": "markdown",
      "source": [
        "# Dictionary"
      ],
      "metadata": {
        "id": "4vo9RqnKS2P-"
      }
    },
    {
      "cell_type": "code",
      "source": [
        "# Dict data type:\n",
        "d = {1:'manoj', 2:'rohit', 3:'ganesh', 4:'shailesh'}\n",
        "type(d)"
      ],
      "metadata": {
        "colab": {
          "base_uri": "https://localhost:8080/"
        },
        "id": "DbWYiwk0QsYk",
        "outputId": "9bbea336-055a-4014-d60f-2aa7db2f3362"
      },
      "execution_count": 33,
      "outputs": [
        {
          "output_type": "execute_result",
          "data": {
            "text/plain": [
              "dict"
            ]
          },
          "metadata": {},
          "execution_count": 33
        }
      ]
    },
    {
      "cell_type": "code",
      "source": [
        "d = {1:'manoj', 2:'rohit', 3:'ganesh', 4:'shailesh'}\n",
        "d[3] = 'mahesh'\n",
        "print(d)"
      ],
      "metadata": {
        "colab": {
          "base_uri": "https://localhost:8080/"
        },
        "id": "uqQGnph7QzRd",
        "outputId": "13e20bf6-d60d-4f15-c05d-db9407275818"
      },
      "execution_count": 34,
      "outputs": [
        {
          "output_type": "stream",
          "name": "stdout",
          "text": [
            "{1: 'manoj', 2: 'rohit', 3: 'mahesh', 4: 'shailesh'}\n"
          ]
        }
      ]
    },
    {
      "cell_type": "code",
      "source": [
        "d = {1:'manoj', 2:'rohit', 3:'ganesh', 4:'shailesh'}\n",
        "d[4] = 'akshay'\n",
        "print(d)"
      ],
      "metadata": {
        "colab": {
          "base_uri": "https://localhost:8080/"
        },
        "id": "i0c7CX7-Q1xc",
        "outputId": "fa5b1edf-2db2-43b9-baac-4bb1e126603c"
      },
      "execution_count": 35,
      "outputs": [
        {
          "output_type": "stream",
          "name": "stdout",
          "text": [
            "{1: 'manoj', 2: 'rohit', 3: 'ganesh', 4: 'akshay'}\n"
          ]
        }
      ]
    },
    {
      "cell_type": "code",
      "source": [
        "#None data type:\n",
        "def m1():\n",
        "  p =15\n",
        "  print(m())\n",
        "  type(m)"
      ],
      "metadata": {
        "id": "xkf2l3GXQ3_E"
      },
      "execution_count": 37,
      "outputs": []
    },
    {
      "cell_type": "code",
      "source": [
        "def multiply (x,y):\n",
        "  print(x*y)"
      ],
      "metadata": {
        "id": "_ExNMKMURAGO"
      },
      "execution_count": 38,
      "outputs": []
    },
    {
      "cell_type": "code",
      "source": [
        "multiply (15,5)"
      ],
      "metadata": {
        "colab": {
          "base_uri": "https://localhost:8080/"
        },
        "id": "KyN7OO9yRBpF",
        "outputId": "250bc31e-065d-4046-93a2-7ffeeaa0b612"
      },
      "execution_count": 39,
      "outputs": [
        {
          "output_type": "stream",
          "name": "stdout",
          "text": [
            "75\n"
          ]
        }
      ]
    },
    {
      "cell_type": "code",
      "source": [
        "multiply (452,986)"
      ],
      "metadata": {
        "colab": {
          "base_uri": "https://localhost:8080/"
        },
        "id": "0FRzRY1JRG8P",
        "outputId": "73ff1cb8-2208-41c8-e6d7-ccd811b0a2a1"
      },
      "execution_count": 40,
      "outputs": [
        {
          "output_type": "stream",
          "name": "stdout",
          "text": [
            "445672\n"
          ]
        }
      ]
    },
    {
      "cell_type": "code",
      "source": [
        "def add (a,b):\n",
        "  print(a+b)"
      ],
      "metadata": {
        "id": "uXQOd0JDRKZ9"
      },
      "execution_count": 41,
      "outputs": []
    },
    {
      "cell_type": "code",
      "source": [
        "add (4576, 2288)"
      ],
      "metadata": {
        "colab": {
          "base_uri": "https://localhost:8080/"
        },
        "id": "UOG8kS6fRN8H",
        "outputId": "c5fe8516-28d0-441d-aafd-65b12827579a"
      },
      "execution_count": 42,
      "outputs": [
        {
          "output_type": "stream",
          "name": "stdout",
          "text": [
            "6864\n"
          ]
        }
      ]
    },
    {
      "cell_type": "code",
      "source": [
        "add (25, 35)"
      ],
      "metadata": {
        "colab": {
          "base_uri": "https://localhost:8080/"
        },
        "id": "6BJKfB5GRQ4t",
        "outputId": "5b5d61c8-588a-48fa-905a-7c7c412d67f6"
      },
      "execution_count": 43,
      "outputs": [
        {
          "output_type": "stream",
          "name": "stdout",
          "text": [
            "60\n"
          ]
        }
      ]
    },
    {
      "cell_type": "code",
      "source": [
        "def devide (m,n):\n",
        "  print(m/n)"
      ],
      "metadata": {
        "id": "ilZVkLXJRTUu"
      },
      "execution_count": 44,
      "outputs": []
    },
    {
      "cell_type": "code",
      "source": [
        "devide (1203,3)"
      ],
      "metadata": {
        "colab": {
          "base_uri": "https://localhost:8080/"
        },
        "id": "A2bfNA67RW4O",
        "outputId": "1a078135-f8f2-4018-a97c-f922fda01339"
      },
      "execution_count": 45,
      "outputs": [
        {
          "output_type": "stream",
          "name": "stdout",
          "text": [
            "401.0\n"
          ]
        }
      ]
    },
    {
      "cell_type": "code",
      "source": [
        "def persent(r,t):\n",
        "  print(r%t)"
      ],
      "metadata": {
        "id": "kL0koFO6RbbN"
      },
      "execution_count": 46,
      "outputs": []
    },
    {
      "cell_type": "code",
      "source": [
        "persent (76,150)"
      ],
      "metadata": {
        "colab": {
          "base_uri": "https://localhost:8080/"
        },
        "id": "lq07hzM0RewV",
        "outputId": "8686843a-94c1-4025-88b0-dc3b6ed2d09d"
      },
      "execution_count": 47,
      "outputs": [
        {
          "output_type": "stream",
          "name": "stdout",
          "text": [
            "76\n"
          ]
        }
      ]
    }
  ]
}