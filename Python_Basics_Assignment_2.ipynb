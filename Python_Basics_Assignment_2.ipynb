{
  "nbformat": 4,
  "nbformat_minor": 0,
  "metadata": {
    "colab": {
      "name": "Python_Basics_Assignment_2.ipynb",
      "provenance": [],
      "authorship_tag": "ABX9TyOW5kIPQvmoHIfEZCnnTM/v",
      "include_colab_link": true
    },
    "kernelspec": {
      "name": "python3",
      "display_name": "Python 3"
    },
    "language_info": {
      "name": "python"
    }
  },
  "cells": [
    {
      "cell_type": "markdown",
      "metadata": {
        "id": "view-in-github",
        "colab_type": "text"
      },
      "source": [
        "<a href=\"https://colab.research.google.com/github/Yogeshv01/Python_Basics/blob/main/Python_Basics_Assignment_2.ipynb\" target=\"_parent\"><img src=\"https://colab.research.google.com/assets/colab-badge.svg\" alt=\"Open In Colab\"/></a>"
      ]
    },
    {
      "cell_type": "markdown",
      "source": [
        "Q What’s The Difference Between The Python append() and extend() Methods?\n",
        "\n",
        ".Q Write a Python program to append a list to the second list\n",
        "\n",
        ".Q Write a Python program to find the third-largest number in a list\n",
        "\n",
        ".Q Write a Python program to get the frequency of the elements in a list.\n",
        "\n",
        ".Q Write a Python program to check whether a list contains a sublist\n",
        "\n",
        ".Q Write a Python program to generate all sublists of a list\n",
        "\n",
        ".Q Write a Python program to find common items from two lists\n",
        "\n",
        ".Q How to flatten a list in python?\n",
        "\n",
        ".Q How to sort a list in ascending and descending order without using the sort function?\n",
        "\n",
        ".Q How to sort a tuple?\n",
        "\n",
        ".Q Write a Python program to convert a list of multiple integers into a single integer\n",
        "\n",
        "a. [11, 33, 50] >>> 113350\n",
        "\n",
        ".Q Difference between del and clear?\n",
        "\n",
        ".Q Difference between remove and pop?\n",
        "\n",
        ".Q Difference between indexing and Slicing?\n",
        "\n",
        ".Q Difference between sort and sorted?\n",
        "\n",
        ".Q Difference between reverse and reversed?\n",
        "\n",
        ".Q Difference between copy and deep copy?\n",
        "\n",
        ".Q How to check whether the list is empty or not?\n",
        "\n",
        ".Q How to concatenate two lists?\n",
        "\n",
        ".Q How to find the occurrences of an element in the python list?\n",
        "\n",
        ".Q How to flatten a list in python?"
      ],
      "metadata": {
        "id": "d3j-Mk-IF8C6"
      }
    },
    {
      "cell_type": "markdown",
      "source": [
        "## Q 1) What’s The Difference Between The Python append() and extend() Methods?\n",
        "\n",
        "**APPEND()**\n",
        "\n",
        "•The element passed in the argument is added at the end of the list.\n",
        "\n",
        "•The element passed as an argument will be added as a single element without any changes\n",
        "\n",
        "•The length of the list will increase by 1.\n",
        "\n",
        "•The append() function has a constant time complexity of O(1).\n",
        "\n",
        "**Extend()**\n",
        "\n",
        "•Each element of the iterable is passed as ab argument is added at the end of the list.\n",
        "\n",
        "•The iterable passed as an argument will append each of its elements at the end of the list.\n",
        "\n",
        "•The length of the list will increase by the number of elements in the iterable.\n",
        "\n",
        "•The extend() function has a time complexity of O(k), where \"k\" is the length of the iterable"
      ],
      "metadata": {
        "id": "5iWWgwyLGJo4"
      }
    },
    {
      "cell_type": "code",
      "source": [
        "#append \n",
        "x= [24,24,34,44,54]\n",
        "x.append(64)\n",
        "print(x)"
      ],
      "metadata": {
        "colab": {
          "base_uri": "https://localhost:8080/"
        },
        "id": "xZK2DME0GqfB",
        "outputId": "bf41d1b4-7156-49c1-fb34-733891998d0c"
      },
      "execution_count": 2,
      "outputs": [
        {
          "output_type": "stream",
          "name": "stdout",
          "text": [
            "[24, 24, 34, 44, 54, 64]\n"
          ]
        }
      ]
    },
    {
      "cell_type": "code",
      "source": [
        "#extend\n",
        "y = [74,84,94]\n",
        "\n",
        "x.extend(y)\n",
        "print(x)"
      ],
      "metadata": {
        "colab": {
          "base_uri": "https://localhost:8080/"
        },
        "id": "vz6X1eA5HBrX",
        "outputId": "4edd2b42-8f60-4dad-f62c-5473aff83c66"
      },
      "execution_count": 3,
      "outputs": [
        {
          "output_type": "stream",
          "name": "stdout",
          "text": [
            "[24, 24, 34, 44, 54, 64, 74, 84, 94]\n"
          ]
        }
      ]
    },
    {
      "cell_type": "markdown",
      "source": [
        "## Q2. Write a Python program to append a list to the second list"
      ],
      "metadata": {
        "id": "HFk9OoLTHzap"
      }
    },
    {
      "cell_type": "code",
      "source": [
        "# Using append function\n",
        "\n",
        "list1 = [11,22,33,44,55]\n",
        "list2 = [66,77,\"string\",88]\n",
        "\n",
        "list1.append (list2)\n",
        "print (list1)"
      ],
      "metadata": {
        "colab": {
          "base_uri": "https://localhost:8080/"
        },
        "id": "T7efo8kgH5ic",
        "outputId": "fe14a17d-4b6d-42cc-be7c-a71674568145"
      },
      "execution_count": 2,
      "outputs": [
        {
          "output_type": "stream",
          "name": "stdout",
          "text": [
            "[11, 22, 33, 44, 55, [66, 77, 'string', 88]]\n"
          ]
        }
      ]
    },
    {
      "cell_type": "markdown",
      "source": [
        "# Q3. Write a Python program to find the third-largest number in a list"
      ],
      "metadata": {
        "id": "OOlRyle3YuI6"
      }
    },
    {
      "cell_type": "code",
      "source": [
        "a=[6,8,3,5,99,555,66]\n",
        "\n",
        "print(\"3rd largest in\",a,\"is\",sorted(a)[-3])"
      ],
      "metadata": {
        "colab": {
          "base_uri": "https://localhost:8080/"
        },
        "id": "AD2Y1Fx-Yvjz",
        "outputId": "eff8f28d-7db5-4ad2-919e-b80c55333369"
      },
      "execution_count": 8,
      "outputs": [
        {
          "output_type": "stream",
          "name": "stdout",
          "text": [
            "3rd largest in [6, 8, 3, 5, 99, 555, 66] is 66\n"
          ]
        }
      ]
    },
    {
      "cell_type": "markdown",
      "source": [
        "# "
      ],
      "metadata": {
        "id": "wi2bQqSlZ3az"
      }
    },
    {
      "cell_type": "markdown",
      "metadata": {
        "id": "-YX2Nu4YZCf5"
      },
      "source": [
        "# Q4. Write a Python program to get the frequency of the elements in a list.\n"
      ]
    },
    {
      "cell_type": "code",
      "source": [
        "# Use count function:\n",
        "\n",
        "l=[1,3,3,4,5,6,7,8,8]\n",
        "print(l.count(6))\n",
        "l.count(3)"
      ],
      "metadata": {
        "colab": {
          "base_uri": "https://localhost:8080/"
        },
        "id": "QKq0NA-8YtLJ",
        "outputId": "da5349ff-f718-4559-a3c4-5bb3f6838f68"
      },
      "execution_count": 6,
      "outputs": [
        {
          "output_type": "stream",
          "name": "stdout",
          "text": [
            "1\n"
          ]
        },
        {
          "output_type": "execute_result",
          "data": {
            "text/plain": [
              "2"
            ]
          },
          "metadata": {},
          "execution_count": 6
        }
      ]
    },
    {
      "cell_type": "markdown",
      "source": [
        "# Q5. Write a Python program to check whether a list contains a sublist"
      ],
      "metadata": {
        "id": "iYGKsBOiZqf5"
      }
    },
    {
      "cell_type": "code",
      "source": [
        "l1 = [1,3,3,4,5,6,7,8,8]   #list\n",
        "\n",
        "l2 = [4,5,9]                #sublist\n",
        "\n",
        "for i in l2:\n",
        "  if True:\n",
        "    print(\"the sublist element\",i ,\"is in parent list\")\n",
        "  else:\n",
        "    print(\"the sublist element\",i ,\"is not in parent list\") "
      ],
      "metadata": {
        "colab": {
          "base_uri": "https://localhost:8080/"
        },
        "id": "QmbcXevDZr34",
        "outputId": "66679df7-a08e-48ff-af9d-88c404e97aa0"
      },
      "execution_count": 10,
      "outputs": [
        {
          "output_type": "stream",
          "name": "stdout",
          "text": [
            "the sublist element 4 is in parent list\n",
            "the sublist element 5 is in parent list\n",
            "the sublist element 9 is in parent list\n"
          ]
        }
      ]
    },
    {
      "cell_type": "markdown",
      "source": [
        "#  Q6. Write a Python program to generate all sublists of a list"
      ],
      "metadata": {
        "id": "EMPX577PbcN5"
      }
    },
    {
      "cell_type": "code",
      "source": [
        "l = [10,12,15,16,17,18]\n",
        "n= len(l)\n",
        "l2 = []\n",
        "for k in l:     \n",
        "  l2.append(k)\n",
        "  print(l2)\n",
        "print(n)  #length of list "
      ],
      "metadata": {
        "colab": {
          "base_uri": "https://localhost:8080/"
        },
        "id": "J14dcvbqbh0j",
        "outputId": "e9d6305a-11d1-43f9-93de-91a871c46c82"
      },
      "execution_count": 11,
      "outputs": [
        {
          "output_type": "stream",
          "name": "stdout",
          "text": [
            "[10]\n",
            "[10, 12]\n",
            "[10, 12, 15]\n",
            "[10, 12, 15, 16]\n",
            "[10, 12, 15, 16, 17]\n",
            "[10, 12, 15, 16, 17, 18]\n",
            "6\n"
          ]
        }
      ]
    },
    {
      "cell_type": "markdown",
      "source": [
        "# Q7. Write a Python program to find common items from two lists"
      ],
      "metadata": {
        "id": "jmVV4-LgcZNQ"
      }
    },
    {
      "cell_type": "code",
      "source": [
        "a=[1,2,6,3,4,5]\n",
        "b=[9,8,7,2,5,3]\n",
        "def intersection(lst1, lst2): \n",
        "    return list(set(lst1) & set(lst2))\n",
        "e=intersection(a,b)\n",
        "print(e)"
      ],
      "metadata": {
        "colab": {
          "base_uri": "https://localhost:8080/"
        },
        "id": "hLXaSv5AcgGg",
        "outputId": "5d19c6e3-948f-4f65-aeea-c5668541ca7e"
      },
      "execution_count": 12,
      "outputs": [
        {
          "output_type": "stream",
          "name": "stdout",
          "text": [
            "[2, 3, 5]\n"
          ]
        }
      ]
    },
    {
      "cell_type": "markdown",
      "source": [
        "# Q8. How to flatten a list in python?"
      ],
      "metadata": {
        "id": "TmTQO-Loek4x"
      }
    },
    {
      "cell_type": "code",
      "source": [
        "list1 = [[10,11],[12,13],[17,15]]\n",
        "\n",
        "list2 = sum(list1,[])              #add nested list in empty list\n",
        "list2"
      ],
      "metadata": {
        "colab": {
          "base_uri": "https://localhost:8080/"
        },
        "id": "B01NglwOem7u",
        "outputId": "205a02fc-f689-4fb3-ec10-62ad7a33b7e9"
      },
      "execution_count": 21,
      "outputs": [
        {
          "output_type": "execute_result",
          "data": {
            "text/plain": [
              "[10, 11, 12, 13, 17, 15]"
            ]
          },
          "metadata": {},
          "execution_count": 21
        }
      ]
    },
    {
      "cell_type": "markdown",
      "source": [
        "# Q9. How to sort a list in ascending and descending order without using the sort function?"
      ],
      "metadata": {
        "id": "z-0KNe1qgZlh"
      }
    },
    {
      "cell_type": "code",
      "source": [
        "s=[4,3,2,1,6,8,7,5]\n",
        "for i in range(len(s)):\n",
        "    for j in range(i+1,len(s)):\n",
        "      if s[i]>s[j]:\n",
        "        s[i],s[j]=s[j],s[i]\n",
        "print('Ascending list :',s)\n",
        "for i in range(len(s)):\n",
        "  for j in range(i+1,len(s)):\n",
        "    if s[i]<s[j]:\n",
        "      s[i],s[j]=s[j],s[i]\n",
        "print('Descending list:',s)"
      ],
      "metadata": {
        "colab": {
          "base_uri": "https://localhost:8080/"
        },
        "id": "778OUT5Hgb0I",
        "outputId": "42931d8f-a804-4333-843d-3934c55abe12"
      },
      "execution_count": 22,
      "outputs": [
        {
          "output_type": "stream",
          "name": "stdout",
          "text": [
            "Ascending list : [1, 2, 3, 4, 5, 6, 7, 8]\n",
            "Descending list: [8, 7, 6, 5, 4, 3, 2, 1]\n"
          ]
        }
      ]
    },
    {
      "cell_type": "markdown",
      "source": [
        "# Q.10 How to sort a tuple?"
      ],
      "metadata": {
        "id": "yTDjSU0kajWH"
      }
    },
    {
      "cell_type": "code",
      "source": [
        "a = (2,3,4,5,3,2,6,9,8,2)\n",
        "\n",
        "b = sorted(a)\n",
        "print (tuple(b))\n"
      ],
      "metadata": {
        "colab": {
          "base_uri": "https://localhost:8080/"
        },
        "id": "4nHjx4DXanI0",
        "outputId": "1273ad65-1b97-4ba9-9b1b-3534799e9aa5"
      },
      "execution_count": 8,
      "outputs": [
        {
          "output_type": "stream",
          "name": "stdout",
          "text": [
            "(2, 2, 2, 3, 3, 4, 5, 6, 8, 9)\n"
          ]
        }
      ]
    },
    {
      "cell_type": "markdown",
      "source": [
        "# Q11. Write a Python program to convert a list of multiple integers into a single integer"
      ],
      "metadata": {
        "id": "0BYaSdNOcYFu"
      }
    },
    {
      "cell_type": "code",
      "source": [
        "a=[11,22,33]\n",
        "for i in a:\n",
        "  print(i,end=\"\")"
      ],
      "metadata": {
        "colab": {
          "base_uri": "https://localhost:8080/"
        },
        "id": "FWE2kwsAcZXY",
        "outputId": "c074dc19-11d2-44bb-d02b-a6ca3b919bdc"
      },
      "execution_count": 11,
      "outputs": [
        {
          "output_type": "stream",
          "name": "stdout",
          "text": [
            "112233"
          ]
        }
      ]
    },
    {
      "cell_type": "markdown",
      "source": [
        "# Q 12) Difference between del and clear?\n",
        "\n",
        "# Ans \n",
        "**Del**\n",
        "\n",
        "•del is a keyword\n",
        "\n",
        "•To delete value it uses the index.\n",
        "\n",
        "•The del keyword doesn’t return any value.\n",
        "\n",
        "•The del keyword can delete the single value from a list or delete the whole list at a time.\n",
        "\n",
        "•It throws index error in case of the index doesn’t exist in the list.\n",
        "\n",
        "**Clear**\n",
        "\n",
        "•The clear()function is used to delete all the element in a dictionary.\n",
        "\n",
        "•The clear()fuction is used to delete all the element in a dictionary structure.\n",
        "\n",
        "•Example:Dict.clear()"
      ],
      "metadata": {
        "id": "OXvevIC7c4hm"
      }
    },
    {
      "cell_type": "markdown",
      "source": [
        "# Q 13)Difference between remove and pop?\n",
        "\n",
        "# Ans :\n",
        "\n",
        "**Remove**\n",
        "\n",
        "•It is a method.\n",
        "\n",
        "•To delete value this method uses the value as a parameter.\n",
        "\n",
        "•The remove()method doesn't return any value.\n",
        "\n",
        "•At a time it deletes only one value from the list.\n",
        "\n",
        "•It throws value error in case of value doesn't exit in the list.\n",
        "\n",
        "**POP()**\n",
        "\n",
        "•Pop()is a method\n",
        "\n",
        "•This method also uses the index as a parameter to delete.\n",
        "\n",
        "•pop()returns deleted value.\n",
        "\n",
        "•At a time it deletes only one value from the list.\n",
        "\n",
        "•It throws index error in case of an index doesn't exist in the list"
      ],
      "metadata": {
        "id": "LQzEtXSVdakW"
      }
    },
    {
      "cell_type": "markdown",
      "source": [
        "# Q 14)Difference between indexing and Slicing?\n",
        "\n",
        "# Ans :\n",
        "\n",
        "**Indexing**\n",
        "\n",
        "•Indexing returns one item.\n",
        "\n",
        "•Attempting to use an index that is too large will result in an indexError.\n",
        "\n",
        "•By item assignment in indexing,we can't change the length of the list.\n",
        "\n",
        "•Assignment to Indexing-We can assign a single element or an iterable.\n",
        "\n",
        "**Slicing**\n",
        "\n",
        "•Slicing returns new list/new tuple\n",
        "\n",
        "•Out of range indexes are handled gracefully when used for slicing\n",
        "\n",
        "•By assignment to slicing,we can change the length of the list or even clear the list.\n",
        "\n",
        "•Assignment to slicing-If we aasign a single element,it will raise TypeErtor.it will accept only iterable"
      ],
      "metadata": {
        "id": "9fKYPSmafBMd"
      }
    },
    {
      "cell_type": "markdown",
      "source": [
        "# Q 15)Difference between sort and sorted?\n",
        "\n",
        "# Ans :\n",
        "\n",
        "**Sort()**\n",
        "\n",
        "•It modifies the list it is called on.That is,the sorted list is stored in the se list;a new list is not created.\n",
        "\n",
        "•It works on a list and modifies it.\n",
        "\n",
        "•It does not return anything (no return value).It modifies the list in place.\n",
        "\n",
        "**Sorted()**\n",
        "\n",
        "•It creates a new list containing a sorted version of the liat passed to it as argument.It does not modify the list passed as a parameter.\n",
        "\n",
        "•It can take any iterable sequence type etc,and it always returns a sorted list irrespective of the type of sequence passed to it.\n",
        "\n",
        "•It returns a newly created sorted list.It does not change the passed sequence"
      ],
      "metadata": {
        "id": "XhBmeTJTfHDs"
      }
    },
    {
      "cell_type": "markdown",
      "source": [
        "# Q 16) Difference between reverse and reversed?\n",
        "\n",
        "# Ans :\n",
        "\n",
        "**Reverse**\n",
        "\n",
        "•Reverse method is used to reverse the list.It will reverse the orignal list.\n",
        "\n",
        "•Return type is None.\n",
        "\n",
        "•Reverse method is supported only by lits.\n",
        "\n",
        "**Reversed**\n",
        "\n",
        "•Reversed()method returns an iterator the accesses the given sequence in the reverse order.\n",
        "\n",
        "•Return type is reversed iterator object.\n",
        "\n",
        "•Reversed function is supported by other iterables(string,tuple,dictionary)"
      ],
      "metadata": {
        "id": "2o8TrMnGfT_c"
      }
    },
    {
      "cell_type": "code",
      "source": [
        "a=[1,2,3,4,9,6,7,5]\n",
        "a.reverse()\n",
        "a"
      ],
      "metadata": {
        "colab": {
          "base_uri": "https://localhost:8080/"
        },
        "id": "3ivKQgHMfwx0",
        "outputId": "dd5abeea-c9bb-4703-df40-d9c0791bb8dd"
      },
      "execution_count": 13,
      "outputs": [
        {
          "output_type": "execute_result",
          "data": {
            "text/plain": [
              "[5, 7, 6, 9, 4, 3, 2, 1]"
            ]
          },
          "metadata": {},
          "execution_count": 13
        }
      ]
    },
    {
      "cell_type": "code",
      "source": [
        "a=[1,2,3,4,9,6,7,5]\n",
        "reversed(a)\n",
        "a"
      ],
      "metadata": {
        "colab": {
          "base_uri": "https://localhost:8080/"
        },
        "id": "6dmKIVFCf1V8",
        "outputId": "1e8fd112-d847-4371-bf5d-3ca39fdf3f8a"
      },
      "execution_count": 17,
      "outputs": [
        {
          "output_type": "execute_result",
          "data": {
            "text/plain": [
              "[1, 2, 3, 4, 9, 6, 7, 5]"
            ]
          },
          "metadata": {},
          "execution_count": 17
        }
      ]
    },
    {
      "cell_type": "markdown",
      "source": [
        "# Q 17)Difference between copy and deep copy?\n",
        "\n",
        "# Ans :\n",
        "\n",
        "**Copy**\n",
        "\n",
        "•Copy stores the references of objects to the original memory address.\n",
        "\n",
        "•Copy reflects changes made to the new/copied object in the original object.\n",
        "\n",
        "•Copy stores the copy of the original object and points the references to the objects.\n",
        "\n",
        "•copy is faster.\n",
        "\n",
        "**Deep copy**\n",
        "\n",
        "•Deep copy stores copies of the object’s value.\n",
        "\n",
        "•Deep copy doesn’t reflect changes made to the new/copied object in the original object.\n",
        "\n",
        "•Deep copy stores the copy of the original object and recursively copies the objects as well.\n",
        "\n",
        "•Deep copy is comparatively slower."
      ],
      "metadata": {
        "id": "hIj3HBMPgZ0l"
      }
    },
    {
      "cell_type": "code",
      "source": [
        "import copy\n",
        "a= [1,2,3,4,5]\n",
        "\n",
        "a1=copy.copy(a)\n",
        "\n",
        "print(a)\n",
        "print (a1)"
      ],
      "metadata": {
        "colab": {
          "base_uri": "https://localhost:8080/"
        },
        "id": "xHLSk08ugxt7",
        "outputId": "60f09ae5-23ff-465a-e12c-03a0b67c422d"
      },
      "execution_count": 18,
      "outputs": [
        {
          "output_type": "stream",
          "name": "stdout",
          "text": [
            "[1, 2, 3, 4, 5]\n",
            "[1, 2, 3, 4, 5]\n"
          ]
        }
      ]
    },
    {
      "cell_type": "code",
      "source": [
        "a1=copy.deepcopy(a)\n",
        "print (a1)"
      ],
      "metadata": {
        "colab": {
          "base_uri": "https://localhost:8080/"
        },
        "id": "Dvpy5u8wg2dE",
        "outputId": "1a866213-8b40-46d1-b234-0c0d555a5991"
      },
      "execution_count": 20,
      "outputs": [
        {
          "output_type": "stream",
          "name": "stdout",
          "text": [
            "[1, 2, 3, 4, 5]\n"
          ]
        }
      ]
    },
    {
      "cell_type": "markdown",
      "source": [
        "# Q 18)How to check whether the list is empty or not?"
      ],
      "metadata": {
        "id": "evRc2nCPhG1Q"
      }
    },
    {
      "cell_type": "code",
      "source": [
        "p = [] #using len function \n",
        "\n",
        "if len(p)==0:\n",
        "  print(\"list is empty\")"
      ],
      "metadata": {
        "colab": {
          "base_uri": "https://localhost:8080/"
        },
        "id": "X1vzsLGDhIT8",
        "outputId": "0666d884-8ee2-4813-84d1-2dd8449cd751"
      },
      "execution_count": 21,
      "outputs": [
        {
          "output_type": "stream",
          "name": "stdout",
          "text": [
            "list is empty\n"
          ]
        }
      ]
    },
    {
      "cell_type": "markdown",
      "source": [
        "# Q 19)How to concatenate two lists?"
      ],
      "metadata": {
        "id": "nrhx4LjWhZos"
      }
    },
    {
      "cell_type": "code",
      "source": [
        "list1 = [1,2,3,4]\n",
        "list2 = [5,6,7,8]\n",
        "list3 = list1 + list2\n",
        "print(list3)"
      ],
      "metadata": {
        "colab": {
          "base_uri": "https://localhost:8080/"
        },
        "id": "Uxp0Qs6ThbFm",
        "outputId": "ea3f27fa-7760-450f-ebe2-8160289ef7fd"
      },
      "execution_count": 22,
      "outputs": [
        {
          "output_type": "stream",
          "name": "stdout",
          "text": [
            "[1, 2, 3, 4, 5, 6, 7, 8]\n"
          ]
        }
      ]
    },
    {
      "cell_type": "markdown",
      "source": [
        "# Q 20)How to find the occurrences of an element in the python list?"
      ],
      "metadata": {
        "id": "ZOBpCGSGhjaG"
      }
    },
    {
      "cell_type": "code",
      "source": [
        "#syntax : list.count(element)\n",
        "\n",
        "l = [1,2,3,4,1,2,3,4,1,4,1,2]\n",
        "\n",
        "print(l.count(1))\n",
        "print(l.count(2))\n",
        "print(l.count(3))\n",
        "print(l.count(4))"
      ],
      "metadata": {
        "colab": {
          "base_uri": "https://localhost:8080/"
        },
        "id": "uDgEQsUAhke7",
        "outputId": "8cd5faa1-ad0e-455c-a0f1-f4103db46daa"
      },
      "execution_count": 23,
      "outputs": [
        {
          "output_type": "stream",
          "name": "stdout",
          "text": [
            "4\n",
            "3\n",
            "2\n",
            "3\n"
          ]
        }
      ]
    },
    {
      "cell_type": "markdown",
      "source": [
        "# Q 21)How to flatten a list in python?"
      ],
      "metadata": {
        "id": "rl5TEFx7hs1O"
      }
    },
    {
      "cell_type": "code",
      "source": [
        "# Using loop\n",
        "# initializing the data and an empty list\n",
        "data = [[1, 2, 3], [4, 5], [6, 7, 8, 9, 10]]\n",
        "flat_list = []\n",
        "\n",
        "for item in data: # appending elements to the flat_list\n",
        "    flat_list += item # printing the flat_list\n",
        "print(flat_list)"
      ],
      "metadata": {
        "colab": {
          "base_uri": "https://localhost:8080/"
        },
        "id": "JBHtTUtyhuT9",
        "outputId": "351c7160-2177-4d0f-a61b-4bda42d37763"
      },
      "execution_count": 24,
      "outputs": [
        {
          "output_type": "stream",
          "name": "stdout",
          "text": [
            "[1, 2, 3, 4, 5, 6, 7, 8, 9, 10]\n"
          ]
        }
      ]
    }
  ]
}