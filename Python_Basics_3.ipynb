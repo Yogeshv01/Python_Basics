{
  "nbformat": 4,
  "nbformat_minor": 0,
  "metadata": {
    "colab": {
      "name": "Python_Basics_3.ipynb",
      "provenance": [],
      "authorship_tag": "ABX9TyMMmF9rW05x8PRy8zf6TOL6",
      "include_colab_link": true
    },
    "kernelspec": {
      "name": "python3",
      "display_name": "Python 3"
    },
    "language_info": {
      "name": "python"
    }
  },
  "cells": [
    {
      "cell_type": "markdown",
      "metadata": {
        "id": "view-in-github",
        "colab_type": "text"
      },
      "source": [
        "<a href=\"https://colab.research.google.com/github/Yogeshv01/Python_Basics/blob/main/Python_Basics_3.ipynb\" target=\"_parent\"><img src=\"https://colab.research.google.com/assets/colab-badge.svg\" alt=\"Open In Colab\"/></a>"
      ]
    },
    {
      "cell_type": "markdown",
      "source": [
        "Operators\n",
        "\n",
        "\n",
        "1) Arithmetic Operators\n",
        "\n",
        "Addition: + , \n",
        "Subtraction: -\n",
        "Multiplication: * , \n",
        "Division Operator: /\n",
        "Modulo Operator: % ,\n",
        "Floor Division Operator: //\n",
        "Exponent Operator OR Power Operator: **"
      ],
      "metadata": {
        "id": "NXCIaNFid1ow"
      }
    },
    {
      "cell_type": "code",
      "source": [
        "x=42\n",
        "y=7\n",
        "print('x+y=',x+y) # Addition\n",
        "print('x-y=',x-y) # Subtraction\n",
        "print('x*y=',x*y) # Mutiplication\n",
        "print('x/y=',x/y) # Division\n",
        "print('x//y=',x//y) # Floor Division - It is an operation in Python that divides two numbers and return the result down to the nearest integer\n",
        "print('x%y=',x%y) # % Modulus - It returns the remainder of dividing the left hand operand by right hand operand\n",
        "print('x**y=',x**y) # ** Exponent - Performs exponential (power) calculation on operators"
      ],
      "metadata": {
        "colab": {
          "base_uri": "https://localhost:8080/"
        },
        "id": "FqoVuVJ1e20y",
        "outputId": "a466afdb-be0a-4f12-c311-bc09df96e933"
      },
      "execution_count": 2,
      "outputs": [
        {
          "output_type": "stream",
          "name": "stdout",
          "text": [
            "x+y= 49\n",
            "x-y= 35\n",
            "x*y= 294\n",
            "x/y= 6.0\n",
            "x//y= 6\n",
            "x%y= 0\n",
            "x**y= 230539333248\n"
          ]
        }
      ]
    },
    {
      "cell_type": "markdown",
      "source": [
        "2) Relational Operators\n",
        "\n",
        "\n",
        "> : If the value of left operand is greater than the value of right operand, then condition becomes true,(a > b) is not true.\n",
        "\n",
        "< : If the value of left operand is less than the value of right operand, then condition becomes true.(a < b) is true.\n",
        "\n",
        "<> : \tIf values of two operands are not equal, then condition becomes true.((a <> b) is true. This is similar to != operator.)\n",
        "\n",
        ">= : If the value of left operand is greater than or equal to the value of right operand, then condition becomes true.(a >= b) is not true\n",
        "\n",
        "<= : If the value of left operand is less than or equal to the value of right operand, then condition becomes true.(a <= b) is true.\n"
      ],
      "metadata": {
        "id": "kqSeBs4RiGrl"
      }
    },
    {
      "cell_type": "code",
      "source": [
        "\n",
        "print(\"x > y is \",x>y)\n",
        "print(\"x < y is \",x<y)\n",
        "\n",
        "\n",
        "print(\"x > y is \",x>y)\n",
        "#print(\"x <> y is \",x<>y)\n",
        "print(\"x >= y is \",x>=y)\n",
        "print(\"x <= y is \",x<=y)\n"
      ],
      "metadata": {
        "colab": {
          "base_uri": "https://localhost:8080/"
        },
        "id": "ccvIOqUijEni",
        "outputId": "deac2aee-1dfe-46b8-e488-493610e3dabe"
      },
      "execution_count": 7,
      "outputs": [
        {
          "output_type": "stream",
          "name": "stdout",
          "text": [
            "x > y is  True\n",
            "x < y is  False\n",
            "x == y is  False\n",
            "x != y is  True\n",
            "x > y is  True\n",
            "x >= y is  True\n",
            "x <= y is  False\n"
          ]
        }
      ]
    },
    {
      "cell_type": "markdown",
      "source": [
        "3) Equality Operators \n",
        "\n",
        "== : If the values of two operands are equal, then the condition becomes true.((a == b) is not true.)\n",
        "\n",
        "!= : If values of two operands are not equal, then condition becomes true.( then condition becomes true.\t(a != b) is true.)"
      ],
      "metadata": {
        "id": "Bx49KK51lkSS"
      }
    },
    {
      "cell_type": "code",
      "source": [
        "a = 13\n",
        "b = 33\n",
        "print(a == b)\n",
        "print(a != b)"
      ],
      "metadata": {
        "colab": {
          "base_uri": "https://localhost:8080/"
        },
        "id": "4fXS4o-0oNF6",
        "outputId": "e42afcca-3a6c-445e-9d4d-f683ee6d0312"
      },
      "execution_count": 9,
      "outputs": [
        {
          "output_type": "stream",
          "name": "stdout",
          "text": [
            "False\n",
            "True\n"
          ]
        }
      ]
    },
    {
      "cell_type": "code",
      "source": [
        "print(\"x == y is \",x==y)\n",
        "print(\"x != y is \",x!=y)"
      ],
      "metadata": {
        "colab": {
          "base_uri": "https://localhost:8080/"
        },
        "id": "Gu3Unaykn1M5",
        "outputId": "a623d138-f17e-4f85-a04d-31e6ad16b9ed"
      },
      "execution_count": 8,
      "outputs": [
        {
          "output_type": "stream",
          "name": "stdout",
          "text": [
            "x == y is  False\n",
            "x != y is  True\n"
          ]
        }
      ]
    },
    {
      "cell_type": "markdown",
      "source": [
        "4) Logical Operators\n",
        "\n",
        "Logical operators perform Logical AND, Logical OR, and Logical NOT operations. It is used to combine conditional statements.\n",
        "\n",
        "and -\tLogical AND: True if both the operands are true\tx and y\n",
        "\n",
        "or -\tLogical OR: True if either of the operands is true \tx or y\n",
        "\n",
        "not\t- Logical NOT: True if the operand is false \tnot x\n",
        "\n"
      ],
      "metadata": {
        "id": "3VhOikQpot55"
      }
    },
    {
      "cell_type": "code",
      "source": [
        "a = True\n",
        "b = False\n",
        " \n",
        "# Print a and b is False\n",
        "print(a and b)\n",
        " \n",
        "# Print a or b is True\n",
        "print(a or b)\n",
        " \n",
        "# Print not a is False\n",
        "print(not a)"
      ],
      "metadata": {
        "colab": {
          "base_uri": "https://localhost:8080/"
        },
        "id": "2-uNWqn5o0rR",
        "outputId": "a4664f5f-2cdb-4b2a-f4f9-4fef611255af"
      },
      "execution_count": 14,
      "outputs": [
        {
          "output_type": "stream",
          "name": "stdout",
          "text": [
            "False\n",
            "True\n",
            "False\n"
          ]
        }
      ]
    },
    {
      "cell_type": "code",
      "source": [
        "a and b\n",
        "#b and a"
      ],
      "metadata": {
        "colab": {
          "base_uri": "https://localhost:8080/"
        },
        "id": "M6tR6dSCpx1k",
        "outputId": "15c5a001-4b0a-4507-b744-d4ef6cf5b7de"
      },
      "execution_count": 19,
      "outputs": [
        {
          "output_type": "execute_result",
          "data": {
            "text/plain": [
              "False"
            ]
          },
          "metadata": {},
          "execution_count": 19
        }
      ]
    },
    {
      "cell_type": "markdown",
      "source": [
        "5) Bitwise Operators\n",
        "\n",
        "Bitwise operators act on bits and perform the bit-by-bit operations. \n",
        "These are used to operate on binary numbers.\n",
        "\n",
        "&\tBitwise AND\tx & y\n",
        "\n",
        "|\tBitwise OR\tx | y\n",
        "\n",
        "~\tBitwise NOT\t~x\n",
        "\n",
        "^\tBitwise XOR\tx ^ y\n",
        "\n",
        ">>\tBitwise right shift\tx>>  \n",
        "Let’s suppose we have a binary number 0110 (6 in decimal). The operation we perform is 0110 >> 2:\n",
        "\n",
        "0110 >> 2\n",
        "0011 (move one step to the right)\n",
        "0001 (move one more step to the right)\n",
        "\n",
        "\n",
        "<<\tBitwise left shift\tx<<\n",
        "Operation complete\n",
        "Similarly, we can move 0110 twice to the left with the following operation 0110 << 2:\n",
        "\n",
        "0110 << 2\n",
        "01100 (move one step to the left)\n",
        "011000 (move one more step to the left)\n",
        "Operation complete"
      ],
      "metadata": {
        "id": "2_D6QnlaycyO"
      }
    },
    {
      "cell_type": "code",
      "source": [
        "a = 16\n",
        "b = 17\n",
        " \n",
        "# Print bitwise AND operation\n",
        "print(a & b)\n",
        " \n",
        "# Print bitwise OR operation\n",
        "print(a | b)\n",
        " \n",
        "# Print bitwise NOT operation\n",
        "print(~a)\n",
        " \n",
        "# print bitwise XOR operation\n",
        "print(a ^ b)\n",
        " \n",
        "# print bitwise right shift operation\n",
        "print(a >> 2)\n",
        " \n",
        "# print bitwise left shift operation\n",
        "print(a << 2)"
      ],
      "metadata": {
        "colab": {
          "base_uri": "https://localhost:8080/"
        },
        "id": "LYgTmvLCy4vM",
        "outputId": "0b48fe39-28f2-479d-d1df-6a6ef59a8ff7"
      },
      "execution_count": 22,
      "outputs": [
        {
          "output_type": "stream",
          "name": "stdout",
          "text": [
            "16\n",
            "17\n",
            "-17\n",
            "1\n",
            "4\n",
            "64\n"
          ]
        }
      ]
    },
    {
      "cell_type": "code",
      "source": [
        "num1 = 10  # Binary value = 01010\n",
        "num2 = 20  # Binary Value = 10100\n",
        "\n",
        "print(num1 & num2)   # 0   -> Binary value = 00000\n",
        "print(num1 | num2)   # 30  -> Binary value = 11110\n",
        "print(num1 ^ num2)   # 30  -> Binary value = 11110\n",
        "print(~num1)         # -11 -> Binary value = -(1011)\n",
        "print(num1 << 3)     # 80  -> Binary value = 0101 0000\n",
        "print(num2 >> 3)     # 2   -> Binary value = 0010"
      ],
      "metadata": {
        "colab": {
          "base_uri": "https://localhost:8080/"
        },
        "id": "I4oCBfT25-th",
        "outputId": "1b54d70a-f3f8-4fce-a882-b15785465e50"
      },
      "execution_count": 24,
      "outputs": [
        {
          "output_type": "stream",
          "name": "stdout",
          "text": [
            "0\n",
            "30\n",
            "30\n",
            "-11\n",
            "80\n",
            "2\n"
          ]
        }
      ]
    },
    {
      "cell_type": "markdown",
      "source": [
        "6) Assignment Operators \n",
        "\n",
        "Assignment operators are used to assigning values to the variables\n",
        "\n",
        "=\tAssign value of right side of expression to left side operand,\tx = y + z\n",
        "\n",
        "+=\tAdd AND: Add right-side operand with left side operand and then assign to left operand\ta+=b     a=a+b\n",
        "\n",
        "-=\tSubtract AND: Subtract right operand from left operand and then assign to left operand\ta-=b     a=a-b\n",
        "\n",
        "*=\tMultiply AND: Multiply right operand with left operand and then assign to left operand\ta*=b     a=a*b\n",
        "\n",
        "/=\tDivide AND: Divide left operand with right operand and then assign to left operand\ta/=b     a=a/b\n",
        "\n",
        "%=\tModulus AND: Takes modulus using left and right operands and assign the result to left operand\ta%=b     a=a%b\n",
        "\n",
        "//=\tDivide(floor) AND: Divide left operand with right operand and then assign the value(floor) to left operand\ta//=b     a=a//b\n",
        "\n",
        "**=\tExponent AND: Calculate exponent(raise **power**) value using operands and assign value to left operand\ta**=b     a=a**b **bold text**\n",
        "**bold text** **bold text**\n",
        "&=\tPerforms Bitwise AND on operands and assign value to left operand\ta&=b     a=a&b\n",
        "\n",
        "|=\tPerforms Bitwise OR on operands and assign value to left operand\ta|=b     a=a|b\n",
        "\n",
        "^=\tPerforms Bitwise xOR on operands and assign value to left operand\ta^=b     a=a^b\n",
        "\n",
        ">>=\tPerforms Bitwise right shift on operands and assign value to left operand\ta>>=b     a=a>>b\n",
        "\n",
        "<<=\tPerforms Bitwise left shift on operands and assign value to left operand\ta <<= b     a= a << b"
      ],
      "metadata": {
        "id": "cltxkKFg6e00"
      }
    },
    {
      "cell_type": "code",
      "source": [
        "# Examples of Assignment Operators\n",
        "a = 10\n",
        " \n",
        "# Assign value\n",
        "b = a\n",
        "print(b)\n",
        " \n"
      ],
      "metadata": {
        "colab": {
          "base_uri": "https://localhost:8080/"
        },
        "id": "bfmy8mjz6pTI",
        "outputId": "4ab51b41-1d83-40df-d767-0ecb6e4bd046"
      },
      "execution_count": 26,
      "outputs": [
        {
          "output_type": "stream",
          "name": "stdout",
          "text": [
            "10\n"
          ]
        }
      ]
    },
    {
      "cell_type": "code",
      "source": [
        "# Add and assign value\n",
        "b += a\n",
        "print(b)\n",
        " \n"
      ],
      "metadata": {
        "colab": {
          "base_uri": "https://localhost:8080/"
        },
        "id": "-ZRLVA2a8CNM",
        "outputId": "64944fcd-d01a-4b85-c093-10801c3461a9"
      },
      "execution_count": 27,
      "outputs": [
        {
          "output_type": "stream",
          "name": "stdout",
          "text": [
            "20\n"
          ]
        }
      ]
    },
    {
      "cell_type": "code",
      "source": [
        "# Subtract and assign value\n",
        "b -= a\n",
        "print(b)\n",
        " \n"
      ],
      "metadata": {
        "colab": {
          "base_uri": "https://localhost:8080/"
        },
        "id": "QGn20Lc98FTM",
        "outputId": "35d61591-18da-4ff6-9a47-efc406ef91e4"
      },
      "execution_count": 28,
      "outputs": [
        {
          "output_type": "stream",
          "name": "stdout",
          "text": [
            "10\n"
          ]
        }
      ]
    },
    {
      "cell_type": "code",
      "source": [
        "# multiply and assign\n",
        "b *= a\n",
        "print(b)\n"
      ],
      "metadata": {
        "colab": {
          "base_uri": "https://localhost:8080/"
        },
        "id": "hRq3aOcw8HfD",
        "outputId": "8579864a-c29d-47a5-8507-2460f7688ad1"
      },
      "execution_count": 30,
      "outputs": [
        {
          "output_type": "stream",
          "name": "stdout",
          "text": [
            "1000\n"
          ]
        }
      ]
    },
    {
      "cell_type": "code",
      "source": [
        " \n",
        "# bitwise lishift operator\n",
        "b <<= a\n",
        "\n",
        "print(b)"
      ],
      "metadata": {
        "colab": {
          "base_uri": "https://localhost:8080/"
        },
        "id": "k6ySaoZV8L2C",
        "outputId": "5b85d09c-fe80-4806-e039-d99502691a06"
      },
      "execution_count": 31,
      "outputs": [
        {
          "output_type": "stream",
          "name": "stdout",
          "text": [
            "1024000\n"
          ]
        }
      ]
    },
    {
      "cell_type": "markdown",
      "source": [
        "Identity Operators\n",
        "\n",
        "is and is not are the identity operators both are used to check if two values are located on the same part of the memory. \n",
        "Two variables that are equal do not imply that they are identical.\n",
        "\n",
        "is          True if the operands are identical \n",
        "\n",
        "is not      True if the operands are not identical"
      ],
      "metadata": {
        "id": "BnknIeNx8qcM"
      }
    },
    {
      "cell_type": "code",
      "source": [
        "\n",
        "a = 10\n",
        "b = 20\n",
        "c = a\n",
        " \n",
        "print(a is not b)\n",
        "print(a is c)"
      ],
      "metadata": {
        "colab": {
          "base_uri": "https://localhost:8080/"
        },
        "id": "c1ruP9W782XL",
        "outputId": "ed990814-b90a-4d8a-fa48-be5935a5584c"
      },
      "execution_count": 33,
      "outputs": [
        {
          "output_type": "stream",
          "name": "stdout",
          "text": [
            "True\n",
            "True\n"
          ]
        }
      ]
    },
    {
      "cell_type": "markdown",
      "source": [
        "Membership Operators\n",
        "\n",
        "iMembership operators are operators used to validate the membership of a value. It tests for membership in a sequence, such as strings, lists, or tuples. in operator: The 'in' operator is used to check if a value exists in a sequence or not"
      ],
      "metadata": {
        "id": "CapX0KeA9Oy6"
      }
    },
    {
      "cell_type": "code",
      "source": [
        "x = \"Hello This is Yogesh\"\n",
        "print('h' in x)# True\n",
        "print('d' in x) #False\n",
        "print('d' not in x) #True\n",
        "print('Python' in x) #True"
      ],
      "metadata": {
        "colab": {
          "base_uri": "https://localhost:8080/"
        },
        "id": "1564OTe7_ZHb",
        "outputId": "129ae07c-4fce-4ea7-bf27-2de12dcd3d21"
      },
      "execution_count": 35,
      "outputs": [
        {
          "output_type": "stream",
          "name": "stdout",
          "text": [
            "True\n",
            "False\n",
            "True\n",
            "False\n"
          ]
        }
      ]
    },
    {
      "cell_type": "code",
      "source": [
        "# Python program to illustrate\n",
        "# not 'in' operator\n",
        "x = 24\n",
        "y = 20\n",
        "list = [10, 20, 30, 40, 50]\n",
        " \n",
        "if (x not in list):\n",
        "    print(\"x is NOT present in given list\")\n",
        "else:\n",
        "    print(\"x is present in given list\")\n",
        " \n",
        "if (y in list):\n",
        "    print(\"y is present in given list\")\n",
        "else:\n",
        "    print(\"y is NOT present in given list\")"
      ],
      "metadata": {
        "colab": {
          "base_uri": "https://localhost:8080/"
        },
        "id": "gKsDvAGs-wmU",
        "outputId": "975459d2-1923-46eb-9e91-fbc192919073"
      },
      "execution_count": 34,
      "outputs": [
        {
          "output_type": "stream",
          "name": "stdout",
          "text": [
            "x is NOT present in given list\n",
            "y is present in given list\n"
          ]
        }
      ]
    },
    {
      "cell_type": "markdown",
      "source": [
        "MATH MODULE\n",
        "\n",
        "Python** has a built-in module that you can use for mathematical tasks.\n",
        "\n",
        "The math module has a set of methods and constants.\n",
        "\n",
        "Math module that contains several functions to perform mathematical operations."
      ],
      "metadata": {
        "id": "_E0tX0dk_5b7"
      }
    },
    {
      "cell_type": "code",
      "source": [
        "from math import sqrt\n",
        "print (m.sqrt (16))"
      ],
      "metadata": {
        "colab": {
          "base_uri": "https://localhost:8080/"
        },
        "id": "VyeuSZF-CQ4U",
        "outputId": "7d53f4fe-25f1-460e-f00a-d6765649fb87"
      },
      "execution_count": 37,
      "outputs": [
        {
          "output_type": "stream",
          "name": "stdout",
          "text": [
            "4.0\n"
          ]
        }
      ]
    },
    {
      "cell_type": "code",
      "source": [
        "import math as m\n",
        "print (m.sqrt (16))"
      ],
      "metadata": {
        "colab": {
          "base_uri": "https://localhost:8080/"
        },
        "id": "1CM2bflzB1OM",
        "outputId": "9b8f6bde-54b2-4926-8c9e-1c9c66c71bcf"
      },
      "execution_count": 36,
      "outputs": [
        {
          "output_type": "stream",
          "name": "stdout",
          "text": [
            "4.0\n"
          ]
        }
      ]
    },
    {
      "cell_type": "markdown",
      "source": [
        "ceil(x) - Return the ceiling of x, the smallest integer greater than or equal to x\n",
        "\n",
        "floor(x) - Return the floor of x, the largest integer less than or equal to x\n",
        "\n",
        "pow(x, y) - Return x raised to the power y.\n",
        "\n",
        "factorial(x) - Return x factorial as an integer\n",
        "\n",
        "gcd(*integers) - Return the greatest common divisor of the specified integer arguments"
      ],
      "metadata": {
        "id": "ouQubavQCo8U"
      }
    },
    {
      "cell_type": "code",
      "source": [
        "from math import ceil, floor, factorial, trunc, gcd, sin,cos,tan\n",
        "print(ceil(10.55))\n",
        "print(floor(10.55))\n",
        "print(pow(10,20))\n",
        "print(factorial(5))\n",
        "print(trunc(10.55))\n",
        "print(gcd(10,20))\n",
        "print(sin(10))\n",
        "print(cos(10))\n",
        "print(tan(10))"
      ],
      "metadata": {
        "colab": {
          "base_uri": "https://localhost:8080/"
        },
        "id": "JN9RDOKVEMzW",
        "outputId": "6b6e1fde-75b6-44aa-bd34-7dfd6a81404b"
      },
      "execution_count": 40,
      "outputs": [
        {
          "output_type": "stream",
          "name": "stdout",
          "text": [
            "11\n",
            "10\n",
            "100000000000000000000\n",
            "120\n",
            "10\n",
            "10\n",
            "-0.5440211108893698\n",
            "-0.8390715290764524\n",
            "0.6483608274590866\n"
          ]
        }
      ]
    },
    {
      "cell_type": "code",
      "source": [
        "# Important variables\n",
        "'''pi = 3.14\n",
        "   inf = infinity\n",
        "   nan = not a number'''"
      ],
      "metadata": {
        "colab": {
          "base_uri": "https://localhost:8080/",
          "height": 36
        },
        "id": "7zezjvX4E8uz",
        "outputId": "0f503ac1-616c-4001-8395-bd67949924c0"
      },
      "execution_count": 41,
      "outputs": [
        {
          "output_type": "execute_result",
          "data": {
            "text/plain": [
              "'pi = 3.14\\n   inf = infinity\\n   nan = not a number'"
            ],
            "application/vnd.google.colaboratory.intrinsic+json": {
              "type": "string"
            }
          },
          "metadata": {},
          "execution_count": 41
        }
      ]
    },
    {
      "cell_type": "markdown",
      "source": [
        "#HOMEWORK:\n",
        "\n",
        "# Python Program to find Area of Circle"
      ],
      "metadata": {
        "id": "wExQNJb1FEiE"
      }
    },
    {
      "cell_type": "code",
      "source": [
        "\n",
        "import math\n",
        "\n",
        "x=input(\"Put the radius of circle\")\n",
        "Radius = int(x)\n",
        "Area =3.14*Radius**2\n",
        "print(\"Area of circle is\",Area)"
      ],
      "metadata": {
        "colab": {
          "base_uri": "https://localhost:8080/"
        },
        "id": "DyT6nGWaE-1b",
        "outputId": "635e3aea-5dfc-4264-c2db-63959db2d859"
      },
      "execution_count": 45,
      "outputs": [
        {
          "output_type": "stream",
          "name": "stdout",
          "text": [
            "Put the radius of circle12\n",
            "Area of circle is 452.16\n"
          ]
        }
      ]
    },
    {
      "cell_type": "markdown",
      "source": [
        "# Homework: Write the program for Maximum Of Three Numbers"
      ],
      "metadata": {
        "id": "mVRlbTaMHKpc"
      }
    },
    {
      "cell_type": "code",
      "source": [
        "\n",
        "#A = 20\n",
        "#B = 24\n",
        "#C = 22\n",
        "\n",
        "A = float(input(\"Enter first number: \"))\n",
        "B = float(input(\"Enter second number: \"))\n",
        "C = float(input(\"Enter third number: \"))\n",
        "\n",
        "if (A >= B) and (A >= B):\n",
        "   Maximum = A\n",
        "elif (B >= A) and (B >= C):\n",
        "   Maximum = B\n",
        "else:\n",
        "   Maximum = c\n",
        "\n",
        "print(\"The maximum number is\", Maximum)"
      ],
      "metadata": {
        "colab": {
          "base_uri": "https://localhost:8080/"
        },
        "id": "Te_lNZ2JHLoY",
        "outputId": "0bcb6006-029e-4010-93ee-ae1d59ebe24a"
      },
      "execution_count": 46,
      "outputs": [
        {
          "output_type": "stream",
          "name": "stdout",
          "text": [
            "Enter first number: 20\n",
            "Enter second number: 24\n",
            "Enter third number: 22\n",
            "The maximum number is 24.0\n"
          ]
        }
      ]
    },
    {
      "cell_type": "code",
      "source": [
        "A = 20\n",
        "B = 24\n",
        "C = 22\n",
        "\n",
        "#A = float(input(\"Enter first number: \"))\n",
        "#B = float(input(\"Enter second number: \"))\n",
        "#C = float(input(\"Enter third number: \"))\n",
        "\n",
        "if (A >= B) and (A >= B):\n",
        "   Maximum = A\n",
        "elif (B >= A) and (B >= C):\n",
        "   Maximum = B\n",
        "else:\n",
        "   Maximum = c\n",
        "\n",
        "print(\"The maximum number is\", Maximum)"
      ],
      "metadata": {
        "colab": {
          "base_uri": "https://localhost:8080/"
        },
        "id": "QEs9EbmXIN3U",
        "outputId": "f8ea3511-c75e-441e-9d56-e854ce72649e"
      },
      "execution_count": 47,
      "outputs": [
        {
          "output_type": "stream",
          "name": "stdout",
          "text": [
            "The maximum number is 24\n"
          ]
        }
      ]
    }
  ]
}