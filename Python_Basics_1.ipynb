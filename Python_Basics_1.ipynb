{
  "nbformat": 4,
  "nbformat_minor": 0,
  "metadata": {
    "colab": {
      "name": "Python_Basics_1.ipynb",
      "provenance": [],
      "authorship_tag": "ABX9TyNr3KYgdPOtLul1kM/l9EhL",
      "include_colab_link": true
    },
    "kernelspec": {
      "name": "python3",
      "display_name": "Python 3"
    },
    "language_info": {
      "name": "python"
    }
  },
  "cells": [
    {
      "cell_type": "markdown",
      "metadata": {
        "id": "view-in-github",
        "colab_type": "text"
      },
      "source": [
        "<a href=\"https://colab.research.google.com/github/Yogeshv01/Python_Basics/blob/main/Python_Basics_1.ipynb\" target=\"_parent\"><img src=\"https://colab.research.google.com/assets/colab-badge.svg\" alt=\"Open In Colab\"/></a>"
      ]
    },
    {
      "cell_type": "code",
      "execution_count": 1,
      "metadata": {
        "colab": {
          "base_uri": "https://localhost:8080/"
        },
        "id": "EU1gvCKaoD7f",
        "outputId": "f89f5eed-6eae-4290-d6ea-5544f82c8858"
      },
      "outputs": [
        {
          "output_type": "stream",
          "name": "stdout",
          "text": [
            "Hello, World\n"
          ]
        }
      ],
      "source": [
        "# Print as it is:\n",
        "print(\"Hello, World\")"
      ]
    },
    {
      "cell_type": "code",
      "source": [
        "# String data types:\n",
        "print(\"Hello this is Yogesh. I am a new learner for Data Scince\")"
      ],
      "metadata": {
        "colab": {
          "base_uri": "https://localhost:8080/"
        },
        "id": "5kVCGZI1oY9n",
        "outputId": "ba09f4d8-46a5-422f-8df5-49a8c57a596b"
      },
      "execution_count": 1,
      "outputs": [
        {
          "output_type": "stream",
          "name": "stdout",
          "text": [
            "Hello this is Yogesh. I am a new learner for Data Scince\n"
          ]
        }
      ]
    },
    {
      "cell_type": "code",
      "source": [
        "# String-Double quotes data types:\n",
        "print(\"\"\"Python is a \"Popular programming language\", and it is easy to understand.\"\"\")"
      ],
      "metadata": {
        "colab": {
          "base_uri": "https://localhost:8080/"
        },
        "id": "8ppi8DMFov-1",
        "outputId": "047da507-a2b0-4026-e562-3831e07b0964"
      },
      "execution_count": 3,
      "outputs": [
        {
          "output_type": "stream",
          "name": "stdout",
          "text": [
            "Python is a \"Popular programming language\", and it is easy to understand.\n"
          ]
        }
      ]
    },
    {
      "cell_type": "code",
      "source": [
        "# Check the type of variable -\n",
        "A = 20\n",
        "print(type(A))"
      ],
      "metadata": {
        "colab": {
          "base_uri": "https://localhost:8080/"
        },
        "id": "36LlNIehpaLl",
        "outputId": "d4b80a80-713c-453c-acaa-f26444104bc6"
      },
      "execution_count": 4,
      "outputs": [
        {
          "output_type": "stream",
          "name": "stdout",
          "text": [
            "<class 'int'>\n"
          ]
        }
      ]
    },
    {
      "cell_type": "code",
      "source": [
        "# Display the last no of variables:\n",
        "x = 35\n",
        "y = 20\n",
        "x\n",
        "y"
      ],
      "metadata": {
        "colab": {
          "base_uri": "https://localhost:8080/"
        },
        "id": "FNPn7xIBpk0y",
        "outputId": "c17319ca-c309-42b6-fdc4-7c3968606ed4"
      },
      "execution_count": 5,
      "outputs": [
        {
          "output_type": "execute_result",
          "data": {
            "text/plain": [
              "20"
            ]
          },
          "metadata": {},
          "execution_count": 5
        }
      ]
    },
    {
      "cell_type": "code",
      "source": [
        "# Without using print function-getting same value:\n",
        "m = 50\n",
        "m"
      ],
      "metadata": {
        "colab": {
          "base_uri": "https://localhost:8080/"
        },
        "id": "Jl-4hg4xp2gO",
        "outputId": "7110cc87-dc87-417b-de59-1f06b29762ad"
      },
      "execution_count": 7,
      "outputs": [
        {
          "output_type": "execute_result",
          "data": {
            "text/plain": [
              "50"
            ]
          },
          "metadata": {},
          "execution_count": 7
        }
      ]
    },
    {
      "cell_type": "code",
      "source": [
        "# Types of variables:\n",
        "a = 30\n",
        "b = 78.00\n",
        "c = \"CAKE\"\n",
        "\n",
        "print(type(a))\n",
        "print(type(b))\n",
        "print(type(c))\n"
      ],
      "metadata": {
        "colab": {
          "base_uri": "https://localhost:8080/"
        },
        "id": "J5NyyQN0qIxT",
        "outputId": "f467899d-768a-4e28-dcf9-85da2b7fea29"
      },
      "execution_count": 2,
      "outputs": [
        {
          "output_type": "stream",
          "name": "stdout",
          "text": [
            "<class 'int'>\n",
            "<class 'float'>\n",
            "<class 'str'>\n"
          ]
        }
      ]
    },
    {
      "cell_type": "code",
      "source": [
        "# Find the location and ID of the veriables:\n",
        "A = 10\n",
        "B = 23\n",
        "print(id(A))\n",
        "print(id(B))"
      ],
      "metadata": {
        "colab": {
          "base_uri": "https://localhost:8080/"
        },
        "id": "f3dkREbtqcw0",
        "outputId": "fd91f9d1-123d-4c65-8390-90a9ccccce52"
      },
      "execution_count": 10,
      "outputs": [
        {
          "output_type": "stream",
          "name": "stdout",
          "text": [
            "94600243854112\n",
            "94600243854528\n"
          ]
        }
      ]
    },
    {
      "cell_type": "code",
      "source": [
        "# Same ID no. of different variables:\n",
        "a = 50\n",
        "b = 50\n",
        "print(id(a))\n",
        "print(id(b))"
      ],
      "metadata": {
        "colab": {
          "base_uri": "https://localhost:8080/"
        },
        "id": "2TnEoCNQq2SM",
        "outputId": "ed1b0e52-3d04-41be-f3ba-8ef243e238be"
      },
      "execution_count": 12,
      "outputs": [
        {
          "output_type": "stream",
          "name": "stdout",
          "text": [
            "94600243855392\n",
            "94600243855392\n"
          ]
        }
      ]
    },
    {
      "cell_type": "code",
      "source": [
        "x = 15+20j\n",
        "y = 25+10j\n",
        "z = x + y\n",
        "q = x * y\n",
        "print(z)\n",
        "print (q)"
      ],
      "metadata": {
        "colab": {
          "base_uri": "https://localhost:8080/"
        },
        "id": "GvCrgDTXrAwg",
        "outputId": "96607afb-196c-4f32-e1dd-6457e91643d3"
      },
      "execution_count": 7,
      "outputs": [
        {
          "output_type": "stream",
          "name": "stdout",
          "text": [
            "(40+30j)\n",
            "(175+650j)\n"
          ]
        }
      ]
    },
    {
      "cell_type": "code",
      "source": [
        "# Bollean data types:\n",
        "a = 25\n",
        "b = 30\n",
        "c = a < b\n",
        "print(c)"
      ],
      "metadata": {
        "colab": {
          "base_uri": "https://localhost:8080/"
        },
        "id": "lEOC_YZsxsLu",
        "outputId": "2aa6aaea-967d-4150-d290-b0792beaf4e2"
      },
      "execution_count": 8,
      "outputs": [
        {
          "output_type": "stream",
          "name": "stdout",
          "text": [
            "True\n"
          ]
        }
      ]
    },
    {
      "cell_type": "code",
      "source": [
        "# String data types:\n",
        "a = \"India\"\n",
        "b = \"9696\"\n",
        "\n",
        "print(type(a))\n",
        "print(type(b))\n"
      ],
      "metadata": {
        "colab": {
          "base_uri": "https://localhost:8080/"
        },
        "id": "RvM0nOwtxx0O",
        "outputId": "3999d4ca-efeb-4765-c0ce-224e44b8bf22"
      },
      "execution_count": 9,
      "outputs": [
        {
          "output_type": "stream",
          "name": "stdout",
          "text": [
            "<class 'str'>\n",
            "<class 'str'>\n"
          ]
        }
      ]
    },
    {
      "cell_type": "code",
      "source": [
        "# Slicing Method:\n",
        "x = \"Bombay Stock Exchange\"\n",
        "print(x[7])\n",
        "print(x[2])\n",
        "print(x[10])\n",
        "print(x[18])\n",
        "print(x[-7])\n",
        "print(x[-18])\n"
      ],
      "metadata": {
        "colab": {
          "base_uri": "https://localhost:8080/"
        },
        "id": "a30O8zhAyB_t",
        "outputId": "85df3d4f-f82f-46a6-b80f-dec7bcc9f1e2"
      },
      "execution_count": 11,
      "outputs": [
        {
          "output_type": "stream",
          "name": "stdout",
          "text": [
            "S\n",
            "m\n",
            "c\n",
            "n\n",
            "x\n",
            "b\n"
          ]
        }
      ]
    },
    {
      "cell_type": "code",
      "source": [
        "# Slicing method in Range:\n",
        "x = \"Bombay Stock Exchange\"\n",
        "x [3:12]"
      ],
      "metadata": {
        "colab": {
          "base_uri": "https://localhost:8080/",
          "height": 35
        },
        "id": "pMM9-LnSygFH",
        "outputId": "9b215408-69f7-4f59-f006-8172c0596dd8"
      },
      "execution_count": 15,
      "outputs": [
        {
          "output_type": "execute_result",
          "data": {
            "text/plain": [
              "'bay Stock'"
            ],
            "application/vnd.google.colaboratory.intrinsic+json": {
              "type": "string"
            }
          },
          "metadata": {},
          "execution_count": 15
        }
      ]
    },
    {
      "cell_type": "code",
      "source": [
        "y= \"Bombay Stock Exchange\"\n",
        "y [0:3]"
      ],
      "metadata": {
        "colab": {
          "base_uri": "https://localhost:8080/",
          "height": 35
        },
        "id": "oRsV8CJIzHkL",
        "outputId": "01ea7583-838a-4099-db6f-fecbd22c68d6"
      },
      "execution_count": 16,
      "outputs": [
        {
          "output_type": "execute_result",
          "data": {
            "text/plain": [
              "'Bom'"
            ],
            "application/vnd.google.colaboratory.intrinsic+json": {
              "type": "string"
            }
          },
          "metadata": {},
          "execution_count": 16
        }
      ]
    },
    {
      "cell_type": "code",
      "source": [
        "z = \"Summer\"\n",
        "z [:]\n"
      ],
      "metadata": {
        "colab": {
          "base_uri": "https://localhost:8080/",
          "height": 35
        },
        "id": "Ouxq8DAPzSZd",
        "outputId": "cfb07da8-b1f6-4849-d79e-3e88572ba30f"
      },
      "execution_count": 19,
      "outputs": [
        {
          "output_type": "execute_result",
          "data": {
            "text/plain": [
              "'Summer'"
            ],
            "application/vnd.google.colaboratory.intrinsic+json": {
              "type": "string"
            }
          },
          "metadata": {},
          "execution_count": 19
        }
      ]
    },
    {
      "cell_type": "code",
      "source": [
        "# Int Addition\n",
        "x = 66\n",
        "y = 70\n",
        "print(int(x+y))"
      ],
      "metadata": {
        "colab": {
          "base_uri": "https://localhost:8080/"
        },
        "id": "ZFDHpTMvz-zV",
        "outputId": "dbe69ede-5ad0-4963-f188-0aae63117e7e"
      },
      "execution_count": 25,
      "outputs": [
        {
          "output_type": "stream",
          "name": "stdout",
          "text": [
            "136\n"
          ]
        }
      ]
    },
    {
      "cell_type": "code",
      "source": [
        "# Float substraction:\n",
        "a = 50\n",
        "b = 20\n",
        "print(float(a-b))"
      ],
      "metadata": {
        "colab": {
          "base_uri": "https://localhost:8080/"
        },
        "id": "R9355BB61Cbl",
        "outputId": "a7f37b6e-7e6e-4c56-ac0e-dc876da9b4a1"
      },
      "execution_count": 23,
      "outputs": [
        {
          "output_type": "stream",
          "name": "stdout",
          "text": [
            "30.0\n"
          ]
        }
      ]
    },
    {
      "cell_type": "code",
      "source": [
        "# int multiplication:\n",
        "m = 5\n",
        "p = 9\n",
        "print(int(m*p))"
      ],
      "metadata": {
        "colab": {
          "base_uri": "https://localhost:8080/"
        },
        "id": "tC0bCSKw1Eu1",
        "outputId": "3754200c-5c89-4549-d576-be0fc221f900"
      },
      "execution_count": 26,
      "outputs": [
        {
          "output_type": "stream",
          "name": "stdout",
          "text": [
            "45\n"
          ]
        }
      ]
    },
    {
      "cell_type": "code",
      "source": [
        "# int Divided:\n",
        "j = 666.00\n",
        "h = 6\n",
        "print(int(j/h))"
      ],
      "metadata": {
        "colab": {
          "base_uri": "https://localhost:8080/"
        },
        "id": "7IbRwIyF1P-V",
        "outputId": "74d1c137-000a-42d6-e3ef-e790c3cfeacd"
      },
      "execution_count": 28,
      "outputs": [
        {
          "output_type": "stream",
          "name": "stdout",
          "text": [
            "111\n"
          ]
        }
      ]
    }
  ]
}