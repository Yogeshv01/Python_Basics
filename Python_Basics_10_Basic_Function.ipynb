{
  "nbformat": 4,
  "nbformat_minor": 0,
  "metadata": {
    "colab": {
      "name": "Python_Basics_10_Basic_Function.ipynb",
      "provenance": [],
      "authorship_tag": "ABX9TyPgCnmWXKCSk1gTo7Z2O3BB",
      "include_colab_link": true
    },
    "kernelspec": {
      "name": "python3",
      "display_name": "Python 3"
    },
    "language_info": {
      "name": "python"
    }
  },
  "cells": [
    {
      "cell_type": "markdown",
      "metadata": {
        "id": "view-in-github",
        "colab_type": "text"
      },
      "source": [
        "<a href=\"https://colab.research.google.com/github/Yogeshv01/Python_Basics/blob/main/Python_Basics_10_Basic_Function.ipynb\" target=\"_parent\"><img src=\"https://colab.research.google.com/assets/colab-badge.svg\" alt=\"Open In Colab\"/></a>"
      ]
    },
    {
      "cell_type": "markdown",
      "source": [
        "### Functions\n",
        " * If a group of statements is repeatedly required then it is not recommended to write these statements everytime seperately.\n",
        " * We have to define these statements as a single unit and we can call that unit any number of times based on our requirement without rewriting.\n",
        " * This unit is nothing but function.\n",
        "\n",
        "* The main advantage of functions is code Reusability.\n",
        "\n",
        "* Python supports two types of functions:\n",
        "\n",
        "# Built-in function\n",
        "\n",
        "# User defined function\n",
        "\n",
        "Built in Functions:\n",
        "\n",
        "The functions which are coming along with Python software automatically, are called built in functions or pre defined functions.\n",
        "\n",
        "e.g. id(), type(), input(),eval()\n",
        "\n",
        "User defined function:\n",
        "The functions which are developed by programmer explicitly according to business requirements, are called user defined functions.\n",
        "\n",
        "Syntax:\n",
        "\n",
        "def function_name(parameters):\n",
        "\n",
        "''' doc string'''\n",
        "\n",
        "python code\n",
        "\n",
        "return value"
      ],
      "metadata": {
        "id": "WVefoeOx6oqa"
      }
    },
    {
      "cell_type": "code",
      "source": [
        "def self():\n",
        "  print(\"I am Yogesh\")\n",
        "self()"
      ],
      "metadata": {
        "colab": {
          "base_uri": "https://localhost:8080/"
        },
        "id": "W-veNyaI6ulQ",
        "outputId": "38da7b17-d103-499f-8ec8-078197396e77"
      },
      "execution_count": 10,
      "outputs": [
        {
          "output_type": "stream",
          "name": "stdout",
          "text": [
            "I am Yogesh\n"
          ]
        }
      ]
    },
    {
      "cell_type": "markdown",
      "source": [
        "### Parameters\n",
        " * Parameters are inputs to the function.\n",
        " * If a function contains parameters, then at the time of calling,compulsory we should provide values otherwise we will get error.\n",
        "\n",
        "* Eg: Write a function to take name of the student as input and print wish message by name."
      ],
      "metadata": {
        "id": "z88WASl88LA5"
      }
    },
    {
      "cell_type": "code",
      "source": [
        "def wish(name):\n",
        "  print(\"Hello\",name,\" Good Day\")"
      ],
      "metadata": {
        "id": "n2U9FlOa8Y6X"
      },
      "execution_count": 13,
      "outputs": []
    },
    {
      "cell_type": "code",
      "source": [
        "wish(\"Yogesh\")"
      ],
      "metadata": {
        "colab": {
          "base_uri": "https://localhost:8080/"
        },
        "id": "jiDPwlV59am4",
        "outputId": "2b6c6c64-f827-4f3e-8247-14334bb026ba"
      },
      "execution_count": 14,
      "outputs": [
        {
          "output_type": "stream",
          "name": "stdout",
          "text": [
            "Hello Yogesh  Good Day\n"
          ]
        }
      ]
    },
    {
      "cell_type": "code",
      "source": [
        "def my_name(name):\n",
        "  print(\"hello\",my_name,\"Wheather is too hot\")"
      ],
      "metadata": {
        "id": "PigorJSR9oKo"
      },
      "execution_count": 15,
      "outputs": []
    },
    {
      "cell_type": "code",
      "source": [
        "my_name(\"Yogesh\")"
      ],
      "metadata": {
        "colab": {
          "base_uri": "https://localhost:8080/"
        },
        "id": "iACMGgUJ9zi3",
        "outputId": "bfc28c20-bdc5-48e3-b3bc-cfb8e51c42d8"
      },
      "execution_count": 17,
      "outputs": [
        {
          "output_type": "stream",
          "name": "stdout",
          "text": [
            "hello <function my_name at 0x7fed48002cb0> Wheather is too hot\n"
          ]
        }
      ]
    },
    {
      "cell_type": "code",
      "source": [
        "# Eg: Write a function to take number as input and print its square value\n",
        "\n",
        "def sqr(number):\n",
        "  print(number * number)"
      ],
      "metadata": {
        "id": "hYNTy0IG-SWn"
      },
      "execution_count": 18,
      "outputs": []
    },
    {
      "cell_type": "code",
      "source": [
        "sqr(9)"
      ],
      "metadata": {
        "colab": {
          "base_uri": "https://localhost:8080/"
        },
        "id": "Hze5fe5_-gz2",
        "outputId": "1a11ff1b-6332-4da3-f234-7f360bfc7968"
      },
      "execution_count": 19,
      "outputs": [
        {
          "output_type": "stream",
          "name": "stdout",
          "text": [
            "81\n"
          ]
        }
      ]
    },
    {
      "cell_type": "code",
      "source": [
        "sqr(69.6)"
      ],
      "metadata": {
        "colab": {
          "base_uri": "https://localhost:8080/"
        },
        "id": "bqcQIbWt-pBO",
        "outputId": "30f739e1-767a-4646-8ef5-52b0a0392b71"
      },
      "execution_count": 20,
      "outputs": [
        {
          "output_type": "stream",
          "name": "stdout",
          "text": [
            "4844.159999999999\n"
          ]
        }
      ]
    },
    {
      "cell_type": "code",
      "source": [
        "sqr(33+44)"
      ],
      "metadata": {
        "colab": {
          "base_uri": "https://localhost:8080/"
        },
        "id": "4BAnKFk6-zLx",
        "outputId": "bb1c0d52-d1f5-4c55-faa1-6c339f409fa3"
      },
      "execution_count": 21,
      "outputs": [
        {
          "output_type": "stream",
          "name": "stdout",
          "text": [
            "5929\n"
          ]
        }
      ]
    },
    {
      "cell_type": "markdown",
      "source": [
        "## Return Statement:\n",
        "Function can take input values as parameters and executes business logic, and returns output to the caller with return statement.\n",
        "\n",
        "Q) Write a Function to accept 2 Numbers as Input and return Sum"
      ],
      "metadata": {
        "id": "_prGY3Ss-7EF"
      }
    },
    {
      "cell_type": "code",
      "source": [
        "def sum(x,y,z):\n",
        "  print (x+y-z)\n",
        "  return"
      ],
      "metadata": {
        "id": "Q8bkV-hW_Arn"
      },
      "execution_count": 22,
      "outputs": []
    },
    {
      "cell_type": "code",
      "source": [
        "sum(2,3,4)"
      ],
      "metadata": {
        "colab": {
          "base_uri": "https://localhost:8080/"
        },
        "id": "-3hTSrRQ_as2",
        "outputId": "223cabc8-3c57-4a88-c1e4-2055eba6f7bf"
      },
      "execution_count": 23,
      "outputs": [
        {
          "output_type": "stream",
          "name": "stdout",
          "text": [
            "1\n"
          ]
        }
      ]
    },
    {
      "cell_type": "code",
      "source": [
        "def sum(a,b,d,e):\n",
        "    return a*b+d-e"
      ],
      "metadata": {
        "id": "wg5k0lAN_j4w"
      },
      "execution_count": 28,
      "outputs": []
    },
    {
      "cell_type": "code",
      "source": [
        "sum(11,22,33,44)"
      ],
      "metadata": {
        "colab": {
          "base_uri": "https://localhost:8080/"
        },
        "id": "WGywBPby_nGz",
        "outputId": "324eea26-eacb-41a0-f3a3-f1cc469cda5a"
      },
      "execution_count": 29,
      "outputs": [
        {
          "output_type": "execute_result",
          "data": {
            "text/plain": [
              "231"
            ]
          },
          "metadata": {},
          "execution_count": 29
        }
      ]
    },
    {
      "cell_type": "markdown",
      "source": [
        "#  Q) Write a Function to check whether the given Number is Even OR Odd?"
      ],
      "metadata": {
        "id": "TNoMbCcdAAcv"
      }
    },
    {
      "cell_type": "code",
      "source": [
        "def even_odd(number):\n",
        "   if number%2==0:\n",
        "    print (number,\"is even number\")\n",
        "   else:\n",
        "    print (number,\"is odd number\")"
      ],
      "metadata": {
        "id": "PmTnOohuAFmm"
      },
      "execution_count": 33,
      "outputs": []
    },
    {
      "cell_type": "code",
      "source": [
        "even_odd(5)"
      ],
      "metadata": {
        "colab": {
          "base_uri": "https://localhost:8080/"
        },
        "id": "ay6_lRLIBDj6",
        "outputId": "5a54211a-ac58-4b81-d5d9-3a79fe2af37d"
      },
      "execution_count": 34,
      "outputs": [
        {
          "output_type": "stream",
          "name": "stdout",
          "text": [
            "5 is odd number\n"
          ]
        }
      ]
    },
    {
      "cell_type": "code",
      "source": [
        "even_odd(11)"
      ],
      "metadata": {
        "colab": {
          "base_uri": "https://localhost:8080/"
        },
        "id": "WtUK9nhBBGk_",
        "outputId": "6c470059-ec3b-4436-f30a-147b340c40f6"
      },
      "execution_count": 36,
      "outputs": [
        {
          "output_type": "stream",
          "name": "stdout",
          "text": [
            "11 is odd number\n"
          ]
        }
      ]
    },
    {
      "cell_type": "markdown",
      "source": [
        "## Q) Write a Function to check whether the given Number is Even OR Odd?"
      ],
      "metadata": {
        "id": "0E1DRt3cBQMH"
      }
    },
    {
      "cell_type": "code",
      "source": [
        "def fact(number):\n",
        "    result=1\n",
        "    while number>=1:\n",
        "      result=result*number\n",
        "      number=number-1\n",
        "    return result"
      ],
      "metadata": {
        "id": "AeSIAwZvBVgk"
      },
      "execution_count": 37,
      "outputs": []
    },
    {
      "cell_type": "code",
      "source": [
        "fact (2)"
      ],
      "metadata": {
        "colab": {
          "base_uri": "https://localhost:8080/"
        },
        "id": "vBJO83IFCGH-",
        "outputId": "9180e13f-b52e-4628-a69d-a3e4cbc3abb0"
      },
      "execution_count": 38,
      "outputs": [
        {
          "output_type": "execute_result",
          "data": {
            "text/plain": [
              "2"
            ]
          },
          "metadata": {},
          "execution_count": 38
        }
      ]
    },
    {
      "cell_type": "code",
      "source": [
        "fact (19)"
      ],
      "metadata": {
        "colab": {
          "base_uri": "https://localhost:8080/"
        },
        "id": "jyWczmpECJC3",
        "outputId": "ac01a07a-46f5-4c32-e022-8b8e282382c2"
      },
      "execution_count": 39,
      "outputs": [
        {
          "output_type": "execute_result",
          "data": {
            "text/plain": [
              "121645100408832000"
            ]
          },
          "metadata": {},
          "execution_count": 39
        }
      ]
    },
    {
      "cell_type": "code",
      "source": [
        "for i in range(0,5):\n",
        "   print(\"The Factorial of\",i,\"is\", fact(i))"
      ],
      "metadata": {
        "colab": {
          "base_uri": "https://localhost:8080/"
        },
        "id": "vbwWN8T6CLpR",
        "outputId": "bfc3e2cf-7fba-4ace-82d9-811216b9f5ad"
      },
      "execution_count": 44,
      "outputs": [
        {
          "output_type": "stream",
          "name": "stdout",
          "text": [
            "The Factorial of 0 is 1\n",
            "The Factorial of 1 is 1\n",
            "The Factorial of 2 is 2\n",
            "The Factorial of 3 is 6\n",
            "The Factorial of 4 is 24\n"
          ]
        }
      ]
    },
    {
      "cell_type": "markdown",
      "source": [
        "### Returning Multiple Values from a Function"
      ],
      "metadata": {
        "id": "EHvuE060DC1y"
      }
    },
    {
      "cell_type": "code",
      "source": [
        "def add_sub(x,y):\n",
        "  add = x+y\n",
        "  sub = x-y\n",
        "  return add,sub"
      ],
      "metadata": {
        "id": "SgR4vxjpDWRG"
      },
      "execution_count": 50,
      "outputs": []
    },
    {
      "cell_type": "code",
      "source": [
        "add_sub(20,10)"
      ],
      "metadata": {
        "colab": {
          "base_uri": "https://localhost:8080/"
        },
        "id": "jYkzqHqTDsXQ",
        "outputId": "47c83d4b-5a33-4b59-cc03-231baac5649b"
      },
      "execution_count": 51,
      "outputs": [
        {
          "output_type": "execute_result",
          "data": {
            "text/plain": [
              "(30, 10)"
            ]
          },
          "metadata": {},
          "execution_count": 51
        }
      ]
    },
    {
      "cell_type": "markdown",
      "source": [
        "### Types of Arguments\n",
        "\n",
        " def f1(a,b):\n",
        "\n",
        "  \n",
        "\n",
        "-\n",
        "\n",
        "-\n",
        "\n",
        "f1(10,20)\n",
        "\n",
        "a, b are formal arguments where as 10,20 are actual arguments."
      ],
      "metadata": {
        "id": "GmXwdmlNE1He"
      }
    },
    {
      "cell_type": "markdown",
      "source": [
        "## Types\n",
        "There are 4 types are actual arguments are allowed in Python.\n",
        "\n",
        "Positional Arguments\n",
        "Keyword Arguments\n",
        "Default Arguments\n",
        "Variable length arguments"
      ],
      "metadata": {
        "id": "Ici0poSkFFrf"
      }
    },
    {
      "cell_type": "markdown",
      "source": [
        "### 1 Positional Argument:\n",
        "These are the arguments passed to function in correct positional order.\n",
        "\n",
        "def sub(a, b):\n",
        "\n",
        "print(a-b)\n",
        "\n",
        "sub(100, 200)\n",
        "\n",
        "sub(200, 100)\n",
        "\n",
        "The number of arguments and position of arguments must be matched. If we change the order then result may be changed"
      ],
      "metadata": {
        "id": "Bw9y5kMKFLb4"
      }
    },
    {
      "cell_type": "code",
      "source": [
        "def add(a,b,c):\n",
        "  return(a+b+c)"
      ],
      "metadata": {
        "id": "2PZzuX1OFSiH"
      },
      "execution_count": 58,
      "outputs": []
    },
    {
      "cell_type": "code",
      "source": [
        "print(add(3,c=3.5,b=30))"
      ],
      "metadata": {
        "colab": {
          "base_uri": "https://localhost:8080/"
        },
        "id": "aRPJsBmNFbOW",
        "outputId": "223bdfdb-64e7-4a93-f345-62e83eccb420"
      },
      "execution_count": 60,
      "outputs": [
        {
          "output_type": "stream",
          "name": "stdout",
          "text": [
            "36.5\n"
          ]
        }
      ]
    },
    {
      "cell_type": "markdown",
      "source": [
        "### 2. Keyword Arguments:"
      ],
      "metadata": {
        "id": "A0VUafOOGOhB"
      }
    },
    {
      "cell_type": "code",
      "source": [
        "def wish(name,message):\n",
        "  print(\"Hello\",name,message)"
      ],
      "metadata": {
        "id": "uRPdTqt-GVKX"
      },
      "execution_count": 61,
      "outputs": []
    },
    {
      "cell_type": "code",
      "source": [
        "wish(message=\"Good Day\",name = \"Yogesh\")"
      ],
      "metadata": {
        "colab": {
          "base_uri": "https://localhost:8080/"
        },
        "id": "-PbpC3q8GbYI",
        "outputId": "5a7209ae-c164-4580-ee41-4c3e31c00ff1"
      },
      "execution_count": 62,
      "outputs": [
        {
          "output_type": "stream",
          "name": "stdout",
          "text": [
            "Hello Yogesh Good Day\n"
          ]
        }
      ]
    },
    {
      "cell_type": "markdown",
      "source": [
        " ### 3.Default Arguments:"
      ],
      "metadata": {
        "id": "leLLPvfTHHAo"
      }
    },
    {
      "cell_type": "code",
      "source": [
        "def wish(name=\"-\"):\n",
        "  print(\"Hello\",name,\"Good Morning\")"
      ],
      "metadata": {
        "id": "0V0jHNJbHKDO"
      },
      "execution_count": 63,
      "outputs": []
    },
    {
      "cell_type": "code",
      "source": [
        "wish(\"Yogesh\")"
      ],
      "metadata": {
        "colab": {
          "base_uri": "https://localhost:8080/"
        },
        "id": "VOn2J_ScHu9J",
        "outputId": "0ec94baa-fc06-41a1-c639-2e111b4209af"
      },
      "execution_count": 65,
      "outputs": [
        {
          "output_type": "stream",
          "name": "stdout",
          "text": [
            "Hello Yogesh Good Morning\n"
          ]
        }
      ]
    },
    {
      "cell_type": "code",
      "source": [
        "def   Relatives(name = \"-\"):\n",
        "  print(\"Hello\",name,\"How old are you?\")"
      ],
      "metadata": {
        "id": "z391VeodH6aH"
      },
      "execution_count": 67,
      "outputs": []
    },
    {
      "cell_type": "code",
      "source": [
        "Relatives (\"Shyam\")"
      ],
      "metadata": {
        "colab": {
          "base_uri": "https://localhost:8080/"
        },
        "id": "8a0HtsrrIJpg",
        "outputId": "0e833cb5-2904-483c-fe7a-8fa6ada29ae4"
      },
      "execution_count": 69,
      "outputs": [
        {
          "output_type": "stream",
          "name": "stdout",
          "text": [
            "Hello Shyam How old are you?\n"
          ]
        }
      ]
    },
    {
      "cell_type": "markdown",
      "source": [
        "## 4. Variable Length Arguments:\n",
        "Sometimes we can pass variable number of arguments to our function, such type of arguments are called variable length arguments.\n",
        "\n",
        "We can declare a variable length argument with * symbol as follows\n",
        "\n",
        "def f1(*n):\n",
        "\n",
        "We can call this function by passing any number of arguments including zero number.\n",
        "\n",
        "Internally all these values represented in the form of tuple."
      ],
      "metadata": {
        "id": "vxrnIOygIVW2"
      }
    },
    {
      "cell_type": "code",
      "source": [
        "def addition(*n):\n",
        "    result=1\n",
        "    for n1 in n:\n",
        "      result=result+n1\n",
        "    print(\"The addition=\",result)"
      ],
      "metadata": {
        "id": "RMK6z4-nIXJ-"
      },
      "execution_count": 73,
      "outputs": []
    },
    {
      "cell_type": "code",
      "source": [
        "addition(3)"
      ],
      "metadata": {
        "colab": {
          "base_uri": "https://localhost:8080/"
        },
        "id": "fbN5DZZ9I9nX",
        "outputId": "04e06022-c234-42de-f5f4-8ceae7013f6f"
      },
      "execution_count": 74,
      "outputs": [
        {
          "output_type": "stream",
          "name": "stdout",
          "text": [
            "The addition= 4\n"
          ]
        }
      ]
    },
    {
      "cell_type": "code",
      "source": [
        "def add(n,*k):\n",
        "  print(n)\n",
        "  for i in k:\n",
        "    print(i)"
      ],
      "metadata": {
        "id": "UgGVDhIZJI-R"
      },
      "execution_count": 75,
      "outputs": []
    },
    {
      "cell_type": "code",
      "source": [
        "add(11,22,33)"
      ],
      "metadata": {
        "colab": {
          "base_uri": "https://localhost:8080/"
        },
        "id": "Z1N6E7AfJTGn",
        "outputId": "02ecf9b4-27d4-4fd7-fbbf-6e9bd678ec15"
      },
      "execution_count": 76,
      "outputs": [
        {
          "output_type": "stream",
          "name": "stdout",
          "text": [
            "11\n",
            "22\n",
            "33\n"
          ]
        }
      ]
    },
    {
      "cell_type": "code",
      "source": [
        "# After variable length argument,if we are taking any other arguments then we should provide values as keyword arguments.\n",
        "def f1(*s,n1):\n",
        "    for s1 in s:\n",
        "      print(s1)\n",
        "    print(n1)\n",
        "\n",
        "f1(\"A\",\"B\",10,20,n1=30)"
      ],
      "metadata": {
        "colab": {
          "base_uri": "https://localhost:8080/"
        },
        "id": "mPgsbC-HJniY",
        "outputId": "00467a83-9e34-417a-9c9b-62830fd41495"
      },
      "execution_count": 77,
      "outputs": [
        {
          "output_type": "stream",
          "name": "stdout",
          "text": [
            "A\n",
            "B\n",
            "10\n",
            "20\n",
            "30\n"
          ]
        }
      ]
    },
    {
      "cell_type": "markdown",
      "source": [
        "# Declare key word variable length arguments."
      ],
      "metadata": {
        "id": "a3974PxIJ6lx"
      }
    },
    {
      "cell_type": "code",
      "source": [
        "def teams(**IPL):\n",
        "  for i,j in IPL.items():\n",
        "    print(i,'=',j)"
      ],
      "metadata": {
        "id": "kTBFSlZcJ_qH"
      },
      "execution_count": 79,
      "outputs": []
    },
    {
      "cell_type": "code",
      "source": [
        "teams (RCB=10,DC=30)"
      ],
      "metadata": {
        "colab": {
          "base_uri": "https://localhost:8080/"
        },
        "id": "RXOqgf2ZKXcu",
        "outputId": "40670ddf-af16-4138-91b8-ef46ffea449a"
      },
      "execution_count": 80,
      "outputs": [
        {
          "output_type": "stream",
          "name": "stdout",
          "text": [
            "RCB = 10\n",
            "DC = 30\n"
          ]
        }
      ]
    },
    {
      "cell_type": "markdown",
      "source": [
        "### Note : Function vs Module vs Library\n",
        "A group of lines with some name is called a function\n",
        "\n",
        "A group of functions saved to a file, is called Module\n",
        "\n",
        "A group of Modules is nothing but Library"
      ],
      "metadata": {
        "id": "-3DMUbZiK_Zf"
      }
    },
    {
      "cell_type": "markdown",
      "source": [
        "## Types of Variables\n",
        "Python supports 2 types of variables.\n",
        "\n",
        "Global Variables\n",
        "Local Variables"
      ],
      "metadata": {
        "id": "V90jeCLOLMs_"
      }
    },
    {
      "cell_type": "code",
      "source": [
        "# global variables define outside the function\n",
        "\n",
        "x= 15\n",
        "def sum():\n",
        "  b=22\n",
        "  print(x+b)"
      ],
      "metadata": {
        "id": "mIT1YPvXLOQn"
      },
      "execution_count": 83,
      "outputs": []
    },
    {
      "cell_type": "code",
      "source": [
        "sum()"
      ],
      "metadata": {
        "colab": {
          "base_uri": "https://localhost:8080/"
        },
        "id": "CgGpxwfPLV6Y",
        "outputId": "79abf46a-de93-4e18-9212-871775d66861"
      },
      "execution_count": 84,
      "outputs": [
        {
          "output_type": "stream",
          "name": "stdout",
          "text": [
            "37\n"
          ]
        }
      ]
    },
    {
      "cell_type": "code",
      "source": [
        "# local variabls deines inside the function.\n",
        "def f1():\n",
        "    a=20\n",
        "    print(a)"
      ],
      "metadata": {
        "id": "jQOXvToTLlAm"
      },
      "execution_count": 85,
      "outputs": []
    },
    {
      "cell_type": "code",
      "source": [
        "f1()"
      ],
      "metadata": {
        "colab": {
          "base_uri": "https://localhost:8080/"
        },
        "id": "Rs2V_dIKLxmf",
        "outputId": "719950ec-b6c2-4609-c6bc-9203aab26545"
      },
      "execution_count": 86,
      "outputs": [
        {
          "output_type": "stream",
          "name": "stdout",
          "text": [
            "20\n"
          ]
        }
      ]
    },
    {
      "cell_type": "code",
      "source": [
        "def a():\n",
        "    b= \"IPL\"\n",
        "    print(b) \n",
        "\n",
        "a()"
      ],
      "metadata": {
        "colab": {
          "base_uri": "https://localhost:8080/"
        },
        "id": "HwmLW6OZMCoQ",
        "outputId": "07dec686-82b4-4c5f-83c5-927a58ee2eba"
      },
      "execution_count": 87,
      "outputs": [
        {
          "output_type": "stream",
          "name": "stdout",
          "text": [
            "IPL\n"
          ]
        }
      ]
    },
    {
      "cell_type": "code",
      "source": [
        "b=\"Matches\"\n",
        "a()\n",
        "print(b)"
      ],
      "metadata": {
        "colab": {
          "base_uri": "https://localhost:8080/"
        },
        "id": "p3xRTUD7MLnI",
        "outputId": "bebd0926-cff5-4bbf-8ae5-ae4a2e2bb9a4"
      },
      "execution_count": 88,
      "outputs": [
        {
          "output_type": "stream",
          "name": "stdout",
          "text": [
            "IPL\n",
            "Matches\n"
          ]
        }
      ]
    },
    {
      "cell_type": "code",
      "source": [
        "a= 100 #global variable\n",
        "def function():\n",
        "  a=66  #local variable\n",
        "  print(a)"
      ],
      "metadata": {
        "id": "LnQkv64fNAKH"
      },
      "execution_count": 90,
      "outputs": []
    },
    {
      "cell_type": "code",
      "source": [
        "function()"
      ],
      "metadata": {
        "colab": {
          "base_uri": "https://localhost:8080/"
        },
        "id": "z0Y2h7q0NLfO",
        "outputId": "baea4ec9-a42c-4d9f-cb36-c1942aab2a24"
      },
      "execution_count": 91,
      "outputs": [
        {
          "output_type": "stream",
          "name": "stdout",
          "text": [
            "66\n"
          ]
        }
      ]
    },
    {
      "cell_type": "code",
      "source": [
        "\"\"\"Note: If global variable and local variable having the same name then we can access\n",
        "  global variable inside a function \"\"\"\n",
        "\n",
        "a = 100\n",
        "def function():\n",
        "    a=66\n",
        "    print(a)\n",
        "    print(globals()['a'])\n"
      ],
      "metadata": {
        "id": "tiiVvNWgMW_o"
      },
      "execution_count": 92,
      "outputs": []
    },
    {
      "cell_type": "code",
      "source": [
        "function()"
      ],
      "metadata": {
        "colab": {
          "base_uri": "https://localhost:8080/"
        },
        "id": "cFXD8KEXNQO3",
        "outputId": "a77d1139-2eae-411c-e437-7d6775cbbc05"
      },
      "execution_count": 93,
      "outputs": [
        {
          "output_type": "stream",
          "name": "stdout",
          "text": [
            "66\n",
            "100\n"
          ]
        }
      ]
    },
    {
      "cell_type": "markdown",
      "source": [
        "### Recursive Function:\n",
        "A function that calls itself is known as Recursive Function.\n",
        "\n",
        "Main advantages of recursive functions are:\n",
        "\n",
        "We can reduce length of the code and improves readability.\n",
        "We can solve complex problems very easily. E.g.\n",
        "factorial(3) = 3 * factorial(2)\n",
        "\n",
        "= 3 2 factorial(1)\n",
        "\n",
        "=321*factorial(0)\n",
        "\n",
        "=321*1\n",
        "\n",
        "=6\n",
        "\n",
        "factorial(n) = n * factorial(n-1"
      ],
      "metadata": {
        "id": "_53N6A_5NVKb"
      }
    },
    {
      "cell_type": "code",
      "source": [
        "'''Write a Python Function to find Factorial of given\n",
        "  Number with Recursion'''\n",
        "\n",
        "def fact(n):\n",
        "  if n==0:\n",
        "    result=1\n",
        "  else:\n",
        "    result= n*fact(n-1)\n",
        "  return result"
      ],
      "metadata": {
        "id": "4cXcpIRRNW4P"
      },
      "execution_count": 94,
      "outputs": []
    },
    {
      "cell_type": "code",
      "source": [
        "fact(3)"
      ],
      "metadata": {
        "colab": {
          "base_uri": "https://localhost:8080/"
        },
        "id": "bcWQHJV8Npqm",
        "outputId": "5e73a593-154b-4773-b0bd-be655a24d68b"
      },
      "execution_count": 95,
      "outputs": [
        {
          "output_type": "execute_result",
          "data": {
            "text/plain": [
              "6"
            ]
          },
          "metadata": {},
          "execution_count": 95
        }
      ]
    },
    {
      "cell_type": "code",
      "source": [
        "fact(6)"
      ],
      "metadata": {
        "colab": {
          "base_uri": "https://localhost:8080/"
        },
        "id": "MabJkJdaNw8X",
        "outputId": "0019d076-434c-4d2b-8272-c7b2938dcf2f"
      },
      "execution_count": 96,
      "outputs": [
        {
          "output_type": "execute_result",
          "data": {
            "text/plain": [
              "720"
            ]
          },
          "metadata": {},
          "execution_count": 96
        }
      ]
    },
    {
      "cell_type": "code",
      "source": [
        "print(\"fact-6 is :\",fact(6))"
      ],
      "metadata": {
        "colab": {
          "base_uri": "https://localhost:8080/"
        },
        "id": "bLA7COu0N0xo",
        "outputId": "a14a7429-92b6-4e4d-c7b7-4bc4126a5fb3"
      },
      "execution_count": 97,
      "outputs": [
        {
          "output_type": "stream",
          "name": "stdout",
          "text": [
            "fact-6 is : 720\n"
          ]
        }
      ]
    }
  ]
}