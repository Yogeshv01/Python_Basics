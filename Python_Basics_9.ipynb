{
  "nbformat": 4,
  "nbformat_minor": 0,
  "metadata": {
    "colab": {
      "name": "Python_Basics_9.ipynb",
      "provenance": [],
      "authorship_tag": "ABX9TyNmYKOWNsZKoTJmEZBlOigi",
      "include_colab_link": true
    },
    "kernelspec": {
      "name": "python3",
      "display_name": "Python 3"
    },
    "language_info": {
      "name": "python"
    }
  },
  "cells": [
    {
      "cell_type": "markdown",
      "metadata": {
        "id": "view-in-github",
        "colab_type": "text"
      },
      "source": [
        "<a href=\"https://colab.research.google.com/github/Yogeshv01/Python_Basics/blob/main/Python_Basics_9.ipynb\" target=\"_parent\"><img src=\"https://colab.research.google.com/assets/colab-badge.svg\" alt=\"Open In Colab\"/></a>"
      ]
    },
    {
      "cell_type": "markdown",
      "source": [
        "1.We can use List, Tuple and Set to represent a group of individual objects as a single entity\n",
        "\n",
        "2.If we want to represent a group of objects as key-value pairs then we should go for Dictionary.\n",
        "\n",
        "3.Duplicate keys are not allowed but values can be duplicated.\n",
        "\n",
        "4.Hetrogeneous objects are allowed for both key and values.\n",
        "\n",
        "5.Insertion order is not preserved.\n",
        "\n",
        "6.Dictionaries are mutable.\n",
        "\n",
        "7.Indexing and slicing concepts are not applicable.\n"
      ],
      "metadata": {
        "id": "QSueDcvuME5Y"
      }
    },
    {
      "cell_type": "code",
      "source": [
        "# Creating a empty dictionary\n",
        "# Syntax: d={} OR d=dict()\n",
        "d = {}\n",
        "d[1] = \"Python\"      # '1'  is the key & 'Python' is the value \n",
        "d[2] = \"machine learning\"\n",
        "d[3] = \"SQL\"\n",
        "d[4] = \"HTML\"\n",
        "print(d)"
      ],
      "metadata": {
        "colab": {
          "base_uri": "https://localhost:8080/"
        },
        "id": "3h1I1bqaM93K",
        "outputId": "95103f9d-ea62-4591-89eb-ee483a40a185"
      },
      "execution_count": null,
      "outputs": [
        {
          "output_type": "stream",
          "name": "stdout",
          "text": [
            "{1: 'Python', 2: 'machine learning', 3: 'SQL', 4: 'HTML'}\n"
          ]
        }
      ]
    },
    {
      "cell_type": "markdown",
      "source": [
        "### How to access data from the dictionary?"
      ],
      "metadata": {
        "id": "op8_G_SjNXz2"
      }
    },
    {
      "cell_type": "code",
      "source": [
        "print(d[2])\n",
        "d[1]"
      ],
      "metadata": {
        "colab": {
          "base_uri": "https://localhost:8080/",
          "height": 53
        },
        "id": "h9Bc5OhJNaoW",
        "outputId": "49bdb12a-db72-4357-de34-ae7f2c2893be"
      },
      "execution_count": 2,
      "outputs": [
        {
          "output_type": "stream",
          "name": "stdout",
          "text": [
            "machine learning\n"
          ]
        },
        {
          "output_type": "execute_result",
          "data": {
            "text/plain": [
              "'Python'"
            ],
            "application/vnd.google.colaboratory.intrinsic+json": {
              "type": "string"
            }
          },
          "metadata": {},
          "execution_count": 2
        }
      ]
    },
    {
      "cell_type": "markdown",
      "source": [
        "### How to Update Dictionaries?\n",
        "\n",
        "$ syntax: d[key] = value\n",
        "\n",
        "$ If the key is not available then a new entry will be added to the dictionary with the specified key-value pair.\n",
        "\n",
        "$ If the key is already available then old value will be replaced with new value\n",
        "\n"
      ],
      "metadata": {
        "id": "j29LI0yZNj1W"
      }
    },
    {
      "cell_type": "code",
      "source": [
        "\n",
        "print(d)\n",
        "d[5] = 'Java'    #new entry added in dict\n",
        "d"
      ],
      "metadata": {
        "colab": {
          "base_uri": "https://localhost:8080/"
        },
        "id": "CijOfemxNlFX",
        "outputId": "9d49d53d-b0f9-48f4-afe9-573dafb8cffe"
      },
      "execution_count": 3,
      "outputs": [
        {
          "output_type": "stream",
          "name": "stdout",
          "text": [
            "{1: 'Python', 2: 'machine learning', 3: 'SQL', 4: 'HTML'}\n"
          ]
        },
        {
          "output_type": "execute_result",
          "data": {
            "text/plain": [
              "{1: 'Python', 2: 'machine learning', 3: 'SQL', 4: 'HTML', 5: 'Java'}"
            ]
          },
          "metadata": {},
          "execution_count": 3
        }
      ]
    },
    {
      "cell_type": "code",
      "source": [
        "\n",
        "d[4] = 'C++'    #old value will be replaced with new value\n",
        "d"
      ],
      "metadata": {
        "colab": {
          "base_uri": "https://localhost:8080/"
        },
        "id": "t1UPflQ3N_dI",
        "outputId": "ee4f0517-e282-4b7f-8bab-58500927ced7"
      },
      "execution_count": 4,
      "outputs": [
        {
          "output_type": "execute_result",
          "data": {
            "text/plain": [
              "{1: 'Python', 2: 'machine learning', 3: 'SQL', 4: 'C++', 5: 'Java'}"
            ]
          },
          "metadata": {},
          "execution_count": 4
        }
      ]
    },
    {
      "cell_type": "markdown",
      "source": [
        "### How to Delete Elements from Dictionary?"
      ],
      "metadata": {
        "id": "3etwOG_KODmo"
      }
    },
    {
      "cell_type": "code",
      "source": [
        "print(d)\n",
        "del d[3]\n",
        "d"
      ],
      "metadata": {
        "colab": {
          "base_uri": "https://localhost:8080/",
          "height": 217
        },
        "id": "fMGWYJREOIF-",
        "outputId": "c6a76b66-31db-4304-a7b9-a22d5f58abf4"
      },
      "execution_count": 7,
      "outputs": [
        {
          "output_type": "stream",
          "name": "stdout",
          "text": [
            "{1: 'Python', 2: 'machine learning', 4: 'C++', 5: 'Java'}\n"
          ]
        },
        {
          "output_type": "error",
          "ename": "KeyError",
          "evalue": "ignored",
          "traceback": [
            "\u001b[0;31m---------------------------------------------------------------------------\u001b[0m",
            "\u001b[0;31mKeyError\u001b[0m                                  Traceback (most recent call last)",
            "\u001b[0;32m<ipython-input-7-b40b17b6c0d4>\u001b[0m in \u001b[0;36m<module>\u001b[0;34m()\u001b[0m\n\u001b[1;32m      1\u001b[0m \u001b[0mprint\u001b[0m\u001b[0;34m(\u001b[0m\u001b[0md\u001b[0m\u001b[0;34m)\u001b[0m\u001b[0;34m\u001b[0m\u001b[0;34m\u001b[0m\u001b[0m\n\u001b[0;32m----> 2\u001b[0;31m \u001b[0;32mdel\u001b[0m \u001b[0md\u001b[0m\u001b[0;34m[\u001b[0m\u001b[0;36m3\u001b[0m\u001b[0;34m]\u001b[0m\u001b[0;34m\u001b[0m\u001b[0;34m\u001b[0m\u001b[0m\n\u001b[0m\u001b[1;32m      3\u001b[0m \u001b[0md\u001b[0m\u001b[0;34m\u001b[0m\u001b[0;34m\u001b[0m\u001b[0m\n",
            "\u001b[0;31mKeyError\u001b[0m: 3"
          ]
        }
      ]
    },
    {
      "cell_type": "code",
      "source": [
        "print(d)\n",
        "\n",
        "d.clear()\n",
        "d"
      ],
      "metadata": {
        "colab": {
          "base_uri": "https://localhost:8080/"
        },
        "id": "x2wRlP4TOfxr",
        "outputId": "0cab20ea-280c-49d0-f793-59ef28d2b8f0"
      },
      "execution_count": 8,
      "outputs": [
        {
          "output_type": "stream",
          "name": "stdout",
          "text": [
            "{1: 'Python', 2: 'machine learning', 4: 'C++', 5: 'Java'}\n"
          ]
        },
        {
          "output_type": "execute_result",
          "data": {
            "text/plain": [
              "{}"
            ]
          },
          "metadata": {},
          "execution_count": 8
        }
      ]
    },
    {
      "cell_type": "code",
      "source": [
        "\n",
        "d = {1: 'Python', 2: 'machine learning', 3: 'SQL', 4: 'HTML', 5: 'java'}\n",
        "print(d)\n",
        "del d\n",
        "d"
      ],
      "metadata": {
        "colab": {
          "base_uri": "https://localhost:8080/",
          "height": 217
        },
        "id": "wrIBBqvKOosG",
        "outputId": "e9415f35-9885-447b-893f-79aa32d024e8"
      },
      "execution_count": 14,
      "outputs": [
        {
          "output_type": "stream",
          "name": "stdout",
          "text": [
            "{1: 'Python', 2: 'machine learning', 3: 'SQL', 4: 'HTML', 5: 'java'}\n"
          ]
        },
        {
          "output_type": "error",
          "ename": "NameError",
          "evalue": "ignored",
          "traceback": [
            "\u001b[0;31m---------------------------------------------------------------------------\u001b[0m",
            "\u001b[0;31mNameError\u001b[0m                                 Traceback (most recent call last)",
            "\u001b[0;32m<ipython-input-14-680250863b47>\u001b[0m in \u001b[0;36m<module>\u001b[0;34m()\u001b[0m\n\u001b[1;32m      3\u001b[0m \u001b[0mprint\u001b[0m\u001b[0;34m(\u001b[0m\u001b[0md\u001b[0m\u001b[0;34m)\u001b[0m\u001b[0;34m\u001b[0m\u001b[0;34m\u001b[0m\u001b[0m\n\u001b[1;32m      4\u001b[0m \u001b[0;32mdel\u001b[0m \u001b[0md\u001b[0m\u001b[0;34m\u001b[0m\u001b[0;34m\u001b[0m\u001b[0m\n\u001b[0;32m----> 5\u001b[0;31m \u001b[0md\u001b[0m\u001b[0;34m\u001b[0m\u001b[0;34m\u001b[0m\u001b[0m\n\u001b[0m",
            "\u001b[0;31mNameError\u001b[0m: name 'd' is not defined"
          ]
        }
      ]
    },
    {
      "cell_type": "markdown",
      "source": [
        "### Important Functions of Dictionary"
      ],
      "metadata": {
        "id": "-38CvHF_O-42"
      }
    },
    {
      "cell_type": "code",
      "source": [
        "d = dict()\n",
        "print(type(d))\n",
        "print(id(d))"
      ],
      "metadata": {
        "colab": {
          "base_uri": "https://localhost:8080/"
        },
        "id": "7OaOo-BuPC3v",
        "outputId": "40bc1029-c425-4cc4-daa3-9d57be248b0d"
      },
      "execution_count": 15,
      "outputs": [
        {
          "output_type": "stream",
          "name": "stdout",
          "text": [
            "<class 'dict'>\n",
            "140385774945536\n"
          ]
        }
      ]
    },
    {
      "cell_type": "code",
      "source": [
        "# How to add elemets inside dict function:\n",
        "d = dict([(1,'Python'),(2,'SQL'),(3,'HTML'),(4,'Machine Learning')])\n",
        "d"
      ],
      "metadata": {
        "colab": {
          "base_uri": "https://localhost:8080/"
        },
        "id": "3f2Uook4PMCW",
        "outputId": "f74cc20a-53ba-4632-ff38-851aa62984b4"
      },
      "execution_count": 16,
      "outputs": [
        {
          "output_type": "execute_result",
          "data": {
            "text/plain": [
              "{1: 'Python', 2: 'SQL', 3: 'HTML', 4: 'Machine Learning'}"
            ]
          },
          "metadata": {},
          "execution_count": 16
        }
      ]
    },
    {
      "cell_type": "code",
      "source": [
        "len (d)"
      ],
      "metadata": {
        "colab": {
          "base_uri": "https://localhost:8080/"
        },
        "id": "4LYvUA1dPO_Q",
        "outputId": "cbd41f04-02f3-43ba-fdc0-c460c7b33495"
      },
      "execution_count": 17,
      "outputs": [
        {
          "output_type": "execute_result",
          "data": {
            "text/plain": [
              "4"
            ]
          },
          "metadata": {},
          "execution_count": 17
        }
      ]
    },
    {
      "cell_type": "code",
      "source": [
        "#3. get(): to get the value associated with the key:\n",
        "# Syntax: d.get(key)\n",
        "# If the key is available then returns the corresponding value otherwise returns None.It\n",
        "# wont raise any error.'''\n",
        "d.get(4)"
      ],
      "metadata": {
        "id": "hTuGTIUoPThH"
      },
      "execution_count": null,
      "outputs": []
    },
    {
      "cell_type": "markdown",
      "source": [
        "### Below functions can be used to access dictionary items (both key and value).\n",
        "get(): This function returns the value for the given key\n",
        "\n",
        "keys(): This function returns a view object that displays a list of all the keys in the dictionary in order of insertion\n",
        "\n",
        "values(): This function returns a list of all the values available in a given dictionary\n",
        "\n",
        "items(): This function returns the list with all dictionary keys with values\n",
        "\n",
        "clear(): Removes all items from the dictionary\n",
        "\n",
        "copy(): Returns a shallow copy of the dictionary\n",
        "\n",
        "fromkeys(): Creates a dictionary from the given sequence\n",
        "\n",
        "get(): Returns the value for the given key\n",
        "\n",
        "items() Return the list with all dictionary keys with values\n",
        "\n",
        "keys(): Returns a view object that displays a list of all the keys in the dictionary in order of insertion\n",
        "\n",
        "pop(): Returns and removes the element with the given key\n",
        "\n",
        "popitem(): Returns and removes the key-value pair from the dictionary\n",
        "\n",
        "setdefault(): Returns the value of a key if the key is in the dictionary else inserts the key with a value to the dictionary\n",
        "\n",
        "update(): Updates the dictionary with the elements from another dictionary\n",
        "\n",
        "values(): Returns a list of all the values available in a given dictionary"
      ],
      "metadata": {
        "id": "GyxInSd7Wu73"
      }
    },
    {
      "cell_type": "markdown",
      "source": [
        "# **PEP 8**  (Python Enterprise Proposal.)\n",
        "\n",
        "It is a document that provides various guidelines to write the readable in Python. PEP 8 describes how the developer can write beautiful code. It was officially written in 2001 by Guido van Rossum, Barry Warsaw, and Nick Coghlan. The main aim of PEP is to enhance the readability and consistency of code.\n",
        "\n",
        "\n",
        "# **Why PEP 8 is Important?**\n",
        "PEP 8 enhances the readability of the Python code, but why is readability so important? Let's understand this concept.\n",
        "\n",
        "Creator of Python, Guido van Rossum said, \"Code is much more often than it is written.\" The code can be written in a few minutes, a few hours, or a whole day but once we have written the code, we will never rewrite it again. But sometimes, we need to read the code again and again.\n",
        "\n",
        "At this point, we must have an idea of why we wrote the particular line in the code. The code should reflect the meaning of each line. That's why readability is so much important.\n",
        "\n",
        "We will describe few important guidelines for writing effective code that can be read by others as well.\n",
        "\n",
        "Naming Convention\n",
        "When we write the code, we need to assign name to many things such as variables, functions, classes, packages, and a lot more things. Selecting a proper name will save time and energy. When we look back to the file after sometime, we can easily recall what a certain variable, function, or class represents. Developers should avoid choosing inappropriate names.\n",
        "\n",
        "The naming convention in Python is slightly messy, but there are certain conventions that we can follow easily. Let's see the following naming convention.\n",
        "\n",
        "# **Examples-**\n",
        "\n",
        "Single lowerr case letter\n",
        "\n",
        "a = 10  \n",
        "Single upper case letter\n",
        "\n",
        "A = 10  \n",
        "Lowercase\n",
        "\n",
        "var = 10  \n",
        "Lower_case_with_underscores\n",
        "\n",
        "number_of_apple = 5  \n",
        "UPPERCASE\n",
        "\n",
        "VAR = 6  \n",
        "UPPER_CASE_WITH_UNDERSCORES\n",
        "\n",
        "NUM_OF_CARS =20   \n",
        "CapitalizedWords (or CamelCase)\n",
        "\n",
        "NumberOfBooks = 100  "
      ],
      "metadata": {
        "id": "sseDpdoBXC6Q"
      }
    },
    {
      "cell_type": "code",
      "source": [
        ""
      ],
      "metadata": {
        "id": "LJ_bGdl4XEgY"
      },
      "execution_count": null,
      "outputs": []
    }
  ]
}