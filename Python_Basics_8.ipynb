{
  "nbformat": 4,
  "nbformat_minor": 0,
  "metadata": {
    "colab": {
      "name": "Python_Basics_8.ipynb",
      "provenance": [],
      "authorship_tag": "ABX9TyOQkzVf5y15xrPyc10pBffT",
      "include_colab_link": true
    },
    "kernelspec": {
      "name": "python3",
      "display_name": "Python 3"
    },
    "language_info": {
      "name": "python"
    }
  },
  "cells": [
    {
      "cell_type": "markdown",
      "metadata": {
        "id": "view-in-github",
        "colab_type": "text"
      },
      "source": [
        "<a href=\"https://colab.research.google.com/github/Yogeshv01/Python_Basics/blob/main/Python_Basics_8.ipynb\" target=\"_parent\"><img src=\"https://colab.research.google.com/assets/colab-badge.svg\" alt=\"Open In Colab\"/></a>"
      ]
    },
    {
      "cell_type": "markdown",
      "source": [
        "### SETS\n",
        "\n",
        "1. A Set is an unordered collection data type that is iterable, mutable and has no duplicate elements.\n",
        "2. Python’s set class represents the mathematical notion of a set.\n",
        "3. The major advantage of using a set, as opposed to a list, is that it has a highly optimized method for checking whether a specific element is contained in the set. \n",
        "4. This is based on a data structure known as a hash table. \n",
        "5. Since sets are unordered, we cannot access items using indexes like we do in lists.\n",
        "\n",
        "**Imp** : Insertion order is not preserved.\n",
        "          Duplicates Not Allowed"
      ],
      "metadata": {
        "id": "9K_TcBf-aMaE"
      }
    },
    {
      "cell_type": "code",
      "source": [
        "#set\n",
        "s = {20,30,33,44}\n",
        "print(s)"
      ],
      "metadata": {
        "colab": {
          "base_uri": "https://localhost:8080/"
        },
        "id": "tZ9EHLG8a08e",
        "outputId": "db1f7642-997a-49e2-b062-1ee00e808ee0"
      },
      "execution_count": 1,
      "outputs": [
        {
          "output_type": "stream",
          "name": "stdout",
          "text": [
            "{33, 20, 30, 44}\n"
          ]
        }
      ]
    },
    {
      "cell_type": "code",
      "source": [
        "# Creation of set\n",
        "s = [20,30,33,44] #list to set fun x = set(s)\n",
        "\n",
        "x = set(s)\n",
        "x\n"
      ],
      "metadata": {
        "colab": {
          "base_uri": "https://localhost:8080/"
        },
        "id": "t0P3RNR7cZuU",
        "outputId": "b9807442-4dec-4816-dc53-95714385914f"
      },
      "execution_count": 5,
      "outputs": [
        {
          "output_type": "execute_result",
          "data": {
            "text/plain": [
              "{20, 30, 33, 44}"
            ]
          },
          "metadata": {},
          "execution_count": 5
        }
      ]
    },
    {
      "cell_type": "code",
      "source": [
        "# Indexing/Slicing are supported\n",
        "s = {20,30,33,44}\n",
        "\n",
        "s[::-2]"
      ],
      "metadata": {
        "colab": {
          "base_uri": "https://localhost:8080/",
          "height": 200
        },
        "id": "0pBLDePwcw1r",
        "outputId": "13f8baef-5ffb-4658-a484-fb1f909f3ad2"
      },
      "execution_count": 7,
      "outputs": [
        {
          "output_type": "error",
          "ename": "TypeError",
          "evalue": "ignored",
          "traceback": [
            "\u001b[0;31m---------------------------------------------------------------------------\u001b[0m",
            "\u001b[0;31mTypeError\u001b[0m                                 Traceback (most recent call last)",
            "\u001b[0;32m<ipython-input-7-d110d9f4d871>\u001b[0m in \u001b[0;36m<module>\u001b[0;34m()\u001b[0m\n\u001b[1;32m      2\u001b[0m \u001b[0ms\u001b[0m \u001b[0;34m=\u001b[0m \u001b[0;34m{\u001b[0m\u001b[0;36m20\u001b[0m\u001b[0;34m,\u001b[0m\u001b[0;36m30\u001b[0m\u001b[0;34m,\u001b[0m\u001b[0;36m33\u001b[0m\u001b[0;34m,\u001b[0m\u001b[0;36m44\u001b[0m\u001b[0;34m}\u001b[0m\u001b[0;34m\u001b[0m\u001b[0;34m\u001b[0m\u001b[0m\n\u001b[1;32m      3\u001b[0m \u001b[0;34m\u001b[0m\u001b[0m\n\u001b[0;32m----> 4\u001b[0;31m \u001b[0ms\u001b[0m\u001b[0;34m[\u001b[0m\u001b[0;34m:\u001b[0m\u001b[0;34m:\u001b[0m\u001b[0;34m-\u001b[0m\u001b[0;36m2\u001b[0m\u001b[0;34m]\u001b[0m\u001b[0;34m\u001b[0m\u001b[0;34m\u001b[0m\u001b[0m\n\u001b[0m",
            "\u001b[0;31mTypeError\u001b[0m: 'set' object is not subscriptable"
          ]
        }
      ]
    },
    {
      "cell_type": "code",
      "source": [
        "s = set(range(6))\n",
        "s"
      ],
      "metadata": {
        "colab": {
          "base_uri": "https://localhost:8080/"
        },
        "id": "_vA5NC5gdP4q",
        "outputId": "45552d58-32b5-44ac-b03c-50b1e405bc4c"
      },
      "execution_count": 9,
      "outputs": [
        {
          "output_type": "execute_result",
          "data": {
            "text/plain": [
              "{0, 1, 2, 3, 4, 5}"
            ]
          },
          "metadata": {},
          "execution_count": 9
        }
      ]
    },
    {
      "cell_type": "markdown",
      "source": [
        "### Frozen Sets\n",
        "\n",
        "Frozen sets in Python are immutable objects that only support methods and operators that produce a result without affecting the frozen set or sets to which they are applied.\n",
        " While elements of a set can be modified at any time, elements of the frozen set remain the same after creation. \n",
        "If no parameters are passed, it returns an empty frozenset.\n"
      ],
      "metadata": {
        "id": "ssB1tCOGdXH-"
      }
    },
    {
      "cell_type": "code",
      "source": [
        "normal_set = set([\"a\", \"b\",\"c\"])\n",
        " \n",
        "print(\"Normal Set\")\n",
        "print(normal_set)"
      ],
      "metadata": {
        "colab": {
          "base_uri": "https://localhost:8080/"
        },
        "id": "C_KAXkSCddbc",
        "outputId": "3c8752f7-3537-4f67-efd9-c6ca2ca49775"
      },
      "execution_count": 10,
      "outputs": [
        {
          "output_type": "stream",
          "name": "stdout",
          "text": [
            "Normal Set\n",
            "{'a', 'c', 'b'}\n"
          ]
        }
      ]
    },
    {
      "cell_type": "code",
      "source": [
        "frozen_set = frozenset([\"e\", \"f\", \"g\"])\n",
        " \n",
        "print(\"\\nFrozen Set\")\n",
        "print(frozen_set)"
      ],
      "metadata": {
        "colab": {
          "base_uri": "https://localhost:8080/"
        },
        "id": "qGTUIuQ9eo8i",
        "outputId": "a9520aca-449a-49ba-9129-70d5f32054f6"
      },
      "execution_count": 11,
      "outputs": [
        {
          "output_type": "stream",
          "name": "stdout",
          "text": [
            "\n",
            "Frozen Set\n",
            "frozenset({'e', 'g', 'f'})\n"
          ]
        }
      ]
    },
    {
      "cell_type": "markdown",
      "source": [
        "### Functions for Sets"
      ],
      "metadata": {
        "id": "nXsRbJ9sevhu"
      }
    },
    {
      "cell_type": "markdown",
      "source": [
        "Adding elements"
      ],
      "metadata": {
        "id": "oT-isbcbfRc6"
      }
    },
    {
      "cell_type": "code",
      "source": [
        "x = {101,102,103,104}\n",
        "x.add(105)\n",
        "x"
      ],
      "metadata": {
        "colab": {
          "base_uri": "https://localhost:8080/"
        },
        "id": "Kwh3EkA_e1ea",
        "outputId": "6548c198-1f51-4a2b-f82b-e514a982fb2c"
      },
      "execution_count": 12,
      "outputs": [
        {
          "output_type": "execute_result",
          "data": {
            "text/plain": [
              "{101, 102, 103, 104, 105}"
            ]
          },
          "metadata": {},
          "execution_count": 12
        }
      ]
    },
    {
      "cell_type": "markdown",
      "source": [
        "Updating elements"
      ],
      "metadata": {
        "id": "k8UmXIq2fqJz"
      }
    },
    {
      "cell_type": "code",
      "source": [
        "\n",
        "y = {201,202,203,204}\n",
        "x.update(y)\n",
        "x"
      ],
      "metadata": {
        "colab": {
          "base_uri": "https://localhost:8080/"
        },
        "id": "VkFFqTNxfyaz",
        "outputId": "b39e6e16-6619-4015-cdc2-4985e0aef81b"
      },
      "execution_count": 13,
      "outputs": [
        {
          "output_type": "execute_result",
          "data": {
            "text/plain": [
              "{101, 102, 103, 104, 105, 201, 202, 203, 204}"
            ]
          },
          "metadata": {},
          "execution_count": 13
        }
      ]
    },
    {
      "cell_type": "markdown",
      "source": [
        "### What is the difference between add() and update() Functions in Set?\n",
        "\n",
        "We can use add() to add individual item to the Set,where as we can use update() function to add multiple items to Set.\n",
        "add() function can take only one argument where as update() function can take any number of arguments."
      ],
      "metadata": {
        "id": "19MGdaaLgeDs"
      }
    },
    {
      "cell_type": "markdown",
      "source": [
        "Copy/pop/remove/discard/clear Elments\n",
        "\n",
        "\n",
        "\n"
      ],
      "metadata": {
        "id": "VxdjZEJZgp81"
      }
    },
    {
      "cell_type": "code",
      "source": [
        "x\n",
        "y=x.copy()\n",
        "\n",
        "print(x)\n",
        "print(y)"
      ],
      "metadata": {
        "colab": {
          "base_uri": "https://localhost:8080/"
        },
        "id": "NbXBPPoZgsrN",
        "outputId": "9d534338-2159-47df-e7a1-58642b39a0ad"
      },
      "execution_count": 14,
      "outputs": [
        {
          "output_type": "stream",
          "name": "stdout",
          "text": [
            "{101, 102, 103, 104, 105, 201, 202, 203, 204}\n",
            "{101, 102, 103, 104, 105, 201, 202, 203, 204}\n"
          ]
        }
      ]
    },
    {
      "cell_type": "code",
      "source": [
        "y.pop()"
      ],
      "metadata": {
        "colab": {
          "base_uri": "https://localhost:8080/"
        },
        "id": "qcdKH-5VhKp8",
        "outputId": "32d239ca-3686-46cc-8523-1bd32ab4ab7d"
      },
      "execution_count": 15,
      "outputs": [
        {
          "output_type": "execute_result",
          "data": {
            "text/plain": [
              "101"
            ]
          },
          "metadata": {},
          "execution_count": 15
        }
      ]
    },
    {
      "cell_type": "code",
      "source": [
        "\n",
        "x.remove(103)\n",
        "x"
      ],
      "metadata": {
        "colab": {
          "base_uri": "https://localhost:8080/"
        },
        "id": "ynxnnekyhZlK",
        "outputId": "4165806d-0b3e-433e-e414-36288c0aa9b3"
      },
      "execution_count": 16,
      "outputs": [
        {
          "output_type": "execute_result",
          "data": {
            "text/plain": [
              "{101, 102, 104, 105, 201, 202, 203, 204}"
            ]
          },
          "metadata": {},
          "execution_count": 16
        }
      ]
    },
    {
      "cell_type": "code",
      "source": [
        "x.discard(204)\n",
        "x"
      ],
      "metadata": {
        "colab": {
          "base_uri": "https://localhost:8080/"
        },
        "id": "lCo0xHQmhlB8",
        "outputId": "2219fc9e-0cb4-4ed2-ba79-ca17fb8124da"
      },
      "execution_count": 17,
      "outputs": [
        {
          "output_type": "execute_result",
          "data": {
            "text/plain": [
              "{101, 102, 104, 105, 201, 202, 203}"
            ]
          },
          "metadata": {},
          "execution_count": 17
        }
      ]
    },
    {
      "cell_type": "code",
      "source": [
        "x.clear()\n",
        "x"
      ],
      "metadata": {
        "colab": {
          "base_uri": "https://localhost:8080/"
        },
        "id": "Ydwpqh9Xhqar",
        "outputId": "cb7c66fd-fe0c-406a-edd3-9c05a3fd99ad"
      },
      "execution_count": 18,
      "outputs": [
        {
          "output_type": "execute_result",
          "data": {
            "text/plain": [
              "set()"
            ]
          },
          "metadata": {},
          "execution_count": 18
        }
      ]
    },
    {
      "cell_type": "markdown",
      "source": [
        "### Methods for Sets"
      ],
      "metadata": {
        "id": "GSDrLOLJh-Yg"
      }
    },
    {
      "cell_type": "markdown",
      "source": [
        "Method\tDescription\n",
        "add()\tAdds an element to the set\n",
        "\n",
        "clear()\tRemoves all the elements from the set\n",
        "\n",
        "copy()\tReturns a copy of the set\n",
        "\n",
        "difference()\tReturns a set containing the difference between two or more sets\n",
        "\n",
        "difference_update()\tRemoves the items in this set that are also included in another, specified set\n",
        "\n",
        "discard()\tRemove the specified item\n",
        "\n",
        "intersection()\tReturns a set, that is the intersection of two other sets\n",
        "\n",
        "intersection_update()\tRemoves the items in this set that are not present in other, specified set(s)\n",
        "\n",
        "pop()\tRemoves an element from the set\n",
        "\n",
        "remove()\tRemoves the specified element\n",
        "\n",
        "symmetric_difference()\tReturns a set with the symmetric differences of two sets\n",
        "\n",
        "symmetric_difference_update()\tinserts the symmetric differences from this set and another\n",
        "\n",
        "union()\tReturn a set containing the union of sets\n",
        "\n",
        "update()\tUpdate the set with the union of this set and others\n"
      ],
      "metadata": {
        "id": "B4DgK5HDiAV1"
      }
    },
    {
      "cell_type": "code",
      "source": [
        "x = {111,222,333,444,666,'Akash'}\n",
        "y = {333,666,777,'Aki'}\n",
        "x.union(y)\n",
        "#x|y\n"
      ],
      "metadata": {
        "colab": {
          "base_uri": "https://localhost:8080/"
        },
        "id": "bdzFz051iINc",
        "outputId": "85496add-131e-4e55-e2b7-d19e8026642e"
      },
      "execution_count": 38,
      "outputs": [
        {
          "output_type": "execute_result",
          "data": {
            "text/plain": [
              "{111, 222, 333, 444, 666, 777, 'Akash', 'Aki'}"
            ]
          },
          "metadata": {},
          "execution_count": 38
        }
      ]
    },
    {
      "cell_type": "code",
      "source": [
        "y.union(x)\n",
        "#y|x"
      ],
      "metadata": {
        "colab": {
          "base_uri": "https://localhost:8080/"
        },
        "id": "nOZ3gnjwjWjr",
        "outputId": "85e5fb78-4877-4365-f278-2a60b82658d6"
      },
      "execution_count": 39,
      "outputs": [
        {
          "output_type": "execute_result",
          "data": {
            "text/plain": [
              "{111, 222, 333, 444, 666, 777, 'Akash', 'Aki'}"
            ]
          },
          "metadata": {},
          "execution_count": 39
        }
      ]
    },
    {
      "cell_type": "code",
      "source": [
        "x.intersection(y)\n",
        "#x&y"
      ],
      "metadata": {
        "colab": {
          "base_uri": "https://localhost:8080/"
        },
        "id": "clzPvjSujqdD",
        "outputId": "b9828967-d3dc-4efb-bf79-c0af5dd6b41c"
      },
      "execution_count": 41,
      "outputs": [
        {
          "output_type": "execute_result",
          "data": {
            "text/plain": [
              "{333, 666}"
            ]
          },
          "metadata": {},
          "execution_count": 41
        }
      ]
    },
    {
      "cell_type": "code",
      "source": [
        "x.difference(y)\n",
        "#x-y"
      ],
      "metadata": {
        "colab": {
          "base_uri": "https://localhost:8080/"
        },
        "id": "6dse_A56kbha",
        "outputId": "93bcfe03-12d1-4fa1-f15d-22f066a62106"
      },
      "execution_count": 43,
      "outputs": [
        {
          "output_type": "execute_result",
          "data": {
            "text/plain": [
              "{111, 222, 444, 'Akash'}"
            ]
          },
          "metadata": {},
          "execution_count": 43
        }
      ]
    },
    {
      "cell_type": "code",
      "source": [
        "#x.symmetric_difference(y)\n",
        "(x^y)"
      ],
      "metadata": {
        "colab": {
          "base_uri": "https://localhost:8080/"
        },
        "id": "ZYIMjH7CkjUK",
        "outputId": "db0d8f75-5c61-4e0a-ecd1-874402593127"
      },
      "execution_count": 46,
      "outputs": [
        {
          "output_type": "execute_result",
          "data": {
            "text/plain": [
              "{111, 222, 444, 777, 'Akash', 'Aki'}"
            ]
          },
          "metadata": {},
          "execution_count": 46
        }
      ]
    },
    {
      "cell_type": "markdown",
      "source": [
        "# Membership operator (in , not in)\n",
        "\n",
        "in = Evaluates to true if it finds a variable in the specified sequence and false otherwise.\n",
        "\n",
        "not in = Evaluates to true if it does not finds a variable in the specified sequence and false otherwise."
      ],
      "metadata": {
        "id": "CLlo8c6BkvUT"
      }
    },
    {
      "cell_type": "code",
      "source": [
        "a = 10\n",
        "b = 2\n",
        "set = {1, 2, 3, 4, 5 };\n",
        "\n",
        "if ( a in set ):\n",
        "   print (\"Line 1 - a is available in the given set\")\n",
        "else:\n",
        "   print (\"Line 1 - a is not available in the given set\")\n",
        "\n",
        "if ( b not in set ):\n",
        "   print (\"Line 2 - b is not available in the given set\")\n",
        "else:\n",
        "   print (\"Line 2 - b is available in the given set\")\n"
      ],
      "metadata": {
        "colab": {
          "base_uri": "https://localhost:8080/"
        },
        "id": "cz6ggE47lEia",
        "outputId": "dca4ec5f-6ebe-447d-f074-c24ec4c0a951"
      },
      "execution_count": 51,
      "outputs": [
        {
          "output_type": "stream",
          "name": "stdout",
          "text": [
            "Line 1 - a is not available in the given set\n",
            "Line 2 - b is available in the given set\n"
          ]
        }
      ]
    },
    {
      "cell_type": "markdown",
      "source": [
        "set comprehention"
      ],
      "metadata": {
        "id": "3naM0_fqnIZi"
      }
    },
    {
      "cell_type": "code",
      "source": [
        "x = {s*s for s in range (0,100,15)} #squr in range of 0,15,30,45,...90\n",
        "x"
      ],
      "metadata": {
        "colab": {
          "base_uri": "https://localhost:8080/"
        },
        "id": "sw1axjPrnJ5l",
        "outputId": "0d9a2f0d-a914-4066-febf-38e079fc1414"
      },
      "execution_count": 52,
      "outputs": [
        {
          "output_type": "execute_result",
          "data": {
            "text/plain": [
              "{0, 225, 900, 2025, 3600, 5625, 8100}"
            ]
          },
          "metadata": {},
          "execution_count": 52
        }
      ]
    },
    {
      "cell_type": "markdown",
      "source": [
        "## Q) Write a Program to eliminate Duplicates Present in the List?"
      ],
      "metadata": {
        "id": "_E2pO5ffnQo6"
      }
    },
    {
      "cell_type": "code",
      "source": [
        "Info1=[101,201,301,301,401,501,501,601]\n",
        "Output=[]\n",
        "for i in Info1:\n",
        "  if i not in Output:\n",
        "    Output.append(i)\n",
        "\n",
        "print(Output)"
      ],
      "metadata": {
        "colab": {
          "base_uri": "https://localhost:8080/"
        },
        "id": "OIn0NWUFnTmK",
        "outputId": "76762d5f-b8a4-4537-a6ac-d728bbded860"
      },
      "execution_count": 54,
      "outputs": [
        {
          "output_type": "stream",
          "name": "stdout",
          "text": [
            "[101, 201, 301, 401, 501, 601]\n"
          ]
        }
      ]
    },
    {
      "cell_type": "markdown",
      "source": [
        "Write a Program to Print different Vowels Present in the given Word?(Using intersection method"
      ],
      "metadata": {
        "id": "xSSx_rbUoy9z"
      }
    },
    {
      "cell_type": "code",
      "source": [
        "x = \"data scientist\"\n",
        "y = ['a','e','i','o','u']\n",
        "for i in x:\n",
        "  if i in y:\n",
        "    print(i,end=\"\\t\")"
      ],
      "metadata": {
        "colab": {
          "base_uri": "https://localhost:8080/"
        },
        "id": "Ztj0m-vZo077",
        "outputId": "8db8128d-7041-4393-a7cb-f9338a603658"
      },
      "execution_count": 55,
      "outputs": [
        {
          "output_type": "stream",
          "name": "stdout",
          "text": [
            "a\ta\ti\te\ti\t"
          ]
        }
      ]
    },
    {
      "cell_type": "markdown",
      "source": [
        "### UTF - 8\n",
        "**UTF-8** is one of the most commonly used encodings, and Python often defaults to using it. UTF stands for “Unicode Transformation Format”, and the ‘8’ means that 8-bit values are used in the encoding.\n",
        "\n",
        "**UTF-8** uses the following rules:\n",
        "\n",
        "If the code point is < 128, it’s represented by the corresponding byte value.\n",
        "\n",
        "If the code point is >= 128, it’s turned into a sequence of two, three, or four bytes, where each byte of the sequence is between 128 and 255.\n",
        "\n",
        "**UTF-8** has several convenient properties:\n",
        "\n",
        "It can handle any Unicode code point.\n",
        "\n",
        "A Unicode string is turned into a sequence of bytes that contains embedded zero bytes only where they represent the null character (U+0000). This means that UTF-8 strings can be processed by C functions such as strcpy() and sent through protocols that can’t handle zero bytes for anything other than end-of-string markers.\n",
        "\n",
        "A string of ASCII text is also valid UTF-8 text.\n",
        "\n",
        "**UTF-8** is fairly compact; the majority of commonly used characters can be represented with one or two bytes.\n",
        "\n",
        "If bytes are corrupted or lost, it’s possible to determine the start of the next UTF-8-encoded code point and resynchronize. It’s also unlikely that random 8-bit data will look like valid UTF-8.\n",
        "\n",
        "**UTF-8** is a byte oriented encoding. The encoding specifies that each character is represented by a specific sequence of one or more bytes. This avoids the byte-ordering issues that can occur with integer and word oriented encodings, like UTF-16 and UTF-32, where the sequence of bytes varies depending on the hardware on which the string was encoded."
      ],
      "metadata": {
        "id": "Sw8ZZxDHocTa"
      }
    }
  ]
}